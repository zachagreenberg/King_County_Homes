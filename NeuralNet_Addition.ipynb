{
 "cells": [
  {
   "cell_type": "markdown",
   "metadata": {},
   "source": [
    "# Addition of a Neural Network Model"
   ]
  },
  {
   "cell_type": "markdown",
   "metadata": {},
   "source": [
    "After creating the previous three models for consideration, I decided to go back and take a look at the possibility of adding a fourth model. I wanted to see if I can use a model with Deep Neural Networks for a more realistic assessment of housing prices. I was able to reach my goal of coming under $200000, but I believe that I can do even better with the use of a neural network. I am going to bring in my cleaned data so that I can go right into the modeling process. "
   ]
  },
  {
   "cell_type": "markdown",
   "metadata": {},
   "source": [
    "# Importing Libraries"
   ]
  },
  {
   "cell_type": "code",
   "execution_count": 1,
   "metadata": {},
   "outputs": [],
   "source": [
    "import keras\n",
    "import numpy as np\n",
    "import pandas as pd"
   ]
  },
  {
   "cell_type": "markdown",
   "metadata": {},
   "source": [
    "# Bringing in the Cleaned Dataset"
   ]
  },
  {
   "cell_type": "code",
   "execution_count": 2,
   "metadata": {},
   "outputs": [],
   "source": [
    "import pickle\n",
    "\n",
    "#bringing in the cleaned\n",
    "infile = open(\"Data/cleaned_data.pickle\",'rb')\n",
    "df = pickle.load(infile)\n",
    "infile.close()"
   ]
  },
  {
   "cell_type": "code",
   "execution_count": 3,
   "metadata": {},
   "outputs": [
    {
     "data": {
      "text/html": [
       "<div>\n",
       "<style scoped>\n",
       "    .dataframe tbody tr th:only-of-type {\n",
       "        vertical-align: middle;\n",
       "    }\n",
       "\n",
       "    .dataframe tbody tr th {\n",
       "        vertical-align: top;\n",
       "    }\n",
       "\n",
       "    .dataframe thead th {\n",
       "        text-align: right;\n",
       "    }\n",
       "</style>\n",
       "<table border=\"1\" class=\"dataframe\">\n",
       "  <thead>\n",
       "    <tr style=\"text-align: right;\">\n",
       "      <th></th>\n",
       "      <th>price</th>\n",
       "      <th>bedrooms</th>\n",
       "      <th>bathrooms</th>\n",
       "      <th>sqft_living</th>\n",
       "      <th>floors</th>\n",
       "      <th>waterfront</th>\n",
       "      <th>sqft_above</th>\n",
       "      <th>sqft_basement</th>\n",
       "      <th>sqft_living15</th>\n",
       "      <th>log_yard</th>\n",
       "      <th>...</th>\n",
       "      <th>zipcode_98146</th>\n",
       "      <th>zipcode_98148</th>\n",
       "      <th>zipcode_98155</th>\n",
       "      <th>zipcode_98166</th>\n",
       "      <th>zipcode_98168</th>\n",
       "      <th>zipcode_98177</th>\n",
       "      <th>zipcode_98178</th>\n",
       "      <th>zipcode_98188</th>\n",
       "      <th>zipcode_98198</th>\n",
       "      <th>zipcode_98199</th>\n",
       "    </tr>\n",
       "  </thead>\n",
       "  <tbody>\n",
       "    <tr>\n",
       "      <th>0</th>\n",
       "      <td>365000.0</td>\n",
       "      <td>4.0</td>\n",
       "      <td>2.0</td>\n",
       "      <td>2070.0</td>\n",
       "      <td>2.0</td>\n",
       "      <td>0</td>\n",
       "      <td>2070.0</td>\n",
       "      <td>0</td>\n",
       "      <td>2390</td>\n",
       "      <td>8.969287</td>\n",
       "      <td>...</td>\n",
       "      <td>0</td>\n",
       "      <td>0</td>\n",
       "      <td>0</td>\n",
       "      <td>0</td>\n",
       "      <td>0</td>\n",
       "      <td>0</td>\n",
       "      <td>0</td>\n",
       "      <td>0</td>\n",
       "      <td>0</td>\n",
       "      <td>0</td>\n",
       "    </tr>\n",
       "    <tr>\n",
       "      <th>1</th>\n",
       "      <td>865000.0</td>\n",
       "      <td>5.0</td>\n",
       "      <td>3.0</td>\n",
       "      <td>2900.0</td>\n",
       "      <td>1.0</td>\n",
       "      <td>0</td>\n",
       "      <td>1830.0</td>\n",
       "      <td>1070</td>\n",
       "      <td>2370</td>\n",
       "      <td>8.250620</td>\n",
       "      <td>...</td>\n",
       "      <td>0</td>\n",
       "      <td>0</td>\n",
       "      <td>0</td>\n",
       "      <td>0</td>\n",
       "      <td>0</td>\n",
       "      <td>0</td>\n",
       "      <td>0</td>\n",
       "      <td>0</td>\n",
       "      <td>0</td>\n",
       "      <td>0</td>\n",
       "    </tr>\n",
       "    <tr>\n",
       "      <th>2</th>\n",
       "      <td>1038000.0</td>\n",
       "      <td>4.0</td>\n",
       "      <td>2.0</td>\n",
       "      <td>3770.0</td>\n",
       "      <td>2.0</td>\n",
       "      <td>0</td>\n",
       "      <td>3770.0</td>\n",
       "      <td>0</td>\n",
       "      <td>3710</td>\n",
       "      <td>9.105868</td>\n",
       "      <td>...</td>\n",
       "      <td>0</td>\n",
       "      <td>0</td>\n",
       "      <td>0</td>\n",
       "      <td>0</td>\n",
       "      <td>0</td>\n",
       "      <td>0</td>\n",
       "      <td>0</td>\n",
       "      <td>0</td>\n",
       "      <td>0</td>\n",
       "      <td>0</td>\n",
       "    </tr>\n",
       "    <tr>\n",
       "      <th>3</th>\n",
       "      <td>1490000.0</td>\n",
       "      <td>3.0</td>\n",
       "      <td>4.0</td>\n",
       "      <td>4560.0</td>\n",
       "      <td>2.0</td>\n",
       "      <td>0</td>\n",
       "      <td>4560.0</td>\n",
       "      <td>0</td>\n",
       "      <td>4050</td>\n",
       "      <td>9.419628</td>\n",
       "      <td>...</td>\n",
       "      <td>0</td>\n",
       "      <td>0</td>\n",
       "      <td>0</td>\n",
       "      <td>0</td>\n",
       "      <td>0</td>\n",
       "      <td>0</td>\n",
       "      <td>0</td>\n",
       "      <td>0</td>\n",
       "      <td>0</td>\n",
       "      <td>0</td>\n",
       "    </tr>\n",
       "    <tr>\n",
       "      <th>4</th>\n",
       "      <td>711000.0</td>\n",
       "      <td>3.0</td>\n",
       "      <td>2.0</td>\n",
       "      <td>2550.0</td>\n",
       "      <td>2.0</td>\n",
       "      <td>0</td>\n",
       "      <td>2550.0</td>\n",
       "      <td>0</td>\n",
       "      <td>2250</td>\n",
       "      <td>8.318986</td>\n",
       "      <td>...</td>\n",
       "      <td>0</td>\n",
       "      <td>0</td>\n",
       "      <td>0</td>\n",
       "      <td>0</td>\n",
       "      <td>0</td>\n",
       "      <td>0</td>\n",
       "      <td>0</td>\n",
       "      <td>0</td>\n",
       "      <td>0</td>\n",
       "      <td>0</td>\n",
       "    </tr>\n",
       "  </tbody>\n",
       "</table>\n",
       "<p>5 rows × 107 columns</p>\n",
       "</div>"
      ],
      "text/plain": [
       "       price  bedrooms  bathrooms  sqft_living  floors  waterfront  \\\n",
       "0   365000.0       4.0        2.0       2070.0     2.0           0   \n",
       "1   865000.0       5.0        3.0       2900.0     1.0           0   \n",
       "2  1038000.0       4.0        2.0       3770.0     2.0           0   \n",
       "3  1490000.0       3.0        4.0       4560.0     2.0           0   \n",
       "4   711000.0       3.0        2.0       2550.0     2.0           0   \n",
       "\n",
       "   sqft_above  sqft_basement  sqft_living15  log_yard  ...  zipcode_98146  \\\n",
       "0      2070.0              0           2390  8.969287  ...              0   \n",
       "1      1830.0           1070           2370  8.250620  ...              0   \n",
       "2      3770.0              0           3710  9.105868  ...              0   \n",
       "3      4560.0              0           4050  9.419628  ...              0   \n",
       "4      2550.0              0           2250  8.318986  ...              0   \n",
       "\n",
       "   zipcode_98148  zipcode_98155  zipcode_98166  zipcode_98168  zipcode_98177  \\\n",
       "0              0              0              0              0              0   \n",
       "1              0              0              0              0              0   \n",
       "2              0              0              0              0              0   \n",
       "3              0              0              0              0              0   \n",
       "4              0              0              0              0              0   \n",
       "\n",
       "   zipcode_98178  zipcode_98188  zipcode_98198  zipcode_98199  \n",
       "0              0              0              0              0  \n",
       "1              0              0              0              0  \n",
       "2              0              0              0              0  \n",
       "3              0              0              0              0  \n",
       "4              0              0              0              0  \n",
       "\n",
       "[5 rows x 107 columns]"
      ]
     },
     "execution_count": 3,
     "metadata": {},
     "output_type": "execute_result"
    }
   ],
   "source": [
    "df.head()"
   ]
  },
  {
   "cell_type": "markdown",
   "metadata": {},
   "source": [
    "# Preparing the Data"
   ]
  },
  {
   "cell_type": "code",
   "execution_count": 4,
   "metadata": {},
   "outputs": [],
   "source": [
    "#dropping the dependent variable\n",
    "dvariables = df.iloc[:, 1:]\n",
    "\n",
    "number_of_columns = len(dvariables.columns)\n",
    "\n",
    "#isolating the target variable\n",
    "target = df.iloc[:,0]"
   ]
  },
  {
   "cell_type": "code",
   "execution_count": 5,
   "metadata": {},
   "outputs": [],
   "source": [
    "#instantiating an object to create the model\n",
    "nn_model = keras.Sequential()\n",
    "nn_model.add(keras.layers.Dense(number_of_columns, activation = 'relu', input_shape=(number_of_columns, )))\n",
    "nn_model.add(keras.layers.Dense(10, activation = 'relu'))\n",
    "nn_model.add(keras.layers.Dense(1))\n"
   ]
  },
  {
   "cell_type": "code",
   "execution_count": 6,
   "metadata": {},
   "outputs": [],
   "source": [
    "#defining the metric for the model\n",
    "def root_mean_squared_error(y_true, y_pred):\n",
    "        return keras.backend.sqrt(keras.backend.mean(keras.backend.square(y_pred - y_true))) \n",
    "\n",
    "    #compiling the model\n",
    "nn_model.compile(optimizer='adam', loss = root_mean_squared_error, metrics = [root_mean_squared_error])"
   ]
  },
  {
   "cell_type": "code",
   "execution_count": 7,
   "metadata": {},
   "outputs": [
    {
     "name": "stdout",
     "output_type": "stream",
     "text": [
      "Epoch 1/50\n",
      "433/433 [==============================] - 0s 979us/step - loss: 518863.0000 - root_mean_squared_error: 518299.3438 - val_loss: 244527.1250 - val_root_mean_squared_error: 242820.3281\n",
      "Epoch 2/50\n",
      "433/433 [==============================] - 0s 702us/step - loss: 251302.1094 - root_mean_squared_error: 251241.3750 - val_loss: 242968.8125 - val_root_mean_squared_error: 241522.5625\n",
      "Epoch 3/50\n",
      "433/433 [==============================] - 0s 669us/step - loss: 248270.2188 - root_mean_squared_error: 248273.6875 - val_loss: 242134.7656 - val_root_mean_squared_error: 240601.7188\n",
      "Epoch 4/50\n",
      "433/433 [==============================] - 0s 673us/step - loss: 249688.6094 - root_mean_squared_error: 249512.9219 - val_loss: 241961.0312 - val_root_mean_squared_error: 240487.4688\n",
      "Epoch 5/50\n",
      "433/433 [==============================] - 0s 682us/step - loss: 250731.1562 - root_mean_squared_error: 250585.3438 - val_loss: 241719.4531 - val_root_mean_squared_error: 240221.9688\n",
      "Epoch 6/50\n",
      "433/433 [==============================] - 0s 687us/step - loss: 249116.1875 - root_mean_squared_error: 248969.2031 - val_loss: 241724.3906 - val_root_mean_squared_error: 240271.3906\n",
      "Epoch 7/50\n",
      "433/433 [==============================] - 0s 682us/step - loss: 248939.7344 - root_mean_squared_error: 248738.8750 - val_loss: 241497.8594 - val_root_mean_squared_error: 240018.7188\n",
      "Epoch 8/50\n",
      "433/433 [==============================] - 0s 688us/step - loss: 249442.9219 - root_mean_squared_error: 249397.0625 - val_loss: 241386.1250 - val_root_mean_squared_error: 239881.0625\n",
      "Epoch 9/50\n",
      "433/433 [==============================] - 0s 672us/step - loss: 248372.5312 - root_mean_squared_error: 248245.2344 - val_loss: 241473.8125 - val_root_mean_squared_error: 239934.7188\n",
      "Epoch 10/50\n",
      "433/433 [==============================] - 0s 679us/step - loss: 249446.4062 - root_mean_squared_error: 249310.7188 - val_loss: 241333.4844 - val_root_mean_squared_error: 239795.3594\n",
      "Epoch 11/50\n",
      "433/433 [==============================] - 0s 697us/step - loss: 248211.0938 - root_mean_squared_error: 248442.2344 - val_loss: 241111.7656 - val_root_mean_squared_error: 239601.3594\n",
      "Epoch 12/50\n",
      "433/433 [==============================] - 0s 675us/step - loss: 248524.5312 - root_mean_squared_error: 248674.6406 - val_loss: 241040.1562 - val_root_mean_squared_error: 239562.5469\n",
      "Epoch 13/50\n",
      "433/433 [==============================] - 0s 681us/step - loss: 246916.5156 - root_mean_squared_error: 246802.0156 - val_loss: 241850.3438 - val_root_mean_squared_error: 240454.9375\n",
      "Epoch 14/50\n",
      "433/433 [==============================] - 0s 684us/step - loss: 248230.3594 - root_mean_squared_error: 248185.2188 - val_loss: 241318.5469 - val_root_mean_squared_error: 239897.2812\n",
      "Epoch 15/50\n",
      "433/433 [==============================] - 0s 690us/step - loss: 247196.9062 - root_mean_squared_error: 247059.6250 - val_loss: 240824.6562 - val_root_mean_squared_error: 239362.9688\n",
      "Epoch 16/50\n",
      "433/433 [==============================] - 0s 690us/step - loss: 248357.6406 - root_mean_squared_error: 248185.8438 - val_loss: 240596.7031 - val_root_mean_squared_error: 239096.1094\n",
      "Epoch 17/50\n",
      "433/433 [==============================] - 0s 694us/step - loss: 246443.4688 - root_mean_squared_error: 246222.0938 - val_loss: 240511.7031 - val_root_mean_squared_error: 239002.3125\n",
      "Epoch 18/50\n",
      "433/433 [==============================] - 0s 700us/step - loss: 247309.0000 - root_mean_squared_error: 247247.8594 - val_loss: 240648.3281 - val_root_mean_squared_error: 239203.7969\n",
      "Epoch 19/50\n",
      "433/433 [==============================] - 0s 681us/step - loss: 246238.9688 - root_mean_squared_error: 246105.4531 - val_loss: 240429.6719 - val_root_mean_squared_error: 238971.7031\n",
      "Epoch 20/50\n",
      "433/433 [==============================] - 0s 693us/step - loss: 248172.8281 - root_mean_squared_error: 248091.4688 - val_loss: 240327.5156 - val_root_mean_squared_error: 238878.8438\n",
      "Epoch 21/50\n",
      "433/433 [==============================] - 0s 718us/step - loss: 248182.1406 - root_mean_squared_error: 248485.6719 - val_loss: 240146.2500 - val_root_mean_squared_error: 238604.9531\n",
      "Epoch 22/50\n",
      "433/433 [==============================] - 0s 666us/step - loss: 247209.5938 - root_mean_squared_error: 247065.7812 - val_loss: 240017.0156 - val_root_mean_squared_error: 238564.5938\n",
      "Epoch 23/50\n",
      "433/433 [==============================] - 0s 671us/step - loss: 247529.0625 - root_mean_squared_error: 247502.3750 - val_loss: 239835.5000 - val_root_mean_squared_error: 238376.7188\n",
      "Epoch 24/50\n",
      "433/433 [==============================] - 0s 664us/step - loss: 246171.6094 - root_mean_squared_error: 246069.8750 - val_loss: 239629.6719 - val_root_mean_squared_error: 238138.5156\n",
      "Epoch 25/50\n",
      "433/433 [==============================] - 0s 659us/step - loss: 246320.1875 - root_mean_squared_error: 246301.4531 - val_loss: 240209.9844 - val_root_mean_squared_error: 238803.4062\n",
      "Epoch 26/50\n",
      "433/433 [==============================] - 0s 661us/step - loss: 247462.4219 - root_mean_squared_error: 247417.7031 - val_loss: 239686.2969 - val_root_mean_squared_error: 238261.4062\n",
      "Epoch 27/50\n",
      "433/433 [==============================] - 0s 695us/step - loss: 245859.5469 - root_mean_squared_error: 246155.6719 - val_loss: 239200.1875 - val_root_mean_squared_error: 237721.5156\n",
      "Epoch 28/50\n",
      "433/433 [==============================] - 0s 734us/step - loss: 246697.9219 - root_mean_squared_error: 246539.2344 - val_loss: 239030.4844 - val_root_mean_squared_error: 237536.5938\n",
      "Epoch 29/50\n",
      "433/433 [==============================] - 0s 686us/step - loss: 246607.0156 - root_mean_squared_error: 246367.5625 - val_loss: 238922.6719 - val_root_mean_squared_error: 237458.7812\n",
      "Epoch 30/50\n",
      "433/433 [==============================] - 0s 731us/step - loss: 246603.0625 - root_mean_squared_error: 246390.8594 - val_loss: 239627.5781 - val_root_mean_squared_error: 238234.7031\n",
      "Epoch 31/50\n",
      "433/433 [==============================] - 0s 691us/step - loss: 246152.7031 - root_mean_squared_error: 245931.3438 - val_loss: 239038.5312 - val_root_mean_squared_error: 237624.0156\n",
      "Epoch 32/50\n",
      "433/433 [==============================] - 0s 712us/step - loss: 245669.8438 - root_mean_squared_error: 245504.0781 - val_loss: 238431.9219 - val_root_mean_squared_error: 236956.7188\n",
      "Epoch 33/50\n",
      "433/433 [==============================] - 0s 689us/step - loss: 245751.4375 - root_mean_squared_error: 245706.8281 - val_loss: 239362.5938 - val_root_mean_squared_error: 237989.8281\n",
      "Epoch 34/50\n",
      "433/433 [==============================] - 0s 703us/step - loss: 245728.8125 - root_mean_squared_error: 245605.0781 - val_loss: 238089.8594 - val_root_mean_squared_error: 236620.0000\n",
      "Epoch 35/50\n",
      "433/433 [==============================] - 0s 708us/step - loss: 245218.9062 - root_mean_squared_error: 245345.0312 - val_loss: 237941.0625 - val_root_mean_squared_error: 236447.5000\n",
      "Epoch 36/50\n",
      "433/433 [==============================] - 0s 685us/step - loss: 245334.4531 - root_mean_squared_error: 245246.8125 - val_loss: 237845.6562 - val_root_mean_squared_error: 236392.3281\n",
      "Epoch 37/50\n",
      "433/433 [==============================] - 0s 689us/step - loss: 245321.6719 - root_mean_squared_error: 245152.1094 - val_loss: 237900.1562 - val_root_mean_squared_error: 236483.8750\n",
      "Epoch 38/50\n",
      "433/433 [==============================] - 0s 685us/step - loss: 243435.0625 - root_mean_squared_error: 243546.8438 - val_loss: 237529.5625 - val_root_mean_squared_error: 236090.0312\n",
      "Epoch 39/50\n",
      "433/433 [==============================] - 0s 717us/step - loss: 243964.6250 - root_mean_squared_error: 244190.3125 - val_loss: 237285.1094 - val_root_mean_squared_error: 235825.4531\n",
      "Epoch 40/50\n",
      "433/433 [==============================] - 0s 657us/step - loss: 244974.9219 - root_mean_squared_error: 244916.3906 - val_loss: 237515.1719 - val_root_mean_squared_error: 236112.5938\n",
      "Epoch 41/50\n",
      "433/433 [==============================] - 0s 677us/step - loss: 244311.0000 - root_mean_squared_error: 244195.8594 - val_loss: 237835.7500 - val_root_mean_squared_error: 236270.1094\n",
      "Epoch 42/50\n",
      "433/433 [==============================] - 0s 689us/step - loss: 243229.6562 - root_mean_squared_error: 243108.0625 - val_loss: 236729.3438 - val_root_mean_squared_error: 235279.0938\n",
      "Epoch 43/50\n"
     ]
    },
    {
     "name": "stdout",
     "output_type": "stream",
     "text": [
      "433/433 [==============================] - 0s 671us/step - loss: 243923.8750 - root_mean_squared_error: 243805.0625 - val_loss: 236763.1094 - val_root_mean_squared_error: 235343.8750\n",
      "Epoch 44/50\n",
      "433/433 [==============================] - 0s 656us/step - loss: 243671.3125 - root_mean_squared_error: 243666.7031 - val_loss: 236391.9375 - val_root_mean_squared_error: 234941.0781\n",
      "Epoch 45/50\n",
      "433/433 [==============================] - 0s 653us/step - loss: 243345.7500 - root_mean_squared_error: 243323.6875 - val_loss: 236247.6719 - val_root_mean_squared_error: 234807.4688\n",
      "Epoch 46/50\n",
      "433/433 [==============================] - 0s 653us/step - loss: 243512.0938 - root_mean_squared_error: 243350.7969 - val_loss: 236027.0781 - val_root_mean_squared_error: 234568.8438\n",
      "Epoch 47/50\n",
      "433/433 [==============================] - 0s 651us/step - loss: 242441.2344 - root_mean_squared_error: 242291.5469 - val_loss: 235942.2188 - val_root_mean_squared_error: 234514.6562\n",
      "Epoch 48/50\n",
      "433/433 [==============================] - 0s 655us/step - loss: 241820.9844 - root_mean_squared_error: 241957.6719 - val_loss: 237223.2969 - val_root_mean_squared_error: 235893.9062\n",
      "Epoch 49/50\n",
      "433/433 [==============================] - 0s 662us/step - loss: 243172.3906 - root_mean_squared_error: 242976.2969 - val_loss: 235508.4219 - val_root_mean_squared_error: 234043.0781\n",
      "Epoch 50/50\n",
      "433/433 [==============================] - 0s 658us/step - loss: 242634.1406 - root_mean_squared_error: 242504.5156 - val_loss: 235313.2500 - val_root_mean_squared_error: 233891.7500\n"
     ]
    }
   ],
   "source": [
    "#fitting the model\n",
    "history = nn_model.fit(dvariables, target, epochs = 50, validation_split=.2) #creating a small validation set to assess overfitting"
   ]
  },
  {
   "cell_type": "markdown",
   "metadata": {},
   "source": [
    "# Evaluation"
   ]
  },
  {
   "cell_type": "code",
   "execution_count": 8,
   "metadata": {},
   "outputs": [
    {
     "name": "stdout",
     "output_type": "stream",
     "text": [
      "Evaluation at Epoch 50:\n",
      "\n",
      "loss:242634.140625\n",
      "\n",
      "root_mean_squared_error:242504.515625\n",
      "\n",
      "val_loss:235313.25\n",
      "\n",
      "val_root_mean_squared_error:233891.75\n",
      "\n"
     ]
    }
   ],
   "source": [
    "print('Evaluation at Epoch 50:\\n')\n",
    "for key in history.history:\n",
    "    print(key + ':' + str(history.history[key][-1]) + '\\n')"
   ]
  },
  {
   "cell_type": "markdown",
   "metadata": {},
   "source": [
    "It is great to see that there has been no evidence of overfitting here. The validation set is proved to be superior due to the reduction of loss and error. In terms of the actual metric the model has not crossed the threshold of the goal RMSE. For now I am led to believe that the original chosen model shows the most promise."
   ]
  }
 ],
 "metadata": {
  "kernelspec": {
   "display_name": "Python 3",
   "language": "python",
   "name": "python3"
  },
  "language_info": {
   "codemirror_mode": {
    "name": "ipython",
    "version": 3
   },
   "file_extension": ".py",
   "mimetype": "text/x-python",
   "name": "python",
   "nbconvert_exporter": "python",
   "pygments_lexer": "ipython3",
   "version": "3.8.5"
  },
  "toc": {
   "base_numbering": 1,
   "nav_menu": {},
   "number_sections": true,
   "sideBar": true,
   "skip_h1_title": false,
   "title_cell": "Table of Contents",
   "title_sidebar": "Contents",
   "toc_cell": false,
   "toc_position": {},
   "toc_section_display": true,
   "toc_window_display": false
  },
  "varInspector": {
   "cols": {
    "lenName": 16,
    "lenType": 16,
    "lenVar": 40
   },
   "kernels_config": {
    "python": {
     "delete_cmd_postfix": "",
     "delete_cmd_prefix": "del ",
     "library": "var_list.py",
     "varRefreshCmd": "print(var_dic_list())"
    },
    "r": {
     "delete_cmd_postfix": ") ",
     "delete_cmd_prefix": "rm(",
     "library": "var_list.r",
     "varRefreshCmd": "cat(var_dic_list()) "
    }
   },
   "types_to_exclude": [
    "module",
    "function",
    "builtin_function_or_method",
    "instance",
    "_Feature"
   ],
   "window_display": false
  }
 },
 "nbformat": 4,
 "nbformat_minor": 4
}
