{
 "cells": [
  {
   "cell_type": "markdown",
   "metadata": {},
   "source": [
    "# Addition of a Neural Network Model"
   ]
  },
  {
   "cell_type": "markdown",
   "metadata": {},
   "source": [
    "After creating the previous three models for consideration, I decided to go back and take a look at the possibility of adding a fourth model. I wanted to see if I can use a model with Deep Neural Networks for a more realistic assessment of housing prices. I was able to reach my goal of coming under $200000, but I believe that I can do even better with the use of a neural network. I am going to bring in my cleaned data so that I can go right into the modeling process. "
   ]
  },
  {
   "cell_type": "markdown",
   "metadata": {},
   "source": [
    "# Importing Libraries"
   ]
  },
  {
   "cell_type": "code",
   "execution_count": 1,
   "metadata": {},
   "outputs": [],
   "source": [
    "import keras\n",
    "import numpy as np\n",
    "import pandas as pd"
   ]
  },
  {
   "cell_type": "markdown",
   "metadata": {},
   "source": [
    "# Bringing in the Cleaned Dataset"
   ]
  },
  {
   "cell_type": "code",
   "execution_count": 2,
   "metadata": {},
   "outputs": [],
   "source": [
    "import pickle\n",
    "\n",
    "#bringing in the cleaned\n",
    "infile = open(\"Data/cleaned_data.pickle\",'rb')\n",
    "df = pickle.load(infile)\n",
    "infile.close()"
   ]
  },
  {
   "cell_type": "code",
   "execution_count": 3,
   "metadata": {},
   "outputs": [
    {
     "data": {
      "text/html": [
       "<div>\n",
       "<style scoped>\n",
       "    .dataframe tbody tr th:only-of-type {\n",
       "        vertical-align: middle;\n",
       "    }\n",
       "\n",
       "    .dataframe tbody tr th {\n",
       "        vertical-align: top;\n",
       "    }\n",
       "\n",
       "    .dataframe thead th {\n",
       "        text-align: right;\n",
       "    }\n",
       "</style>\n",
       "<table border=\"1\" class=\"dataframe\">\n",
       "  <thead>\n",
       "    <tr style=\"text-align: right;\">\n",
       "      <th></th>\n",
       "      <th>price</th>\n",
       "      <th>bedrooms</th>\n",
       "      <th>bathrooms</th>\n",
       "      <th>sqft_living</th>\n",
       "      <th>floors</th>\n",
       "      <th>waterfront</th>\n",
       "      <th>sqft_above</th>\n",
       "      <th>sqft_basement</th>\n",
       "      <th>sqft_living15</th>\n",
       "      <th>log_yard</th>\n",
       "      <th>...</th>\n",
       "      <th>zipcode_98146</th>\n",
       "      <th>zipcode_98148</th>\n",
       "      <th>zipcode_98155</th>\n",
       "      <th>zipcode_98166</th>\n",
       "      <th>zipcode_98168</th>\n",
       "      <th>zipcode_98177</th>\n",
       "      <th>zipcode_98178</th>\n",
       "      <th>zipcode_98188</th>\n",
       "      <th>zipcode_98198</th>\n",
       "      <th>zipcode_98199</th>\n",
       "    </tr>\n",
       "  </thead>\n",
       "  <tbody>\n",
       "    <tr>\n",
       "      <th>0</th>\n",
       "      <td>365000.0</td>\n",
       "      <td>4.0</td>\n",
       "      <td>2.0</td>\n",
       "      <td>2070.0</td>\n",
       "      <td>2.0</td>\n",
       "      <td>0</td>\n",
       "      <td>2070.0</td>\n",
       "      <td>0</td>\n",
       "      <td>2390</td>\n",
       "      <td>8.969287</td>\n",
       "      <td>...</td>\n",
       "      <td>0</td>\n",
       "      <td>0</td>\n",
       "      <td>0</td>\n",
       "      <td>0</td>\n",
       "      <td>0</td>\n",
       "      <td>0</td>\n",
       "      <td>0</td>\n",
       "      <td>0</td>\n",
       "      <td>0</td>\n",
       "      <td>0</td>\n",
       "    </tr>\n",
       "    <tr>\n",
       "      <th>1</th>\n",
       "      <td>865000.0</td>\n",
       "      <td>5.0</td>\n",
       "      <td>3.0</td>\n",
       "      <td>2900.0</td>\n",
       "      <td>1.0</td>\n",
       "      <td>0</td>\n",
       "      <td>1830.0</td>\n",
       "      <td>1070</td>\n",
       "      <td>2370</td>\n",
       "      <td>8.250620</td>\n",
       "      <td>...</td>\n",
       "      <td>0</td>\n",
       "      <td>0</td>\n",
       "      <td>0</td>\n",
       "      <td>0</td>\n",
       "      <td>0</td>\n",
       "      <td>0</td>\n",
       "      <td>0</td>\n",
       "      <td>0</td>\n",
       "      <td>0</td>\n",
       "      <td>0</td>\n",
       "    </tr>\n",
       "    <tr>\n",
       "      <th>2</th>\n",
       "      <td>1038000.0</td>\n",
       "      <td>4.0</td>\n",
       "      <td>2.0</td>\n",
       "      <td>3770.0</td>\n",
       "      <td>2.0</td>\n",
       "      <td>0</td>\n",
       "      <td>3770.0</td>\n",
       "      <td>0</td>\n",
       "      <td>3710</td>\n",
       "      <td>9.105868</td>\n",
       "      <td>...</td>\n",
       "      <td>0</td>\n",
       "      <td>0</td>\n",
       "      <td>0</td>\n",
       "      <td>0</td>\n",
       "      <td>0</td>\n",
       "      <td>0</td>\n",
       "      <td>0</td>\n",
       "      <td>0</td>\n",
       "      <td>0</td>\n",
       "      <td>0</td>\n",
       "    </tr>\n",
       "    <tr>\n",
       "      <th>3</th>\n",
       "      <td>1490000.0</td>\n",
       "      <td>3.0</td>\n",
       "      <td>4.0</td>\n",
       "      <td>4560.0</td>\n",
       "      <td>2.0</td>\n",
       "      <td>0</td>\n",
       "      <td>4560.0</td>\n",
       "      <td>0</td>\n",
       "      <td>4050</td>\n",
       "      <td>9.419628</td>\n",
       "      <td>...</td>\n",
       "      <td>0</td>\n",
       "      <td>0</td>\n",
       "      <td>0</td>\n",
       "      <td>0</td>\n",
       "      <td>0</td>\n",
       "      <td>0</td>\n",
       "      <td>0</td>\n",
       "      <td>0</td>\n",
       "      <td>0</td>\n",
       "      <td>0</td>\n",
       "    </tr>\n",
       "    <tr>\n",
       "      <th>4</th>\n",
       "      <td>711000.0</td>\n",
       "      <td>3.0</td>\n",
       "      <td>2.0</td>\n",
       "      <td>2550.0</td>\n",
       "      <td>2.0</td>\n",
       "      <td>0</td>\n",
       "      <td>2550.0</td>\n",
       "      <td>0</td>\n",
       "      <td>2250</td>\n",
       "      <td>8.318986</td>\n",
       "      <td>...</td>\n",
       "      <td>0</td>\n",
       "      <td>0</td>\n",
       "      <td>0</td>\n",
       "      <td>0</td>\n",
       "      <td>0</td>\n",
       "      <td>0</td>\n",
       "      <td>0</td>\n",
       "      <td>0</td>\n",
       "      <td>0</td>\n",
       "      <td>0</td>\n",
       "    </tr>\n",
       "  </tbody>\n",
       "</table>\n",
       "<p>5 rows × 107 columns</p>\n",
       "</div>"
      ],
      "text/plain": [
       "       price  bedrooms  bathrooms  sqft_living  floors  waterfront  \\\n",
       "0   365000.0       4.0        2.0       2070.0     2.0           0   \n",
       "1   865000.0       5.0        3.0       2900.0     1.0           0   \n",
       "2  1038000.0       4.0        2.0       3770.0     2.0           0   \n",
       "3  1490000.0       3.0        4.0       4560.0     2.0           0   \n",
       "4   711000.0       3.0        2.0       2550.0     2.0           0   \n",
       "\n",
       "   sqft_above  sqft_basement  sqft_living15  log_yard  ...  zipcode_98146  \\\n",
       "0      2070.0              0           2390  8.969287  ...              0   \n",
       "1      1830.0           1070           2370  8.250620  ...              0   \n",
       "2      3770.0              0           3710  9.105868  ...              0   \n",
       "3      4560.0              0           4050  9.419628  ...              0   \n",
       "4      2550.0              0           2250  8.318986  ...              0   \n",
       "\n",
       "   zipcode_98148  zipcode_98155  zipcode_98166  zipcode_98168  zipcode_98177  \\\n",
       "0              0              0              0              0              0   \n",
       "1              0              0              0              0              0   \n",
       "2              0              0              0              0              0   \n",
       "3              0              0              0              0              0   \n",
       "4              0              0              0              0              0   \n",
       "\n",
       "   zipcode_98178  zipcode_98188  zipcode_98198  zipcode_98199  \n",
       "0              0              0              0              0  \n",
       "1              0              0              0              0  \n",
       "2              0              0              0              0  \n",
       "3              0              0              0              0  \n",
       "4              0              0              0              0  \n",
       "\n",
       "[5 rows x 107 columns]"
      ]
     },
     "execution_count": 3,
     "metadata": {},
     "output_type": "execute_result"
    }
   ],
   "source": [
    "df.head()"
   ]
  },
  {
   "cell_type": "markdown",
   "metadata": {},
   "source": [
    "# Preparing the Data"
   ]
  },
  {
   "cell_type": "code",
   "execution_count": 4,
   "metadata": {},
   "outputs": [],
   "source": [
    "#dropping the dependent variable\n",
    "dvariables = df.iloc[:, 1:]\n",
    "\n",
    "#this here will become the SHAPE variable in the function below\n",
    "number_of_columns = len(dvariables.columns)\n",
    "\n",
    "#isolating the target variable\n",
    "target = df.iloc[:,0]"
   ]
  },
  {
   "cell_type": "code",
   "execution_count": 5,
   "metadata": {},
   "outputs": [],
   "source": [
    "#defining the metric for the model\n",
    "def root_mean_squared_error(y_true, y_pred):\n",
    "    \"\"\"This is a helper function to allow root_mean_squared_error\n",
    "    as the evaluation metric\"\"\"\n",
    "    return keras.backend.sqrt(keras.backend.mean(keras.backend.square(y_pred - y_true))) "
   ]
  },
  {
   "cell_type": "code",
   "execution_count": 6,
   "metadata": {},
   "outputs": [],
   "source": [
    "def create_model(num_layers, shape, optimizer):\n",
    "    \"\"\"This function takes in the number of hidden layers, shape of the input, \n",
    "    and the optimizer to create a model ready to be fit.\"\"\"\n",
    "    model = keras.Sequential()\n",
    "    model.add(keras.layers.Dense(shape, activation = 'relu', input_shape=(shape, )))\n",
    "    for layer in range(num_layers):\n",
    "        model.add(keras.layers.Dense(shape, activation = 'relu'))\n",
    "    model.add(keras.layers.Dense(1))\n",
    "    \n",
    "    \n",
    "    model.compile(optimizer, loss = root_mean_squared_error, metrics = [root_mean_squared_error])\n",
    "    return model"
   ]
  },
  {
   "cell_type": "code",
   "execution_count": 7,
   "metadata": {},
   "outputs": [],
   "source": [
    "model_1 = create_model(1, number_of_columns, 'adam')"
   ]
  },
  {
   "cell_type": "code",
   "execution_count": 8,
   "metadata": {},
   "outputs": [
    {
     "name": "stdout",
     "output_type": "stream",
     "text": [
      "Epoch 1/50\n",
      "433/433 [==============================] - 0s 1ms/step - loss: 358511.7500 - root_mean_squared_error: 358420.5000 - val_loss: 243031.9531 - val_root_mean_squared_error: 241580.0781\n",
      "Epoch 2/50\n",
      "433/433 [==============================] - 0s 807us/step - loss: 249755.2656 - root_mean_squared_error: 249680.6719 - val_loss: 241825.1250 - val_root_mean_squared_error: 240344.7344\n",
      "Epoch 3/50\n",
      "433/433 [==============================] - 0s 764us/step - loss: 250330.2812 - root_mean_squared_error: 250055.3281 - val_loss: 241532.8281 - val_root_mean_squared_error: 240010.5312\n",
      "Epoch 4/50\n",
      "433/433 [==============================] - 0s 762us/step - loss: 249649.8281 - root_mean_squared_error: 249361.1406 - val_loss: 241427.0938 - val_root_mean_squared_error: 239971.1406\n",
      "Epoch 5/50\n",
      "433/433 [==============================] - 0s 783us/step - loss: 248564.9688 - root_mean_squared_error: 248502.2812 - val_loss: 241674.8438 - val_root_mean_squared_error: 240250.3281\n",
      "Epoch 6/50\n",
      "433/433 [==============================] - 0s 765us/step - loss: 249690.7656 - root_mean_squared_error: 249576.6094 - val_loss: 240992.7031 - val_root_mean_squared_error: 239493.4688\n",
      "Epoch 7/50\n",
      "433/433 [==============================] - 0s 787us/step - loss: 248222.3906 - root_mean_squared_error: 248300.3750 - val_loss: 240870.8594 - val_root_mean_squared_error: 239378.0781\n",
      "Epoch 8/50\n",
      "433/433 [==============================] - 0s 792us/step - loss: 249023.5938 - root_mean_squared_error: 248999.2500 - val_loss: 241169.6562 - val_root_mean_squared_error: 239573.0469\n",
      "Epoch 9/50\n",
      "433/433 [==============================] - 0s 759us/step - loss: 248475.4062 - root_mean_squared_error: 248950.3594 - val_loss: 240995.4219 - val_root_mean_squared_error: 239539.3281\n",
      "Epoch 10/50\n",
      "433/433 [==============================] - 0s 766us/step - loss: 247600.1406 - root_mean_squared_error: 247488.4688 - val_loss: 240738.9219 - val_root_mean_squared_error: 239139.0781\n",
      "Epoch 11/50\n",
      "433/433 [==============================] - 0s 771us/step - loss: 248023.5625 - root_mean_squared_error: 247946.7500 - val_loss: 240210.6719 - val_root_mean_squared_error: 238673.6719\n",
      "Epoch 12/50\n",
      "433/433 [==============================] - 0s 754us/step - loss: 248329.6250 - root_mean_squared_error: 248070.4062 - val_loss: 240050.1719 - val_root_mean_squared_error: 238531.8125\n",
      "Epoch 13/50\n",
      "433/433 [==============================] - 0s 753us/step - loss: 245982.5156 - root_mean_squared_error: 245782.6094 - val_loss: 240260.6094 - val_root_mean_squared_error: 238665.9688\n",
      "Epoch 14/50\n",
      "433/433 [==============================] - 0s 752us/step - loss: 248027.2031 - root_mean_squared_error: 247960.9219 - val_loss: 239976.8281 - val_root_mean_squared_error: 238511.3906\n",
      "Epoch 15/50\n",
      "433/433 [==============================] - 0s 762us/step - loss: 247061.4375 - root_mean_squared_error: 246976.1719 - val_loss: 240028.3750 - val_root_mean_squared_error: 238421.0156\n",
      "Epoch 16/50\n",
      "433/433 [==============================] - 0s 802us/step - loss: 246638.1094 - root_mean_squared_error: 246448.6094 - val_loss: 239339.4062 - val_root_mean_squared_error: 237858.3281\n",
      "Epoch 17/50\n",
      "433/433 [==============================] - 0s 754us/step - loss: 245794.0469 - root_mean_squared_error: 245667.3594 - val_loss: 239804.0781 - val_root_mean_squared_error: 238401.7188\n",
      "Epoch 18/50\n",
      "433/433 [==============================] - 0s 763us/step - loss: 246325.7656 - root_mean_squared_error: 246116.1719 - val_loss: 239828.5000 - val_root_mean_squared_error: 238444.5000\n",
      "Epoch 19/50\n",
      "433/433 [==============================] - 0s 757us/step - loss: 244778.5156 - root_mean_squared_error: 244668.7656 - val_loss: 241094.5312 - val_root_mean_squared_error: 239761.5469\n",
      "Epoch 20/50\n",
      "433/433 [==============================] - 0s 757us/step - loss: 245600.8906 - root_mean_squared_error: 245553.3438 - val_loss: 237983.3281 - val_root_mean_squared_error: 236452.4219\n",
      "Epoch 21/50\n",
      "433/433 [==============================] - 0s 779us/step - loss: 246507.1719 - root_mean_squared_error: 246449.7812 - val_loss: 238700.2188 - val_root_mean_squared_error: 237301.5781\n",
      "Epoch 22/50\n",
      "433/433 [==============================] - 0s 795us/step - loss: 245900.8594 - root_mean_squared_error: 246088.1719 - val_loss: 237712.5312 - val_root_mean_squared_error: 236290.6406\n",
      "Epoch 23/50\n",
      "433/433 [==============================] - 0s 750us/step - loss: 242699.8281 - root_mean_squared_error: 242656.4219 - val_loss: 236798.8906 - val_root_mean_squared_error: 235316.7812\n",
      "Epoch 24/50\n",
      "433/433 [==============================] - 0s 792us/step - loss: 245273.7812 - root_mean_squared_error: 245018.1875 - val_loss: 236370.8906 - val_root_mean_squared_error: 234917.3906\n",
      "Epoch 25/50\n",
      "433/433 [==============================] - 0s 772us/step - loss: 244631.6719 - root_mean_squared_error: 244686.9531 - val_loss: 235836.0469 - val_root_mean_squared_error: 234354.1875\n",
      "Epoch 26/50\n",
      "433/433 [==============================] - 0s 749us/step - loss: 242297.4531 - root_mean_squared_error: 242007.7812 - val_loss: 235838.0000 - val_root_mean_squared_error: 234318.3438\n",
      "Epoch 27/50\n",
      "433/433 [==============================] - 0s 762us/step - loss: 242776.5625 - root_mean_squared_error: 242594.5156 - val_loss: 235614.8906 - val_root_mean_squared_error: 234208.7188\n",
      "Epoch 28/50\n",
      "433/433 [==============================] - 0s 760us/step - loss: 242577.0312 - root_mean_squared_error: 242577.4531 - val_loss: 235676.7500 - val_root_mean_squared_error: 234135.6406\n",
      "Epoch 29/50\n",
      "433/433 [==============================] - 0s 761us/step - loss: 241457.3906 - root_mean_squared_error: 241236.9219 - val_loss: 233908.9531 - val_root_mean_squared_error: 232430.9062\n",
      "Epoch 30/50\n",
      "433/433 [==============================] - 0s 761us/step - loss: 240940.2656 - root_mean_squared_error: 240893.6094 - val_loss: 233343.2188 - val_root_mean_squared_error: 231884.9688\n",
      "Epoch 31/50\n",
      "433/433 [==============================] - 0s 782us/step - loss: 241025.6719 - root_mean_squared_error: 241001.1406 - val_loss: 234041.2188 - val_root_mean_squared_error: 232702.4375\n",
      "Epoch 32/50\n",
      "433/433 [==============================] - 0s 755us/step - loss: 239675.3438 - root_mean_squared_error: 239488.1719 - val_loss: 232422.7500 - val_root_mean_squared_error: 230965.0312\n",
      "Epoch 33/50\n",
      "433/433 [==============================] - 0s 769us/step - loss: 239886.8281 - root_mean_squared_error: 239903.3281 - val_loss: 231659.5625 - val_root_mean_squared_error: 230219.1719\n",
      "Epoch 34/50\n",
      "433/433 [==============================] - 0s 764us/step - loss: 237347.1250 - root_mean_squared_error: 237147.6250 - val_loss: 231724.9531 - val_root_mean_squared_error: 230378.5938\n",
      "Epoch 35/50\n",
      "433/433 [==============================] - 0s 761us/step - loss: 237356.2344 - root_mean_squared_error: 237124.2656 - val_loss: 230419.3750 - val_root_mean_squared_error: 229037.7500\n",
      "Epoch 36/50\n",
      "433/433 [==============================] - 0s 782us/step - loss: 237760.0781 - root_mean_squared_error: 237867.5781 - val_loss: 230291.1719 - val_root_mean_squared_error: 228934.9375\n",
      "Epoch 37/50\n",
      "433/433 [==============================] - 0s 775us/step - loss: 236856.7656 - root_mean_squared_error: 236786.1406 - val_loss: 229508.3750 - val_root_mean_squared_error: 228085.2344\n",
      "Epoch 38/50\n",
      "433/433 [==============================] - 0s 793us/step - loss: 236427.1719 - root_mean_squared_error: 236281.0000 - val_loss: 228654.9375 - val_root_mean_squared_error: 227263.5469\n",
      "Epoch 39/50\n",
      "433/433 [==============================] - 0s 781us/step - loss: 235318.6875 - root_mean_squared_error: 235652.1406 - val_loss: 228033.3438 - val_root_mean_squared_error: 226630.9219\n",
      "Epoch 40/50\n",
      "433/433 [==============================] - 0s 779us/step - loss: 232403.1875 - root_mean_squared_error: 233379.9375 - val_loss: 227784.9375 - val_root_mean_squared_error: 226388.1875\n",
      "Epoch 41/50\n",
      "433/433 [==============================] - 0s 780us/step - loss: 233506.1406 - root_mean_squared_error: 233329.1875 - val_loss: 226787.9375 - val_root_mean_squared_error: 225410.9531\n",
      "Epoch 42/50\n",
      "433/433 [==============================] - 0s 764us/step - loss: 232957.8594 - root_mean_squared_error: 232994.2031 - val_loss: 226169.2656 - val_root_mean_squared_error: 224809.8594\n",
      "Epoch 43/50\n"
     ]
    },
    {
     "name": "stdout",
     "output_type": "stream",
     "text": [
      "433/433 [==============================] - 0s 756us/step - loss: 232029.9688 - root_mean_squared_error: 231909.3750 - val_loss: 225984.8125 - val_root_mean_squared_error: 224647.1562\n",
      "Epoch 44/50\n",
      "433/433 [==============================] - 0s 736us/step - loss: 229983.2031 - root_mean_squared_error: 230523.5781 - val_loss: 225366.6094 - val_root_mean_squared_error: 223973.2500\n",
      "Epoch 45/50\n",
      "433/433 [==============================] - 0s 740us/step - loss: 231491.3906 - root_mean_squared_error: 231304.5156 - val_loss: 224291.5938 - val_root_mean_squared_error: 222956.8438\n",
      "Epoch 46/50\n",
      "433/433 [==============================] - 0s 741us/step - loss: 231051.6562 - root_mean_squared_error: 231079.7812 - val_loss: 224602.1719 - val_root_mean_squared_error: 223292.3281\n",
      "Epoch 47/50\n",
      "433/433 [==============================] - 0s 755us/step - loss: 229666.3125 - root_mean_squared_error: 229524.8594 - val_loss: 223034.7969 - val_root_mean_squared_error: 221687.2969\n",
      "Epoch 48/50\n",
      "433/433 [==============================] - 0s 744us/step - loss: 229023.1875 - root_mean_squared_error: 228806.4531 - val_loss: 222966.0469 - val_root_mean_squared_error: 221598.2500\n",
      "Epoch 49/50\n",
      "433/433 [==============================] - 0s 764us/step - loss: 228798.8906 - root_mean_squared_error: 228659.1094 - val_loss: 223248.1406 - val_root_mean_squared_error: 221968.4062\n",
      "Epoch 50/50\n",
      "433/433 [==============================] - 0s 740us/step - loss: 227494.2188 - root_mean_squared_error: 227371.5156 - val_loss: 221076.7969 - val_root_mean_squared_error: 219760.6719\n"
     ]
    }
   ],
   "source": [
    "#fitting the model\n",
    "history = model_1.fit(dvariables, target, epochs = 50, validation_split=.2) #creating a small validation set to assess overfitting"
   ]
  },
  {
   "cell_type": "markdown",
   "metadata": {},
   "source": [
    "# Evaluation"
   ]
  },
  {
   "cell_type": "code",
   "execution_count": 9,
   "metadata": {},
   "outputs": [
    {
     "name": "stdout",
     "output_type": "stream",
     "text": [
      "Evaluation at Epoch 50:\n",
      "\n",
      "loss:227494.21875\n",
      "\n",
      "root_mean_squared_error:227371.515625\n",
      "\n",
      "val_loss:221076.796875\n",
      "\n",
      "val_root_mean_squared_error:219760.671875\n",
      "\n"
     ]
    }
   ],
   "source": [
    "print('Evaluation at Epoch 50:\\n')\n",
    "for key in history.history:\n",
    "    print(key + ':' + str(history.history[key][-1]) + '\\n')"
   ]
  },
  {
   "cell_type": "markdown",
   "metadata": {},
   "source": [
    "It is great to see that there has been no evidence of overfitting here. The validation set is proved to be superior due to the reduction of loss and error. In terms of the actual metric the model has not crossed the threshold of the goal RMSE. For now I am led to believe that the original chosen model shows the most promise."
   ]
  },
  {
   "cell_type": "markdown",
   "metadata": {},
   "source": [
    "# Second Model Attempt"
   ]
  },
  {
   "cell_type": "markdown",
   "metadata": {},
   "source": [
    "For an attempt at improvement, I am going to try another model with more layers to see how that would compare to the first attempt. "
   ]
  },
  {
   "cell_type": "code",
   "execution_count": 10,
   "metadata": {},
   "outputs": [],
   "source": [
    "model_2 = create_model(3, number_of_columns, 'adam')"
   ]
  },
  {
   "cell_type": "code",
   "execution_count": 11,
   "metadata": {},
   "outputs": [
    {
     "name": "stdout",
     "output_type": "stream",
     "text": [
      "Epoch 1/50\n",
      "433/433 [==============================] - 1s 1ms/step - loss: 298888.3750 - root_mean_squared_error: 298651.1562 - val_loss: 241621.6562 - val_root_mean_squared_error: 240096.8750\n",
      "Epoch 2/50\n",
      "433/433 [==============================] - 0s 953us/step - loss: 249873.5938 - root_mean_squared_error: 249754.1406 - val_loss: 240968.4375 - val_root_mean_squared_error: 239437.3906\n",
      "Epoch 3/50\n",
      "433/433 [==============================] - 0s 902us/step - loss: 249397.2812 - root_mean_squared_error: 249295.0000 - val_loss: 245140.7500 - val_root_mean_squared_error: 243904.3594\n",
      "Epoch 4/50\n",
      "433/433 [==============================] - 0s 956us/step - loss: 248311.0625 - root_mean_squared_error: 248244.6406 - val_loss: 238911.0312 - val_root_mean_squared_error: 237481.7812\n",
      "Epoch 5/50\n",
      "433/433 [==============================] - 0s 924us/step - loss: 247032.5938 - root_mean_squared_error: 246830.4531 - val_loss: 237717.4375 - val_root_mean_squared_error: 236285.1250\n",
      "Epoch 6/50\n",
      "433/433 [==============================] - 0s 926us/step - loss: 245832.0156 - root_mean_squared_error: 245710.9844 - val_loss: 238912.8906 - val_root_mean_squared_error: 237319.8906\n",
      "Epoch 7/50\n",
      "433/433 [==============================] - 0s 943us/step - loss: 242684.1719 - root_mean_squared_error: 242516.8750 - val_loss: 235390.4844 - val_root_mean_squared_error: 233978.3125\n",
      "Epoch 8/50\n",
      "433/433 [==============================] - 0s 951us/step - loss: 240548.0781 - root_mean_squared_error: 240533.2344 - val_loss: 233540.8906 - val_root_mean_squared_error: 232213.5000\n",
      "Epoch 9/50\n",
      "433/433 [==============================] - 0s 905us/step - loss: 240030.2188 - root_mean_squared_error: 239891.1406 - val_loss: 238746.1875 - val_root_mean_squared_error: 237546.0781\n",
      "Epoch 10/50\n",
      "433/433 [==============================] - 0s 933us/step - loss: 240093.4844 - root_mean_squared_error: 239979.8438 - val_loss: 232765.4219 - val_root_mean_squared_error: 231311.8125\n",
      "Epoch 11/50\n",
      "433/433 [==============================] - 0s 970us/step - loss: 236668.4531 - root_mean_squared_error: 236602.5312 - val_loss: 229379.2031 - val_root_mean_squared_error: 228060.3906\n",
      "Epoch 12/50\n",
      "433/433 [==============================] - 0s 893us/step - loss: 236096.7031 - root_mean_squared_error: 236052.3750 - val_loss: 229550.3438 - val_root_mean_squared_error: 228106.7500\n",
      "Epoch 13/50\n",
      "433/433 [==============================] - 0s 936us/step - loss: 234441.0938 - root_mean_squared_error: 234286.2812 - val_loss: 226115.2500 - val_root_mean_squared_error: 224743.7812\n",
      "Epoch 14/50\n",
      "433/433 [==============================] - 0s 958us/step - loss: 234485.1250 - root_mean_squared_error: 234584.4688 - val_loss: 229086.4531 - val_root_mean_squared_error: 227910.9062\n",
      "Epoch 15/50\n",
      "433/433 [==============================] - 0s 949us/step - loss: 231083.7969 - root_mean_squared_error: 230967.9062 - val_loss: 221927.6250 - val_root_mean_squared_error: 220575.8594\n",
      "Epoch 16/50\n",
      "433/433 [==============================] - 0s 976us/step - loss: 229471.2188 - root_mean_squared_error: 229695.7344 - val_loss: 221019.7031 - val_root_mean_squared_error: 219740.8438\n",
      "Epoch 17/50\n",
      "433/433 [==============================] - 0s 936us/step - loss: 228015.2188 - root_mean_squared_error: 228213.8125 - val_loss: 217642.0625 - val_root_mean_squared_error: 216316.5156\n",
      "Epoch 18/50\n",
      "433/433 [==============================] - 0s 954us/step - loss: 225382.8906 - root_mean_squared_error: 225524.5469 - val_loss: 219469.7500 - val_root_mean_squared_error: 218145.5938\n",
      "Epoch 19/50\n",
      "433/433 [==============================] - 0s 975us/step - loss: 222086.0000 - root_mean_squared_error: 222027.9688 - val_loss: 237522.3750 - val_root_mean_squared_error: 236227.4531\n",
      "Epoch 20/50\n",
      "433/433 [==============================] - 0s 914us/step - loss: 221027.2344 - root_mean_squared_error: 221458.1562 - val_loss: 211120.4531 - val_root_mean_squared_error: 209965.6719\n",
      "Epoch 21/50\n",
      "433/433 [==============================] - 0s 901us/step - loss: 218866.1719 - root_mean_squared_error: 218712.2031 - val_loss: 209930.1250 - val_root_mean_squared_error: 208576.0312\n",
      "Epoch 22/50\n",
      "433/433 [==============================] - 0s 959us/step - loss: 215638.6562 - root_mean_squared_error: 215900.6562 - val_loss: 254703.3594 - val_root_mean_squared_error: 253354.6406\n",
      "Epoch 23/50\n",
      "433/433 [==============================] - 0s 936us/step - loss: 215536.1875 - root_mean_squared_error: 215507.6406 - val_loss: 210001.3438 - val_root_mean_squared_error: 208818.6406\n",
      "Epoch 24/50\n",
      "433/433 [==============================] - 0s 917us/step - loss: 211160.4062 - root_mean_squared_error: 211043.4844 - val_loss: 197546.3281 - val_root_mean_squared_error: 196408.9688\n",
      "Epoch 25/50\n",
      "433/433 [==============================] - 0s 930us/step - loss: 205763.8281 - root_mean_squared_error: 205548.1094 - val_loss: 198244.2188 - val_root_mean_squared_error: 197078.2344\n",
      "Epoch 26/50\n",
      "433/433 [==============================] - 0s 949us/step - loss: 204519.1094 - root_mean_squared_error: 205169.4062 - val_loss: 207796.7344 - val_root_mean_squared_error: 207116.3125\n",
      "Epoch 27/50\n",
      "433/433 [==============================] - 0s 937us/step - loss: 199666.1406 - root_mean_squared_error: 199590.0156 - val_loss: 185758.1094 - val_root_mean_squared_error: 185110.3594\n",
      "Epoch 28/50\n",
      "433/433 [==============================] - 0s 899us/step - loss: 193768.0625 - root_mean_squared_error: 193720.7344 - val_loss: 187458.7969 - val_root_mean_squared_error: 187008.1094\n",
      "Epoch 29/50\n",
      "433/433 [==============================] - 0s 953us/step - loss: 187613.7812 - root_mean_squared_error: 187530.7188 - val_loss: 199735.2656 - val_root_mean_squared_error: 198365.4375\n",
      "Epoch 30/50\n",
      "433/433 [==============================] - 0s 900us/step - loss: 192820.0625 - root_mean_squared_error: 192760.6406 - val_loss: 188752.0156 - val_root_mean_squared_error: 187442.2812\n",
      "Epoch 31/50\n",
      "433/433 [==============================] - 0s 933us/step - loss: 186674.9688 - root_mean_squared_error: 186465.7812 - val_loss: 173367.5000 - val_root_mean_squared_error: 172357.8281\n",
      "Epoch 32/50\n",
      "433/433 [==============================] - 0s 951us/step - loss: 187141.5156 - root_mean_squared_error: 187031.6875 - val_loss: 168709.4531 - val_root_mean_squared_error: 168026.6250\n",
      "Epoch 33/50\n",
      "433/433 [==============================] - 0s 913us/step - loss: 180147.5000 - root_mean_squared_error: 180005.7500 - val_loss: 181930.9062 - val_root_mean_squared_error: 181515.1875\n",
      "Epoch 34/50\n",
      "433/433 [==============================] - 0s 963us/step - loss: 180609.3438 - root_mean_squared_error: 180773.5312 - val_loss: 166010.2500 - val_root_mean_squared_error: 165459.7500\n",
      "Epoch 35/50\n",
      "433/433 [==============================] - 0s 940us/step - loss: 174574.0469 - root_mean_squared_error: 174513.7812 - val_loss: 167835.9688 - val_root_mean_squared_error: 166995.8906\n",
      "Epoch 36/50\n",
      "433/433 [==============================] - 0s 954us/step - loss: 177326.8438 - root_mean_squared_error: 177268.8281 - val_loss: 161705.2344 - val_root_mean_squared_error: 160966.6250\n",
      "Epoch 37/50\n",
      "433/433 [==============================] - 0s 884us/step - loss: 171240.6406 - root_mean_squared_error: 171125.0469 - val_loss: 193176.4531 - val_root_mean_squared_error: 192918.5312\n",
      "Epoch 38/50\n",
      "433/433 [==============================] - 0s 954us/step - loss: 172679.0469 - root_mean_squared_error: 172771.2344 - val_loss: 159233.8906 - val_root_mean_squared_error: 158714.6094\n",
      "Epoch 39/50\n",
      "433/433 [==============================] - 0s 905us/step - loss: 169520.3750 - root_mean_squared_error: 169497.5312 - val_loss: 167870.6562 - val_root_mean_squared_error: 167370.1719\n",
      "Epoch 40/50\n",
      "433/433 [==============================] - 0s 918us/step - loss: 167601.4688 - root_mean_squared_error: 167472.8750 - val_loss: 157640.3281 - val_root_mean_squared_error: 157128.3594\n",
      "Epoch 41/50\n",
      "433/433 [==============================] - 0s 913us/step - loss: 167097.0469 - root_mean_squared_error: 166928.5000 - val_loss: 156504.5156 - val_root_mean_squared_error: 156210.5469\n",
      "Epoch 42/50\n",
      "433/433 [==============================] - 0s 912us/step - loss: 171311.9219 - root_mean_squared_error: 171108.0312 - val_loss: 163495.0938 - val_root_mean_squared_error: 163081.7031\n",
      "Epoch 43/50\n"
     ]
    },
    {
     "name": "stdout",
     "output_type": "stream",
     "text": [
      "433/433 [==============================] - 0s 900us/step - loss: 169450.2500 - root_mean_squared_error: 169348.1875 - val_loss: 160400.0625 - val_root_mean_squared_error: 159818.6406\n",
      "Epoch 44/50\n",
      "433/433 [==============================] - 0s 907us/step - loss: 170069.4531 - root_mean_squared_error: 169940.7344 - val_loss: 157313.7812 - val_root_mean_squared_error: 156923.0625\n",
      "Epoch 45/50\n",
      "433/433 [==============================] - 0s 912us/step - loss: 163766.5781 - root_mean_squared_error: 163610.3125 - val_loss: 150810.0938 - val_root_mean_squared_error: 150143.8125\n",
      "Epoch 46/50\n",
      "433/433 [==============================] - 0s 905us/step - loss: 168731.9219 - root_mean_squared_error: 168690.1875 - val_loss: 195450.5156 - val_root_mean_squared_error: 194128.1094\n",
      "Epoch 47/50\n",
      "433/433 [==============================] - 0s 901us/step - loss: 169017.5625 - root_mean_squared_error: 168930.6250 - val_loss: 158245.4844 - val_root_mean_squared_error: 157807.9219\n",
      "Epoch 48/50\n",
      "433/433 [==============================] - 0s 926us/step - loss: 161828.2344 - root_mean_squared_error: 162758.3750 - val_loss: 148639.6406 - val_root_mean_squared_error: 148091.3281\n",
      "Epoch 49/50\n",
      "433/433 [==============================] - 0s 926us/step - loss: 160899.0312 - root_mean_squared_error: 161101.3906 - val_loss: 165995.3125 - val_root_mean_squared_error: 165686.2500\n",
      "Epoch 50/50\n",
      "433/433 [==============================] - 0s 945us/step - loss: 169516.2656 - root_mean_squared_error: 169379.3281 - val_loss: 144929.1719 - val_root_mean_squared_error: 144320.7031\n"
     ]
    }
   ],
   "source": [
    "history_2 = model_2.fit(dvariables, target, epochs = 50, validation_split = .2)"
   ]
  },
  {
   "cell_type": "code",
   "execution_count": 12,
   "metadata": {},
   "outputs": [
    {
     "name": "stdout",
     "output_type": "stream",
     "text": [
      "Evaluation at Epoch 50:\n",
      "\n",
      "loss:169516.265625\n",
      "\n",
      "root_mean_squared_error:169379.328125\n",
      "\n",
      "val_loss:144929.171875\n",
      "\n",
      "val_root_mean_squared_error:144320.703125\n",
      "\n"
     ]
    }
   ],
   "source": [
    "print('Evaluation at Epoch 50:\\n')\n",
    "for key in history_2.history:\n",
    "    print(key + ':' + str(history_2.history[key][-1]) + '\\n')"
   ]
  },
  {
   "cell_type": "markdown",
   "metadata": {},
   "source": [
    "The error here seemed to be reduced. This tells us that more layers were needed to get a better estimate of the target. I think another way to really zero in on an improvement would be to use Grid Search. That is the next step. "
   ]
  },
  {
   "cell_type": "code",
   "execution_count": null,
   "metadata": {},
   "outputs": [],
   "source": []
  }
 ],
 "metadata": {
  "kernelspec": {
   "display_name": "Python 3",
   "language": "python",
   "name": "python3"
  },
  "language_info": {
   "codemirror_mode": {
    "name": "ipython",
    "version": 3
   },
   "file_extension": ".py",
   "mimetype": "text/x-python",
   "name": "python",
   "nbconvert_exporter": "python",
   "pygments_lexer": "ipython3",
   "version": "3.8.5"
  },
  "toc": {
   "base_numbering": 1,
   "nav_menu": {},
   "number_sections": true,
   "sideBar": true,
   "skip_h1_title": false,
   "title_cell": "Table of Contents",
   "title_sidebar": "Contents",
   "toc_cell": false,
   "toc_position": {},
   "toc_section_display": true,
   "toc_window_display": false
  },
  "varInspector": {
   "cols": {
    "lenName": 16,
    "lenType": 16,
    "lenVar": 40
   },
   "kernels_config": {
    "python": {
     "delete_cmd_postfix": "",
     "delete_cmd_prefix": "del ",
     "library": "var_list.py",
     "varRefreshCmd": "print(var_dic_list())"
    },
    "r": {
     "delete_cmd_postfix": ") ",
     "delete_cmd_prefix": "rm(",
     "library": "var_list.r",
     "varRefreshCmd": "cat(var_dic_list()) "
    }
   },
   "types_to_exclude": [
    "module",
    "function",
    "builtin_function_or_method",
    "instance",
    "_Feature"
   ],
   "window_display": false
  }
 },
 "nbformat": 4,
 "nbformat_minor": 4
}
