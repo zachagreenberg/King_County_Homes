{
 "cells": [
  {
   "cell_type": "markdown",
   "metadata": {},
   "source": [
    "# Predictions on the Holdout Set"
   ]
  },
  {
   "cell_type": "code",
   "execution_count": 1,
   "metadata": {},
   "outputs": [],
   "source": [
    "#importing libraries\n",
    "import pandas as pd\n",
    "import numpy as np \n",
    "\n",
    "pd.set_option('display.max_columns', 300)"
   ]
  },
  {
   "cell_type": "code",
   "execution_count": 2,
   "metadata": {},
   "outputs": [
    {
     "name": "stdout",
     "output_type": "stream",
     "text": [
      "(4322, 20)\n"
     ]
    },
    {
     "data": {
      "text/html": [
       "<div>\n",
       "<style scoped>\n",
       "    .dataframe tbody tr th:only-of-type {\n",
       "        vertical-align: middle;\n",
       "    }\n",
       "\n",
       "    .dataframe tbody tr th {\n",
       "        vertical-align: top;\n",
       "    }\n",
       "\n",
       "    .dataframe thead th {\n",
       "        text-align: right;\n",
       "    }\n",
       "</style>\n",
       "<table border=\"1\" class=\"dataframe\">\n",
       "  <thead>\n",
       "    <tr style=\"text-align: right;\">\n",
       "      <th></th>\n",
       "      <th>id</th>\n",
       "      <th>date</th>\n",
       "      <th>bedrooms</th>\n",
       "      <th>bathrooms</th>\n",
       "      <th>sqft_living</th>\n",
       "      <th>sqft_lot</th>\n",
       "      <th>floors</th>\n",
       "      <th>waterfront</th>\n",
       "      <th>view</th>\n",
       "      <th>condition</th>\n",
       "      <th>grade</th>\n",
       "      <th>sqft_above</th>\n",
       "      <th>sqft_basement</th>\n",
       "      <th>yr_built</th>\n",
       "      <th>yr_renovated</th>\n",
       "      <th>zipcode</th>\n",
       "      <th>lat</th>\n",
       "      <th>long</th>\n",
       "      <th>sqft_living15</th>\n",
       "      <th>sqft_lot15</th>\n",
       "    </tr>\n",
       "  </thead>\n",
       "  <tbody>\n",
       "    <tr>\n",
       "      <th>0</th>\n",
       "      <td>1974300020</td>\n",
       "      <td>20140827T000000</td>\n",
       "      <td>4</td>\n",
       "      <td>2.50</td>\n",
       "      <td>2270</td>\n",
       "      <td>11500</td>\n",
       "      <td>1.0</td>\n",
       "      <td>0</td>\n",
       "      <td>0</td>\n",
       "      <td>3</td>\n",
       "      <td>8</td>\n",
       "      <td>1540</td>\n",
       "      <td>730</td>\n",
       "      <td>1967</td>\n",
       "      <td>0</td>\n",
       "      <td>98034</td>\n",
       "      <td>47.7089</td>\n",
       "      <td>-122.241</td>\n",
       "      <td>2020</td>\n",
       "      <td>10918</td>\n",
       "    </tr>\n",
       "    <tr>\n",
       "      <th>1</th>\n",
       "      <td>1974300020</td>\n",
       "      <td>20150218T000000</td>\n",
       "      <td>4</td>\n",
       "      <td>2.50</td>\n",
       "      <td>2270</td>\n",
       "      <td>11500</td>\n",
       "      <td>1.0</td>\n",
       "      <td>0</td>\n",
       "      <td>0</td>\n",
       "      <td>3</td>\n",
       "      <td>8</td>\n",
       "      <td>1540</td>\n",
       "      <td>730</td>\n",
       "      <td>1967</td>\n",
       "      <td>0</td>\n",
       "      <td>98034</td>\n",
       "      <td>47.7089</td>\n",
       "      <td>-122.241</td>\n",
       "      <td>2020</td>\n",
       "      <td>10918</td>\n",
       "    </tr>\n",
       "    <tr>\n",
       "      <th>2</th>\n",
       "      <td>3630020380</td>\n",
       "      <td>20141107T000000</td>\n",
       "      <td>3</td>\n",
       "      <td>2.50</td>\n",
       "      <td>1470</td>\n",
       "      <td>1779</td>\n",
       "      <td>2.0</td>\n",
       "      <td>0</td>\n",
       "      <td>0</td>\n",
       "      <td>3</td>\n",
       "      <td>8</td>\n",
       "      <td>1160</td>\n",
       "      <td>310</td>\n",
       "      <td>2005</td>\n",
       "      <td>0</td>\n",
       "      <td>98029</td>\n",
       "      <td>47.5472</td>\n",
       "      <td>-121.998</td>\n",
       "      <td>1470</td>\n",
       "      <td>1576</td>\n",
       "    </tr>\n",
       "    <tr>\n",
       "      <th>3</th>\n",
       "      <td>1771000290</td>\n",
       "      <td>20141203T000000</td>\n",
       "      <td>3</td>\n",
       "      <td>1.75</td>\n",
       "      <td>1280</td>\n",
       "      <td>16200</td>\n",
       "      <td>1.0</td>\n",
       "      <td>0</td>\n",
       "      <td>0</td>\n",
       "      <td>3</td>\n",
       "      <td>8</td>\n",
       "      <td>1030</td>\n",
       "      <td>250</td>\n",
       "      <td>1976</td>\n",
       "      <td>0</td>\n",
       "      <td>98077</td>\n",
       "      <td>47.7427</td>\n",
       "      <td>-122.071</td>\n",
       "      <td>1160</td>\n",
       "      <td>10565</td>\n",
       "    </tr>\n",
       "    <tr>\n",
       "      <th>4</th>\n",
       "      <td>5126310470</td>\n",
       "      <td>20150115T000000</td>\n",
       "      <td>4</td>\n",
       "      <td>2.75</td>\n",
       "      <td>2830</td>\n",
       "      <td>8126</td>\n",
       "      <td>2.0</td>\n",
       "      <td>0</td>\n",
       "      <td>0</td>\n",
       "      <td>3</td>\n",
       "      <td>8</td>\n",
       "      <td>2830</td>\n",
       "      <td>0</td>\n",
       "      <td>2005</td>\n",
       "      <td>0</td>\n",
       "      <td>98059</td>\n",
       "      <td>47.4863</td>\n",
       "      <td>-122.140</td>\n",
       "      <td>2830</td>\n",
       "      <td>7916</td>\n",
       "    </tr>\n",
       "  </tbody>\n",
       "</table>\n",
       "</div>"
      ],
      "text/plain": [
       "           id             date  bedrooms  bathrooms  sqft_living  sqft_lot  \\\n",
       "0  1974300020  20140827T000000         4       2.50         2270     11500   \n",
       "1  1974300020  20150218T000000         4       2.50         2270     11500   \n",
       "2  3630020380  20141107T000000         3       2.50         1470      1779   \n",
       "3  1771000290  20141203T000000         3       1.75         1280     16200   \n",
       "4  5126310470  20150115T000000         4       2.75         2830      8126   \n",
       "\n",
       "   floors  waterfront  view  condition  grade  sqft_above  sqft_basement  \\\n",
       "0     1.0           0     0          3      8        1540            730   \n",
       "1     1.0           0     0          3      8        1540            730   \n",
       "2     2.0           0     0          3      8        1160            310   \n",
       "3     1.0           0     0          3      8        1030            250   \n",
       "4     2.0           0     0          3      8        2830              0   \n",
       "\n",
       "   yr_built  yr_renovated  zipcode      lat     long  sqft_living15  \\\n",
       "0      1967             0    98034  47.7089 -122.241           2020   \n",
       "1      1967             0    98034  47.7089 -122.241           2020   \n",
       "2      2005             0    98029  47.5472 -121.998           1470   \n",
       "3      1976             0    98077  47.7427 -122.071           1160   \n",
       "4      2005             0    98059  47.4863 -122.140           2830   \n",
       "\n",
       "   sqft_lot15  \n",
       "0       10918  \n",
       "1       10918  \n",
       "2        1576  \n",
       "3       10565  \n",
       "4        7916  "
      ]
     },
     "execution_count": 2,
     "metadata": {},
     "output_type": "execute_result"
    }
   ],
   "source": [
    "#importing data\n",
    "df = pd.read_csv('Data/kc_house_data_test_features.csv', index_col=0)\n",
    "print(df.shape)\n",
    "df.head()"
   ]
  },
  {
   "cell_type": "code",
   "execution_count": 3,
   "metadata": {},
   "outputs": [
    {
     "data": {
      "text/plain": [
       "id             0\n",
       "date           0\n",
       "bedrooms       0\n",
       "bathrooms      0\n",
       "sqft_living    0\n",
       "dtype: int64"
      ]
     },
     "execution_count": 3,
     "metadata": {},
     "output_type": "execute_result"
    }
   ],
   "source": [
    "#Checking for null values\n",
    "df.isna().sum().head()"
   ]
  },
  {
   "cell_type": "markdown",
   "metadata": {},
   "source": [
    "There seems to be no null values I will proceed bring in my model and features."
   ]
  },
  {
   "cell_type": "markdown",
   "metadata": {},
   "source": [
    "## Model"
   ]
  },
  {
   "cell_type": "code",
   "execution_count": 4,
   "metadata": {
    "scrolled": true
   },
   "outputs": [],
   "source": [
    "import pickle"
   ]
  },
  {
   "cell_type": "code",
   "execution_count": 5,
   "metadata": {},
   "outputs": [],
   "source": [
    "#importing the model\n",
    "infile = open(\"Data/model.pickle\",'rb')\n",
    "model = pickle.load(infile)\n",
    "infile.close()"
   ]
  },
  {
   "cell_type": "code",
   "execution_count": 6,
   "metadata": {},
   "outputs": [
    {
     "name": "stdout",
     "output_type": "stream",
     "text": [
      "11.85382445291674\n",
      "88\n"
     ]
    }
   ],
   "source": [
    "print(model.intercept_)\n",
    "print(len(model.coef_))"
   ]
  },
  {
   "cell_type": "markdown",
   "metadata": {},
   "source": [
    "# Cleaning the New Data"
   ]
  },
  {
   "cell_type": "code",
   "execution_count": 7,
   "metadata": {},
   "outputs": [],
   "source": [
    "#bathrooms\n",
    "conditions = [df['bedrooms'] > 6, df['bedrooms'] < 1]\n",
    "choices = [6, 1]\n",
    "\n",
    "df['bedrooms'] = np.select(conditions, choices, df['bedrooms'])\n",
    "\n",
    "#bedrooms\n",
    "conditions = [df['bathrooms'] > 5, df['bathrooms'] < 1]\n",
    "choices = [5, 1]\n",
    "\n",
    "df['bathrooms'] = np.select(conditions, choices, df['bathrooms'])\n",
    "\n",
    "#sqft_living\n",
    "df['sqft_living']=np.where(df['sqft_living'] > 8000, 8000, df['sqft_living'])\n",
    "\n",
    "#sqft_lot\n",
    "df['sqft_lot']=np.where(df['sqft_lot'] > 600000, 600000, df['sqft_lot'])\n",
    "\n",
    "#sqft_living15\n",
    "df['sqft_living15']=np.where(df['sqft_living15'] > 5000, 5000, df['sqft_living15'])\n",
    "\n",
    "#sqft_lot15\n",
    "df['sqft_lot15']=np.where(df['sqft_lot15'] > 300000, 300000, df['sqft_lot15'])\n",
    "\n",
    "#new_grades - splitting the grades column into a manageable 3 groups\n",
    "\n",
    "#creating a new_grades column\n",
    "conditions = [df['grade'] <=6, df['grade'] <=9, df['grade'] >= 10]\n",
    "choices = [1, 2, 3] #1 is Below Average, 2 is Average, 3 is Above\n",
    "df['new_grades'] = np.select(conditions, choices)"
   ]
  },
  {
   "cell_type": "markdown",
   "metadata": {},
   "source": [
    "## Generating the Features"
   ]
  },
  {
   "cell_type": "code",
   "execution_count": 8,
   "metadata": {},
   "outputs": [],
   "source": [
    "#reno_size - a new interation feature between size and renovation\n",
    "\n",
    "#creating a been_renovated column for a dummy variable for an interaction feature. \n",
    "df['been_renovated'] = np.where(df['yr_renovated'] != 0, 1, df['yr_renovated'])\n",
    "\n",
    "df = pd.get_dummies(df, columns=['been_renovated'], drop_first = True)\n",
    "\n",
    "df['reno_size'] = df['been_renovated_1']*df['sqft_living']\n",
    "\n",
    "\n",
    "#amazon, microsoft, and boeing distance columns\n",
    "\n",
    "#merging latitude and longitude into a column of tuples.\n",
    "df['lat_long'] = list(zip(df['lat'], df['long']))\n",
    "\n",
    "#creating a function to convert the latitude and longitude distances to miles\n",
    "from math import radians, sin, cos, atan2, sqrt\n",
    "\n",
    "#These are the coordinates for Amazon, Boeing, and Microsoft Headquarters\n",
    "businesses=[(47.622288, -122.336494),(47.532531, -122.311605), (47.639323, -122.128383)]\n",
    "\n",
    "#This is a list of lat long coordinates of homes\n",
    "lat_long = list(df['lat_long'])\n",
    "\n",
    "def distance_from(home, business):\n",
    "    \"\"\"\n",
    "    Uses the haversine formula to calculate the average distance between the homes and \n",
    "    popular work headquarters then converts the distance into miles.\n",
    "    \"\"\"\n",
    "    #radius of earth in km\n",
    "    R = 6373\n",
    "    \n",
    "    lat1 = radians(business[0])\n",
    "    long1 = radians(business[1])\n",
    "    lat2 = radians(home[0])\n",
    "    long2 = radians(home[1])\n",
    "\n",
    "    dlon = long2 - long1\n",
    "    dlat = lat2 - lat1\n",
    "\n",
    "    a = sin(dlat / 2)**2 + cos(lat1) * cos(lat2) * sin(dlon / 2)**2\n",
    "    c = 2 * atan2(sqrt(a), sqrt(1 - a))\n",
    "    \n",
    "    #divide by 1.609 to convert into miles\n",
    "    distance = R*c / 1.609\n",
    "    return distance\n",
    "\n",
    "distances = []\n",
    "\n",
    "#getting the distance(in miles) between the three workplaces and the residences\n",
    "for business in businesses:\n",
    "    for home in lat_long:\n",
    "        distances.append(distance_from(home, business))\n",
    "        \n",
    "#making the three separate columns for them\n",
    "df['amazon'] = np.array(distances[:df.shape[0]])\n",
    "df['boeing'] = np.array(distances[df.shape[0]:df.shape[0]*2])\n",
    "df['microsoft'] = np.array(distances[df.shape[0]*2:])\n",
    "\n",
    "\n",
    "\n",
    "#polynomial feature of yard_size squared\n",
    "\n",
    "#creating a has basement column\n",
    "df['has_basement'] = np.where(df['sqft_basement'] != 0, 1, 0)\n",
    "\n",
    "#creating a floor including basement column\n",
    "df['floor_base'] = df['floors'] + df['has_basement']\n",
    "\n",
    "#Subtracting the lot size by the approximate living space of a single floor\n",
    "#The floor_base column has the basement in consideration as a floor. \n",
    "#This needed to be done to account for total living space.\n",
    "df['yard_size'] = df['sqft_lot'] - (df['sqft_living'] / df['floor_base'])\n",
    "\n",
    "#transforming it into a polynomial feature\n",
    "df['yard_size2']=df['yard_size']*df['yard_size']"
   ]
  },
  {
   "cell_type": "markdown",
   "metadata": {},
   "source": [
    "## Getting Dummies"
   ]
  },
  {
   "cell_type": "code",
   "execution_count": 9,
   "metadata": {},
   "outputs": [],
   "source": [
    "#getting dummies\n",
    "df = pd.get_dummies(df, columns=['zipcode', 'waterfront', 'condition', 'new_grades'], drop_first = True)"
   ]
  },
  {
   "cell_type": "markdown",
   "metadata": {},
   "source": [
    "## Final Columns"
   ]
  },
  {
   "cell_type": "code",
   "execution_count": 10,
   "metadata": {},
   "outputs": [],
   "source": [
    "final_columns = ['amazon', 'boeing', 'microsoft','reno_size', 'yard_size2', 'bathrooms', 'waterfront_1', 'new_grades_2',\n",
    "       'sqft_living', 'sqft_lot', 'sqft_living15', 'sqft_lot15', 'sqft_basement', 'sqft_above','new_grades_3', \n",
    "       'condition_2','condition_3','condition_4','condition_5','zipcode_98002', 'zipcode_98003',\n",
    "       'zipcode_98004', 'zipcode_98005', 'zipcode_98006', 'zipcode_98007',\n",
    "       'zipcode_98008', 'zipcode_98010', 'zipcode_98011', 'zipcode_98014',\n",
    "       'zipcode_98019', 'zipcode_98022', 'zipcode_98023', 'zipcode_98024',\n",
    "       'zipcode_98027', 'zipcode_98028', 'zipcode_98029', 'zipcode_98030',\n",
    "       'zipcode_98031', 'zipcode_98032', 'zipcode_98033', 'zipcode_98034',\n",
    "       'zipcode_98038', 'zipcode_98039', 'zipcode_98040', 'zipcode_98042',\n",
    "       'zipcode_98045', 'zipcode_98052', 'zipcode_98053', 'zipcode_98055',\n",
    "       'zipcode_98056', 'zipcode_98058', 'zipcode_98059', 'zipcode_98065',\n",
    "       'zipcode_98070', 'zipcode_98072', 'zipcode_98074', 'zipcode_98075',\n",
    "       'zipcode_98077', 'zipcode_98092', 'zipcode_98102', 'zipcode_98103',\n",
    "       'zipcode_98105', 'zipcode_98106', 'zipcode_98107', 'zipcode_98108',\n",
    "       'zipcode_98109', 'zipcode_98112', 'zipcode_98115', 'zipcode_98116',\n",
    "       'zipcode_98117', 'zipcode_98118', 'zipcode_98119', 'zipcode_98122',\n",
    "       'zipcode_98125', 'zipcode_98126', 'zipcode_98133', 'zipcode_98136',\n",
    "       'zipcode_98144', 'zipcode_98146', 'zipcode_98148', 'zipcode_98155',\n",
    "       'zipcode_98166', 'zipcode_98168', 'zipcode_98177', 'zipcode_98178',\n",
    "       'zipcode_98188', 'zipcode_98198', 'zipcode_98199']"
   ]
  },
  {
   "cell_type": "markdown",
   "metadata": {},
   "source": [
    "## Bringing in the Model"
   ]
  },
  {
   "cell_type": "code",
   "execution_count": 11,
   "metadata": {},
   "outputs": [],
   "source": [
    "final_answers = model.predict(df[final_columns])\n",
    "final_answer_exp = np.exp(final_answers)"
   ]
  },
  {
   "cell_type": "markdown",
   "metadata": {},
   "source": [
    "## Exporting Predictions"
   ]
  },
  {
   "cell_type": "code",
   "execution_count": 12,
   "metadata": {},
   "outputs": [],
   "source": [
    "df = pd.DataFrame(final_answer_exp)\n",
    "df.to_csv('Data/housing_preds_zachary_greenberg.csv')"
   ]
  }
 ],
 "metadata": {
  "kernelspec": {
   "display_name": "learn-env",
   "language": "python",
   "name": "learn-env"
  },
  "language_info": {
   "codemirror_mode": {
    "name": "ipython",
    "version": 3
   },
   "file_extension": ".py",
   "mimetype": "text/x-python",
   "name": "python",
   "nbconvert_exporter": "python",
   "pygments_lexer": "ipython3",
   "version": "3.8.5"
  }
 },
 "nbformat": 4,
 "nbformat_minor": 4
}
