{
 "cells": [
  {
   "cell_type": "markdown",
   "metadata": {},
   "source": [
    "# Final Notebook"
   ]
  },
  {
   "cell_type": "code",
   "execution_count": 1,
   "metadata": {},
   "outputs": [],
   "source": [
    "import pandas as pd\n",
    "import matplotlib.pyplot as plt\n",
    "import seaborn as sns\n",
    "import numpy as np\n",
    "from scipy import stats\n",
    "from statsmodels.formula.api import ols\n",
    "from sklearn.linear_model import LinearRegression\n",
    "import sklearn.metrics as metrics\n",
    "\n",
    "%matplotlib inline"
   ]
  },
  {
   "cell_type": "markdown",
   "metadata": {},
   "source": [
    "# ***DATA UNDERSTANDING***"
   ]
  },
  {
   "cell_type": "code",
   "execution_count": 2,
   "metadata": {},
   "outputs": [],
   "source": [
    "#uploading the dataset\n",
    "df = pd.read_csv('Data/kc_house_data_train.csv', index_col = 'Unnamed: 0')"
   ]
  },
  {
   "cell_type": "code",
   "execution_count": 3,
   "metadata": {},
   "outputs": [
    {
     "data": {
      "text/html": [
       "<div>\n",
       "<style scoped>\n",
       "    .dataframe tbody tr th:only-of-type {\n",
       "        vertical-align: middle;\n",
       "    }\n",
       "\n",
       "    .dataframe tbody tr th {\n",
       "        vertical-align: top;\n",
       "    }\n",
       "\n",
       "    .dataframe thead th {\n",
       "        text-align: right;\n",
       "    }\n",
       "</style>\n",
       "<table border=\"1\" class=\"dataframe\">\n",
       "  <thead>\n",
       "    <tr style=\"text-align: right;\">\n",
       "      <th></th>\n",
       "      <th>id</th>\n",
       "      <th>date</th>\n",
       "      <th>price</th>\n",
       "      <th>bedrooms</th>\n",
       "      <th>bathrooms</th>\n",
       "      <th>sqft_living</th>\n",
       "      <th>sqft_lot</th>\n",
       "      <th>floors</th>\n",
       "      <th>waterfront</th>\n",
       "      <th>view</th>\n",
       "      <th>...</th>\n",
       "      <th>grade</th>\n",
       "      <th>sqft_above</th>\n",
       "      <th>sqft_basement</th>\n",
       "      <th>yr_built</th>\n",
       "      <th>yr_renovated</th>\n",
       "      <th>zipcode</th>\n",
       "      <th>lat</th>\n",
       "      <th>long</th>\n",
       "      <th>sqft_living15</th>\n",
       "      <th>sqft_lot15</th>\n",
       "    </tr>\n",
       "  </thead>\n",
       "  <tbody>\n",
       "    <tr>\n",
       "      <th>0</th>\n",
       "      <td>2591820310</td>\n",
       "      <td>20141006T000000</td>\n",
       "      <td>365000.0</td>\n",
       "      <td>4</td>\n",
       "      <td>2.25</td>\n",
       "      <td>2070</td>\n",
       "      <td>8893</td>\n",
       "      <td>2.0</td>\n",
       "      <td>0</td>\n",
       "      <td>0</td>\n",
       "      <td>...</td>\n",
       "      <td>8</td>\n",
       "      <td>2070</td>\n",
       "      <td>0</td>\n",
       "      <td>1986</td>\n",
       "      <td>0</td>\n",
       "      <td>98058</td>\n",
       "      <td>47.4388</td>\n",
       "      <td>-122.162</td>\n",
       "      <td>2390</td>\n",
       "      <td>7700</td>\n",
       "    </tr>\n",
       "    <tr>\n",
       "      <th>1</th>\n",
       "      <td>7974200820</td>\n",
       "      <td>20140821T000000</td>\n",
       "      <td>865000.0</td>\n",
       "      <td>5</td>\n",
       "      <td>3.00</td>\n",
       "      <td>2900</td>\n",
       "      <td>6730</td>\n",
       "      <td>1.0</td>\n",
       "      <td>0</td>\n",
       "      <td>0</td>\n",
       "      <td>...</td>\n",
       "      <td>8</td>\n",
       "      <td>1830</td>\n",
       "      <td>1070</td>\n",
       "      <td>1977</td>\n",
       "      <td>0</td>\n",
       "      <td>98115</td>\n",
       "      <td>47.6784</td>\n",
       "      <td>-122.285</td>\n",
       "      <td>2370</td>\n",
       "      <td>6283</td>\n",
       "    </tr>\n",
       "  </tbody>\n",
       "</table>\n",
       "<p>2 rows × 21 columns</p>\n",
       "</div>"
      ],
      "text/plain": [
       "           id             date     price  bedrooms  bathrooms  sqft_living  \\\n",
       "0  2591820310  20141006T000000  365000.0         4       2.25         2070   \n",
       "1  7974200820  20140821T000000  865000.0         5       3.00         2900   \n",
       "\n",
       "   sqft_lot  floors  waterfront  view  ...  grade  sqft_above  sqft_basement  \\\n",
       "0      8893     2.0           0     0  ...      8        2070              0   \n",
       "1      6730     1.0           0     0  ...      8        1830           1070   \n",
       "\n",
       "   yr_built  yr_renovated  zipcode      lat     long  sqft_living15  \\\n",
       "0      1986             0    98058  47.4388 -122.162           2390   \n",
       "1      1977             0    98115  47.6784 -122.285           2370   \n",
       "\n",
       "   sqft_lot15  \n",
       "0        7700  \n",
       "1        6283  \n",
       "\n",
       "[2 rows x 21 columns]"
      ]
     },
     "execution_count": 3,
     "metadata": {},
     "output_type": "execute_result"
    }
   ],
   "source": [
    "df.head(2)"
   ]
  },
  {
   "cell_type": "code",
   "execution_count": 4,
   "metadata": {},
   "outputs": [
    {
     "data": {
      "text/plain": [
       "id       int64\n",
       "date    object\n",
       "dtype: object"
      ]
     },
     "execution_count": 4,
     "metadata": {},
     "output_type": "execute_result"
    }
   ],
   "source": [
    "df.dtypes.head(2)"
   ]
  },
  {
   "cell_type": "code",
   "execution_count": 5,
   "metadata": {},
   "outputs": [
    {
     "data": {
      "text/html": [
       "<div>\n",
       "<style scoped>\n",
       "    .dataframe tbody tr th:only-of-type {\n",
       "        vertical-align: middle;\n",
       "    }\n",
       "\n",
       "    .dataframe tbody tr th {\n",
       "        vertical-align: top;\n",
       "    }\n",
       "\n",
       "    .dataframe thead th {\n",
       "        text-align: right;\n",
       "    }\n",
       "</style>\n",
       "<table border=\"1\" class=\"dataframe\">\n",
       "  <thead>\n",
       "    <tr style=\"text-align: right;\">\n",
       "      <th></th>\n",
       "      <th>id</th>\n",
       "      <th>price</th>\n",
       "      <th>bedrooms</th>\n",
       "      <th>bathrooms</th>\n",
       "      <th>sqft_living</th>\n",
       "      <th>sqft_lot</th>\n",
       "      <th>floors</th>\n",
       "      <th>waterfront</th>\n",
       "      <th>view</th>\n",
       "      <th>condition</th>\n",
       "      <th>grade</th>\n",
       "      <th>sqft_above</th>\n",
       "      <th>sqft_basement</th>\n",
       "      <th>yr_built</th>\n",
       "      <th>yr_renovated</th>\n",
       "      <th>zipcode</th>\n",
       "      <th>lat</th>\n",
       "      <th>long</th>\n",
       "      <th>sqft_living15</th>\n",
       "      <th>sqft_lot15</th>\n",
       "    </tr>\n",
       "  </thead>\n",
       "  <tbody>\n",
       "    <tr>\n",
       "      <th>count</th>\n",
       "      <td>1.729000e+04</td>\n",
       "      <td>1.729000e+04</td>\n",
       "      <td>17290.000000</td>\n",
       "      <td>17290.000000</td>\n",
       "      <td>17290.000000</td>\n",
       "      <td>1.729000e+04</td>\n",
       "      <td>17290.000000</td>\n",
       "      <td>17290.000000</td>\n",
       "      <td>17290.000000</td>\n",
       "      <td>17290.000000</td>\n",
       "      <td>17290.000000</td>\n",
       "      <td>17290.000000</td>\n",
       "      <td>17290.000000</td>\n",
       "      <td>17290.000000</td>\n",
       "      <td>17290.000000</td>\n",
       "      <td>17290.000000</td>\n",
       "      <td>17290.000000</td>\n",
       "      <td>17290.000000</td>\n",
       "      <td>17290.000000</td>\n",
       "      <td>17290.000000</td>\n",
       "    </tr>\n",
       "    <tr>\n",
       "      <th>mean</th>\n",
       "      <td>4.565502e+09</td>\n",
       "      <td>5.407395e+05</td>\n",
       "      <td>3.372470</td>\n",
       "      <td>2.111943</td>\n",
       "      <td>2081.464604</td>\n",
       "      <td>1.524340e+04</td>\n",
       "      <td>1.490312</td>\n",
       "      <td>0.007981</td>\n",
       "      <td>0.238519</td>\n",
       "      <td>3.408502</td>\n",
       "      <td>7.654425</td>\n",
       "      <td>1789.306015</td>\n",
       "      <td>292.158589</td>\n",
       "      <td>1970.792019</td>\n",
       "      <td>83.806304</td>\n",
       "      <td>98078.193175</td>\n",
       "      <td>47.560058</td>\n",
       "      <td>-122.214258</td>\n",
       "      <td>1987.986698</td>\n",
       "      <td>12873.475824</td>\n",
       "    </tr>\n",
       "    <tr>\n",
       "      <th>std</th>\n",
       "      <td>2.874656e+09</td>\n",
       "      <td>3.733190e+05</td>\n",
       "      <td>0.939346</td>\n",
       "      <td>0.770476</td>\n",
       "      <td>920.018539</td>\n",
       "      <td>4.230462e+04</td>\n",
       "      <td>0.538909</td>\n",
       "      <td>0.088985</td>\n",
       "      <td>0.775229</td>\n",
       "      <td>0.651296</td>\n",
       "      <td>1.174718</td>\n",
       "      <td>829.265107</td>\n",
       "      <td>443.151874</td>\n",
       "      <td>29.343516</td>\n",
       "      <td>400.329376</td>\n",
       "      <td>53.607949</td>\n",
       "      <td>0.138412</td>\n",
       "      <td>0.140857</td>\n",
       "      <td>684.802635</td>\n",
       "      <td>27227.437583</td>\n",
       "    </tr>\n",
       "    <tr>\n",
       "      <th>min</th>\n",
       "      <td>1.000102e+06</td>\n",
       "      <td>7.500000e+04</td>\n",
       "      <td>0.000000</td>\n",
       "      <td>0.000000</td>\n",
       "      <td>290.000000</td>\n",
       "      <td>5.720000e+02</td>\n",
       "      <td>1.000000</td>\n",
       "      <td>0.000000</td>\n",
       "      <td>0.000000</td>\n",
       "      <td>1.000000</td>\n",
       "      <td>1.000000</td>\n",
       "      <td>290.000000</td>\n",
       "      <td>0.000000</td>\n",
       "      <td>1900.000000</td>\n",
       "      <td>0.000000</td>\n",
       "      <td>98001.000000</td>\n",
       "      <td>47.155900</td>\n",
       "      <td>-122.519000</td>\n",
       "      <td>399.000000</td>\n",
       "      <td>659.000000</td>\n",
       "    </tr>\n",
       "    <tr>\n",
       "      <th>25%</th>\n",
       "      <td>2.114701e+09</td>\n",
       "      <td>3.210000e+05</td>\n",
       "      <td>3.000000</td>\n",
       "      <td>1.500000</td>\n",
       "      <td>1430.000000</td>\n",
       "      <td>5.081250e+03</td>\n",
       "      <td>1.000000</td>\n",
       "      <td>0.000000</td>\n",
       "      <td>0.000000</td>\n",
       "      <td>3.000000</td>\n",
       "      <td>7.000000</td>\n",
       "      <td>1200.000000</td>\n",
       "      <td>0.000000</td>\n",
       "      <td>1951.000000</td>\n",
       "      <td>0.000000</td>\n",
       "      <td>98033.000000</td>\n",
       "      <td>47.471200</td>\n",
       "      <td>-122.329000</td>\n",
       "      <td>1490.000000</td>\n",
       "      <td>5111.250000</td>\n",
       "    </tr>\n",
       "    <tr>\n",
       "      <th>50%</th>\n",
       "      <td>3.903650e+09</td>\n",
       "      <td>4.500000e+05</td>\n",
       "      <td>3.000000</td>\n",
       "      <td>2.250000</td>\n",
       "      <td>1920.000000</td>\n",
       "      <td>7.642000e+03</td>\n",
       "      <td>1.500000</td>\n",
       "      <td>0.000000</td>\n",
       "      <td>0.000000</td>\n",
       "      <td>3.000000</td>\n",
       "      <td>7.000000</td>\n",
       "      <td>1560.000000</td>\n",
       "      <td>0.000000</td>\n",
       "      <td>1974.000000</td>\n",
       "      <td>0.000000</td>\n",
       "      <td>98065.000000</td>\n",
       "      <td>47.571600</td>\n",
       "      <td>-122.230000</td>\n",
       "      <td>1840.000000</td>\n",
       "      <td>7622.500000</td>\n",
       "    </tr>\n",
       "    <tr>\n",
       "      <th>75%</th>\n",
       "      <td>7.301150e+09</td>\n",
       "      <td>6.450000e+05</td>\n",
       "      <td>4.000000</td>\n",
       "      <td>2.500000</td>\n",
       "      <td>2550.000000</td>\n",
       "      <td>1.072575e+04</td>\n",
       "      <td>2.000000</td>\n",
       "      <td>0.000000</td>\n",
       "      <td>0.000000</td>\n",
       "      <td>4.000000</td>\n",
       "      <td>8.000000</td>\n",
       "      <td>2214.500000</td>\n",
       "      <td>560.000000</td>\n",
       "      <td>1996.000000</td>\n",
       "      <td>0.000000</td>\n",
       "      <td>98118.000000</td>\n",
       "      <td>47.677900</td>\n",
       "      <td>-122.126000</td>\n",
       "      <td>2360.000000</td>\n",
       "      <td>10101.750000</td>\n",
       "    </tr>\n",
       "    <tr>\n",
       "      <th>max</th>\n",
       "      <td>9.900000e+09</td>\n",
       "      <td>7.700000e+06</td>\n",
       "      <td>33.000000</td>\n",
       "      <td>8.000000</td>\n",
       "      <td>13540.000000</td>\n",
       "      <td>1.651359e+06</td>\n",
       "      <td>3.500000</td>\n",
       "      <td>1.000000</td>\n",
       "      <td>4.000000</td>\n",
       "      <td>5.000000</td>\n",
       "      <td>13.000000</td>\n",
       "      <td>9410.000000</td>\n",
       "      <td>4820.000000</td>\n",
       "      <td>2015.000000</td>\n",
       "      <td>2015.000000</td>\n",
       "      <td>98199.000000</td>\n",
       "      <td>47.777600</td>\n",
       "      <td>-121.315000</td>\n",
       "      <td>6210.000000</td>\n",
       "      <td>858132.000000</td>\n",
       "    </tr>\n",
       "  </tbody>\n",
       "</table>\n",
       "</div>"
      ],
      "text/plain": [
       "                 id         price      bedrooms     bathrooms   sqft_living  \\\n",
       "count  1.729000e+04  1.729000e+04  17290.000000  17290.000000  17290.000000   \n",
       "mean   4.565502e+09  5.407395e+05      3.372470      2.111943   2081.464604   \n",
       "std    2.874656e+09  3.733190e+05      0.939346      0.770476    920.018539   \n",
       "min    1.000102e+06  7.500000e+04      0.000000      0.000000    290.000000   \n",
       "25%    2.114701e+09  3.210000e+05      3.000000      1.500000   1430.000000   \n",
       "50%    3.903650e+09  4.500000e+05      3.000000      2.250000   1920.000000   \n",
       "75%    7.301150e+09  6.450000e+05      4.000000      2.500000   2550.000000   \n",
       "max    9.900000e+09  7.700000e+06     33.000000      8.000000  13540.000000   \n",
       "\n",
       "           sqft_lot        floors    waterfront          view     condition  \\\n",
       "count  1.729000e+04  17290.000000  17290.000000  17290.000000  17290.000000   \n",
       "mean   1.524340e+04      1.490312      0.007981      0.238519      3.408502   \n",
       "std    4.230462e+04      0.538909      0.088985      0.775229      0.651296   \n",
       "min    5.720000e+02      1.000000      0.000000      0.000000      1.000000   \n",
       "25%    5.081250e+03      1.000000      0.000000      0.000000      3.000000   \n",
       "50%    7.642000e+03      1.500000      0.000000      0.000000      3.000000   \n",
       "75%    1.072575e+04      2.000000      0.000000      0.000000      4.000000   \n",
       "max    1.651359e+06      3.500000      1.000000      4.000000      5.000000   \n",
       "\n",
       "              grade    sqft_above  sqft_basement      yr_built  yr_renovated  \\\n",
       "count  17290.000000  17290.000000   17290.000000  17290.000000  17290.000000   \n",
       "mean       7.654425   1789.306015     292.158589   1970.792019     83.806304   \n",
       "std        1.174718    829.265107     443.151874     29.343516    400.329376   \n",
       "min        1.000000    290.000000       0.000000   1900.000000      0.000000   \n",
       "25%        7.000000   1200.000000       0.000000   1951.000000      0.000000   \n",
       "50%        7.000000   1560.000000       0.000000   1974.000000      0.000000   \n",
       "75%        8.000000   2214.500000     560.000000   1996.000000      0.000000   \n",
       "max       13.000000   9410.000000    4820.000000   2015.000000   2015.000000   \n",
       "\n",
       "            zipcode           lat          long  sqft_living15     sqft_lot15  \n",
       "count  17290.000000  17290.000000  17290.000000   17290.000000   17290.000000  \n",
       "mean   98078.193175     47.560058   -122.214258    1987.986698   12873.475824  \n",
       "std       53.607949      0.138412      0.140857     684.802635   27227.437583  \n",
       "min    98001.000000     47.155900   -122.519000     399.000000     659.000000  \n",
       "25%    98033.000000     47.471200   -122.329000    1490.000000    5111.250000  \n",
       "50%    98065.000000     47.571600   -122.230000    1840.000000    7622.500000  \n",
       "75%    98118.000000     47.677900   -122.126000    2360.000000   10101.750000  \n",
       "max    98199.000000     47.777600   -121.315000    6210.000000  858132.000000  "
      ]
     },
     "execution_count": 5,
     "metadata": {},
     "output_type": "execute_result"
    }
   ],
   "source": [
    "df.describe()"
   ]
  },
  {
   "cell_type": "code",
   "execution_count": 6,
   "metadata": {},
   "outputs": [
    {
     "data": {
      "image/png": "[encoded data removed]",
      "text/plain": [
       "<Figure size 432x288 with 1 Axes>"
      ]
     },
     "metadata": {
      "needs_background": "light"
     },
     "output_type": "display_data"
    }
   ],
   "source": [
    "#checking for missing values\n",
    "ax = plt.axes()\n",
    "sns.heatmap(df.isnull(), cbar=False)\n",
    "ax.set_title('Missing Values')\n",
    "plt.show();"
   ]
  },
  {
   "cell_type": "markdown",
   "metadata": {},
   "source": [
    "There are no missing values in this dataset but that does not rule out some outlier data."
   ]
  },
  {
   "cell_type": "markdown",
   "metadata": {},
   "source": [
    "# ***CLEANING PROCESS***"
   ]
  },
  {
   "cell_type": "markdown",
   "metadata": {},
   "source": [
    "Looking at the first few columns:"
   ]
  },
  {
   "cell_type": "markdown",
   "metadata": {},
   "source": [
    "-**Date**"
   ]
  },
  {
   "cell_type": "code",
   "execution_count": 7,
   "metadata": {},
   "outputs": [
    {
     "data": {
      "text/html": [
       "<div>\n",
       "<style scoped>\n",
       "    .dataframe tbody tr th:only-of-type {\n",
       "        vertical-align: middle;\n",
       "    }\n",
       "\n",
       "    .dataframe tbody tr th {\n",
       "        vertical-align: top;\n",
       "    }\n",
       "\n",
       "    .dataframe thead th {\n",
       "        text-align: right;\n",
       "    }\n",
       "</style>\n",
       "<table border=\"1\" class=\"dataframe\">\n",
       "  <thead>\n",
       "    <tr style=\"text-align: right;\">\n",
       "      <th></th>\n",
       "      <th>id</th>\n",
       "      <th>date</th>\n",
       "      <th>price</th>\n",
       "      <th>bedrooms</th>\n",
       "      <th>bathrooms</th>\n",
       "      <th>sqft_living</th>\n",
       "      <th>sqft_lot</th>\n",
       "      <th>floors</th>\n",
       "      <th>waterfront</th>\n",
       "      <th>view</th>\n",
       "      <th>...</th>\n",
       "      <th>grade</th>\n",
       "      <th>sqft_above</th>\n",
       "      <th>sqft_basement</th>\n",
       "      <th>yr_built</th>\n",
       "      <th>yr_renovated</th>\n",
       "      <th>zipcode</th>\n",
       "      <th>lat</th>\n",
       "      <th>long</th>\n",
       "      <th>sqft_living15</th>\n",
       "      <th>sqft_lot15</th>\n",
       "    </tr>\n",
       "  </thead>\n",
       "  <tbody>\n",
       "    <tr>\n",
       "      <th>0</th>\n",
       "      <td>2591820310</td>\n",
       "      <td>2014-10-06</td>\n",
       "      <td>365000.0</td>\n",
       "      <td>4</td>\n",
       "      <td>2.25</td>\n",
       "      <td>2070</td>\n",
       "      <td>8893</td>\n",
       "      <td>2.0</td>\n",
       "      <td>0</td>\n",
       "      <td>0</td>\n",
       "      <td>...</td>\n",
       "      <td>8</td>\n",
       "      <td>2070</td>\n",
       "      <td>0</td>\n",
       "      <td>1986</td>\n",
       "      <td>0</td>\n",
       "      <td>98058</td>\n",
       "      <td>47.4388</td>\n",
       "      <td>-122.162</td>\n",
       "      <td>2390</td>\n",
       "      <td>7700</td>\n",
       "    </tr>\n",
       "    <tr>\n",
       "      <th>1</th>\n",
       "      <td>7974200820</td>\n",
       "      <td>2014-08-21</td>\n",
       "      <td>865000.0</td>\n",
       "      <td>5</td>\n",
       "      <td>3.00</td>\n",
       "      <td>2900</td>\n",
       "      <td>6730</td>\n",
       "      <td>1.0</td>\n",
       "      <td>0</td>\n",
       "      <td>0</td>\n",
       "      <td>...</td>\n",
       "      <td>8</td>\n",
       "      <td>1830</td>\n",
       "      <td>1070</td>\n",
       "      <td>1977</td>\n",
       "      <td>0</td>\n",
       "      <td>98115</td>\n",
       "      <td>47.6784</td>\n",
       "      <td>-122.285</td>\n",
       "      <td>2370</td>\n",
       "      <td>6283</td>\n",
       "    </tr>\n",
       "  </tbody>\n",
       "</table>\n",
       "<p>2 rows × 21 columns</p>\n",
       "</div>"
      ],
      "text/plain": [
       "           id       date     price  bedrooms  bathrooms  sqft_living  \\\n",
       "0  2591820310 2014-10-06  365000.0         4       2.25         2070   \n",
       "1  7974200820 2014-08-21  865000.0         5       3.00         2900   \n",
       "\n",
       "   sqft_lot  floors  waterfront  view  ...  grade  sqft_above  sqft_basement  \\\n",
       "0      8893     2.0           0     0  ...      8        2070              0   \n",
       "1      6730     1.0           0     0  ...      8        1830           1070   \n",
       "\n",
       "   yr_built  yr_renovated  zipcode      lat     long  sqft_living15  \\\n",
       "0      1986             0    98058  47.4388 -122.162           2390   \n",
       "1      1977             0    98115  47.6784 -122.285           2370   \n",
       "\n",
       "   sqft_lot15  \n",
       "0        7700  \n",
       "1        6283  \n",
       "\n",
       "[2 rows x 21 columns]"
      ]
     },
     "execution_count": 7,
     "metadata": {},
     "output_type": "execute_result"
    }
   ],
   "source": [
    "#putting the date column into datetime\n",
    "df['date'] = pd.to_datetime(df['date'])\n",
    "df.head(2)"
   ]
  },
  {
   "cell_type": "code",
   "execution_count": 8,
   "metadata": {},
   "outputs": [
    {
     "data": {
      "text/plain": [
       "(371, 17290)"
      ]
     },
     "execution_count": 8,
     "metadata": {},
     "output_type": "execute_result"
    }
   ],
   "source": [
    "df['date'].nunique(), df.shape[0]"
   ]
  },
  {
   "cell_type": "markdown",
   "metadata": {},
   "source": [
    "For the amount of rows in this dataset, there are only 371 unique dates. "
   ]
  },
  {
   "cell_type": "markdown",
   "metadata": {},
   "source": [
    "-**Bedrooms**"
   ]
  },
  {
   "cell_type": "code",
   "execution_count": 9,
   "metadata": {},
   "outputs": [
    {
     "name": "stderr",
     "output_type": "stream",
     "text": [
      "/opt/anaconda3/envs/learn-env/lib/python3.8/site-packages/seaborn/_decorators.py:36: FutureWarning: Pass the following variable as a keyword arg: x. From version 0.12, the only valid positional argument will be `data`, and passing other arguments without an explicit keyword will result in an error or misinterpretation.\n",
      "  warnings.warn(\n"
     ]
    },
    {
     "data": {
      "text/plain": [
       "<seaborn.axisgrid.FacetGrid at 0x7ff380a5b640>"
      ]
     },
     "execution_count": 9,
     "metadata": {},
     "output_type": "execute_result"
    },
    {
     "data": {
      "image/png": "[encoded data removed]",
      "text/plain": [
       "<Figure size 432x288 with 1 Axes>"
      ]
     },
     "metadata": {
      "needs_background": "light"
     },
     "output_type": "display_data"
    },
    {
     "data": {
      "image/png": "[encoded data removed]",
      "text/plain": [
       "<Figure size 360x360 with 1 Axes>"
      ]
     },
     "metadata": {
      "needs_background": "light"
     },
     "output_type": "display_data"
    }
   ],
   "source": [
    "sns.boxplot(df['bedrooms']);\n",
    "sns.lmplot(x='bedrooms', y='price', data = df)"
   ]
  },
  {
   "cell_type": "markdown",
   "metadata": {},
   "source": [
    "The 33 bedrooms, I believe, is most definitely a misprint. After checking the sqft_living of the home compared to the other upper bound bedrooms, I noticed that logically the squarefootage woudn't make sense. And when looking at the graphs above it looks strange that there is a price dip after 6 bedrooms. I am going to impute from there."
   ]
  },
  {
   "cell_type": "code",
   "execution_count": 10,
   "metadata": {},
   "outputs": [
    {
     "data": {
      "text/html": [
       "<div>\n",
       "<style scoped>\n",
       "    .dataframe tbody tr th:only-of-type {\n",
       "        vertical-align: middle;\n",
       "    }\n",
       "\n",
       "    .dataframe tbody tr th {\n",
       "        vertical-align: top;\n",
       "    }\n",
       "\n",
       "    .dataframe thead th {\n",
       "        text-align: right;\n",
       "    }\n",
       "</style>\n",
       "<table border=\"1\" class=\"dataframe\">\n",
       "  <thead>\n",
       "    <tr style=\"text-align: right;\">\n",
       "      <th></th>\n",
       "      <th>id</th>\n",
       "      <th>date</th>\n",
       "      <th>price</th>\n",
       "      <th>bedrooms</th>\n",
       "      <th>bathrooms</th>\n",
       "      <th>sqft_living</th>\n",
       "      <th>sqft_lot</th>\n",
       "      <th>floors</th>\n",
       "      <th>waterfront</th>\n",
       "      <th>view</th>\n",
       "      <th>...</th>\n",
       "      <th>grade</th>\n",
       "      <th>sqft_above</th>\n",
       "      <th>sqft_basement</th>\n",
       "      <th>yr_built</th>\n",
       "      <th>yr_renovated</th>\n",
       "      <th>zipcode</th>\n",
       "      <th>lat</th>\n",
       "      <th>long</th>\n",
       "      <th>sqft_living15</th>\n",
       "      <th>sqft_lot15</th>\n",
       "    </tr>\n",
       "  </thead>\n",
       "  <tbody>\n",
       "    <tr>\n",
       "      <th>483</th>\n",
       "      <td>3374500520</td>\n",
       "      <td>2015-04-29</td>\n",
       "      <td>355000.0</td>\n",
       "      <td>0</td>\n",
       "      <td>0.0</td>\n",
       "      <td>2460</td>\n",
       "      <td>8049</td>\n",
       "      <td>2.0</td>\n",
       "      <td>0</td>\n",
       "      <td>0</td>\n",
       "      <td>...</td>\n",
       "      <td>8</td>\n",
       "      <td>2460</td>\n",
       "      <td>0</td>\n",
       "      <td>1990</td>\n",
       "      <td>0</td>\n",
       "      <td>98031</td>\n",
       "      <td>47.4095</td>\n",
       "      <td>-122.168</td>\n",
       "      <td>2520</td>\n",
       "      <td>8050</td>\n",
       "    </tr>\n",
       "    <tr>\n",
       "      <th>1120</th>\n",
       "      <td>6306400140</td>\n",
       "      <td>2014-06-12</td>\n",
       "      <td>1095000.0</td>\n",
       "      <td>0</td>\n",
       "      <td>0.0</td>\n",
       "      <td>3064</td>\n",
       "      <td>4764</td>\n",
       "      <td>3.5</td>\n",
       "      <td>0</td>\n",
       "      <td>2</td>\n",
       "      <td>...</td>\n",
       "      <td>7</td>\n",
       "      <td>3064</td>\n",
       "      <td>0</td>\n",
       "      <td>1990</td>\n",
       "      <td>0</td>\n",
       "      <td>98102</td>\n",
       "      <td>47.6362</td>\n",
       "      <td>-122.322</td>\n",
       "      <td>2360</td>\n",
       "      <td>4000</td>\n",
       "    </tr>\n",
       "  </tbody>\n",
       "</table>\n",
       "<p>2 rows × 21 columns</p>\n",
       "</div>"
      ],
      "text/plain": [
       "              id       date      price  bedrooms  bathrooms  sqft_living  \\\n",
       "483   3374500520 2015-04-29   355000.0         0        0.0         2460   \n",
       "1120  6306400140 2014-06-12  1095000.0         0        0.0         3064   \n",
       "\n",
       "      sqft_lot  floors  waterfront  view  ...  grade  sqft_above  \\\n",
       "483       8049     2.0           0     0  ...      8        2460   \n",
       "1120      4764     3.5           0     2  ...      7        3064   \n",
       "\n",
       "      sqft_basement  yr_built  yr_renovated  zipcode      lat     long  \\\n",
       "483               0      1990             0    98031  47.4095 -122.168   \n",
       "1120              0      1990             0    98102  47.6362 -122.322   \n",
       "\n",
       "      sqft_living15  sqft_lot15  \n",
       "483            2520        8050  \n",
       "1120           2360        4000  \n",
       "\n",
       "[2 rows x 21 columns]"
      ]
     },
     "execution_count": 10,
     "metadata": {},
     "output_type": "execute_result"
    }
   ],
   "source": [
    "df[df['bedrooms'] == 0].head(2)"
   ]
  },
  {
   "cell_type": "markdown",
   "metadata": {},
   "source": [
    "And on that note, I would impute the ones with the bedrooms that are 0. That seems unrealistic that a home would not have a bedroom. I will make them 1."
   ]
  },
  {
   "cell_type": "code",
   "execution_count": 11,
   "metadata": {},
   "outputs": [],
   "source": [
    "conditions = [df['bedrooms'] > 6, df['bedrooms'] < 1]\n",
    "choices = [6, 1]\n",
    "\n",
    "df['bedrooms'] = np.select(conditions, choices, df['bedrooms'])"
   ]
  },
  {
   "cell_type": "markdown",
   "metadata": {},
   "source": [
    "-**Bathrooms**"
   ]
  },
  {
   "cell_type": "code",
   "execution_count": 12,
   "metadata": {},
   "outputs": [
    {
     "name": "stderr",
     "output_type": "stream",
     "text": [
      "/opt/anaconda3/envs/learn-env/lib/python3.8/site-packages/seaborn/_decorators.py:36: FutureWarning: Pass the following variable as a keyword arg: x. From version 0.12, the only valid positional argument will be `data`, and passing other arguments without an explicit keyword will result in an error or misinterpretation.\n",
      "  warnings.warn(\n"
     ]
    },
    {
     "data": {
      "text/plain": [
       "<seaborn.axisgrid.FacetGrid at 0x7ff380a5d7f0>"
      ]
     },
     "execution_count": 12,
     "metadata": {},
     "output_type": "execute_result"
    },
    {
     "data": {
      "image/png": "[encoded data removed]",
      "text/plain": [
       "<Figure size 432x288 with 1 Axes>"
      ]
     },
     "metadata": {
      "needs_background": "light"
     },
     "output_type": "display_data"
    },
    {
     "data": {
      "image/png": "[encoded data removed]",
      "text/plain": [
       "<Figure size 360x360 with 1 Axes>"
      ]
     },
     "metadata": {
      "needs_background": "light"
     },
     "output_type": "display_data"
    }
   ],
   "source": [
    "sns.boxplot(df['bathrooms']);\n",
    "sns.lmplot(x='bathrooms', y = 'price', data = df)"
   ]
  },
  {
   "cell_type": "markdown",
   "metadata": {},
   "source": [
    "I am going to impute this value at based on the outliers at 5. I feel that a home with more than that is not as common."
   ]
  },
  {
   "cell_type": "code",
   "execution_count": 13,
   "metadata": {},
   "outputs": [],
   "source": [
    "df['bathrooms'] = np.where(df['bathrooms'] > 5, 5, df['bathrooms'])"
   ]
  },
  {
   "cell_type": "code",
   "execution_count": 14,
   "metadata": {},
   "outputs": [
    {
     "data": {
      "text/html": [
       "<div>\n",
       "<style scoped>\n",
       "    .dataframe tbody tr th:only-of-type {\n",
       "        vertical-align: middle;\n",
       "    }\n",
       "\n",
       "    .dataframe tbody tr th {\n",
       "        vertical-align: top;\n",
       "    }\n",
       "\n",
       "    .dataframe thead th {\n",
       "        text-align: right;\n",
       "    }\n",
       "</style>\n",
       "<table border=\"1\" class=\"dataframe\">\n",
       "  <thead>\n",
       "    <tr style=\"text-align: right;\">\n",
       "      <th></th>\n",
       "      <th>id</th>\n",
       "      <th>date</th>\n",
       "      <th>price</th>\n",
       "      <th>bedrooms</th>\n",
       "      <th>bathrooms</th>\n",
       "      <th>sqft_living</th>\n",
       "      <th>sqft_lot</th>\n",
       "      <th>floors</th>\n",
       "      <th>waterfront</th>\n",
       "      <th>view</th>\n",
       "      <th>...</th>\n",
       "      <th>grade</th>\n",
       "      <th>sqft_above</th>\n",
       "      <th>sqft_basement</th>\n",
       "      <th>yr_built</th>\n",
       "      <th>yr_renovated</th>\n",
       "      <th>zipcode</th>\n",
       "      <th>lat</th>\n",
       "      <th>long</th>\n",
       "      <th>sqft_living15</th>\n",
       "      <th>sqft_lot15</th>\n",
       "    </tr>\n",
       "  </thead>\n",
       "  <tbody>\n",
       "    <tr>\n",
       "      <th>483</th>\n",
       "      <td>3374500520</td>\n",
       "      <td>2015-04-29</td>\n",
       "      <td>355000.0</td>\n",
       "      <td>1</td>\n",
       "      <td>0.0</td>\n",
       "      <td>2460</td>\n",
       "      <td>8049</td>\n",
       "      <td>2.0</td>\n",
       "      <td>0</td>\n",
       "      <td>0</td>\n",
       "      <td>...</td>\n",
       "      <td>8</td>\n",
       "      <td>2460</td>\n",
       "      <td>0</td>\n",
       "      <td>1990</td>\n",
       "      <td>0</td>\n",
       "      <td>98031</td>\n",
       "      <td>47.4095</td>\n",
       "      <td>-122.168</td>\n",
       "      <td>2520</td>\n",
       "      <td>8050</td>\n",
       "    </tr>\n",
       "    <tr>\n",
       "      <th>1120</th>\n",
       "      <td>6306400140</td>\n",
       "      <td>2014-06-12</td>\n",
       "      <td>1095000.0</td>\n",
       "      <td>1</td>\n",
       "      <td>0.0</td>\n",
       "      <td>3064</td>\n",
       "      <td>4764</td>\n",
       "      <td>3.5</td>\n",
       "      <td>0</td>\n",
       "      <td>2</td>\n",
       "      <td>...</td>\n",
       "      <td>7</td>\n",
       "      <td>3064</td>\n",
       "      <td>0</td>\n",
       "      <td>1990</td>\n",
       "      <td>0</td>\n",
       "      <td>98102</td>\n",
       "      <td>47.6362</td>\n",
       "      <td>-122.322</td>\n",
       "      <td>2360</td>\n",
       "      <td>4000</td>\n",
       "    </tr>\n",
       "  </tbody>\n",
       "</table>\n",
       "<p>2 rows × 21 columns</p>\n",
       "</div>"
      ],
      "text/plain": [
       "              id       date      price  bedrooms  bathrooms  sqft_living  \\\n",
       "483   3374500520 2015-04-29   355000.0         1        0.0         2460   \n",
       "1120  6306400140 2014-06-12  1095000.0         1        0.0         3064   \n",
       "\n",
       "      sqft_lot  floors  waterfront  view  ...  grade  sqft_above  \\\n",
       "483       8049     2.0           0     0  ...      8        2460   \n",
       "1120      4764     3.5           0     2  ...      7        3064   \n",
       "\n",
       "      sqft_basement  yr_built  yr_renovated  zipcode      lat     long  \\\n",
       "483               0      1990             0    98031  47.4095 -122.168   \n",
       "1120              0      1990             0    98102  47.6362 -122.322   \n",
       "\n",
       "      sqft_living15  sqft_lot15  \n",
       "483            2520        8050  \n",
       "1120           2360        4000  \n",
       "\n",
       "[2 rows x 21 columns]"
      ]
     },
     "execution_count": 14,
     "metadata": {},
     "output_type": "execute_result"
    }
   ],
   "source": [
    "df[df['bathrooms'] == 0].head(2)"
   ]
  },
  {
   "cell_type": "markdown",
   "metadata": {},
   "source": [
    "The properties with 0 bathrooms are interesting. I am going to impute them at 1. It is highly unlikely for a home to not have a bathroom."
   ]
  },
  {
   "cell_type": "code",
   "execution_count": 15,
   "metadata": {},
   "outputs": [],
   "source": [
    "df['bathrooms'] = np.where(df['bathrooms'] == 0, 1, df['bathrooms'])"
   ]
  },
  {
   "cell_type": "markdown",
   "metadata": {},
   "source": [
    "-**Sqft_Living**"
   ]
  },
  {
   "cell_type": "code",
   "execution_count": 16,
   "metadata": {
    "scrolled": true
   },
   "outputs": [
    {
     "name": "stderr",
     "output_type": "stream",
     "text": [
      "/opt/anaconda3/envs/learn-env/lib/python3.8/site-packages/seaborn/_decorators.py:36: FutureWarning: Pass the following variable as a keyword arg: x. From version 0.12, the only valid positional argument will be `data`, and passing other arguments without an explicit keyword will result in an error or misinterpretation.\n",
      "  warnings.warn(\n"
     ]
    },
    {
     "data": {
      "text/plain": [
       "<seaborn.axisgrid.FacetGrid at 0x7ff380a5ba30>"
      ]
     },
     "execution_count": 16,
     "metadata": {},
     "output_type": "execute_result"
    },
    {
     "data": {
      "image/png": "[encoded data removed]",
      "text/plain": [
       "<Figure size 432x288 with 1 Axes>"
      ]
     },
     "metadata": {
      "needs_background": "light"
     },
     "output_type": "display_data"
    },
    {
     "data": {
      "image/png": "[encoded data removed]",
      "text/plain": [
       "<Figure size 360x360 with 1 Axes>"
      ]
     },
     "metadata": {
      "needs_background": "light"
     },
     "output_type": "display_data"
    }
   ],
   "source": [
    "sns.boxplot(df['sqft_living']);\n",
    "sns.lmplot(x='sqft_living', y='price', data = df)"
   ]
  },
  {
   "cell_type": "markdown",
   "metadata": {},
   "source": [
    "Based on the plots above I am going to make a cap at 8000. The linear pattern breaks around there so I feel it is a good place to make an adjustment."
   ]
  },
  {
   "cell_type": "code",
   "execution_count": 17,
   "metadata": {},
   "outputs": [],
   "source": [
    "df['sqft_living']=np.where(df['sqft_living'] > 8000, 8000, df['sqft_living'])"
   ]
  },
  {
   "cell_type": "markdown",
   "metadata": {},
   "source": [
    "-**Sqft_Lot**"
   ]
  },
  {
   "cell_type": "code",
   "execution_count": 18,
   "metadata": {},
   "outputs": [
    {
     "name": "stderr",
     "output_type": "stream",
     "text": [
      "/opt/anaconda3/envs/learn-env/lib/python3.8/site-packages/seaborn/_decorators.py:36: FutureWarning: Pass the following variable as a keyword arg: x. From version 0.12, the only valid positional argument will be `data`, and passing other arguments without an explicit keyword will result in an error or misinterpretation.\n",
      "  warnings.warn(\n"
     ]
    },
    {
     "data": {
      "text/plain": [
       "<seaborn.axisgrid.FacetGrid at 0x7ff380a7caf0>"
      ]
     },
     "execution_count": 18,
     "metadata": {},
     "output_type": "execute_result"
    },
    {
     "data": {
      "image/png": "[encoded data removed]",
      "text/plain": [
       "<Figure size 432x288 with 1 Axes>"
      ]
     },
     "metadata": {
      "needs_background": "light"
     },
     "output_type": "display_data"
    },
    {
     "data": {
      "image/png": "[encoded data removed]",
      "text/plain": [
       "<Figure size 360x360 with 1 Axes>"
      ]
     },
     "metadata": {
      "needs_background": "light"
     },
     "output_type": "display_data"
    }
   ],
   "source": [
    "sns.boxplot(df['sqft_lot']);\n",
    "sns.lmplot(x='sqft_lot', y='price', data=df)"
   ]
  },
  {
   "cell_type": "markdown",
   "metadata": {},
   "source": [
    "Based on the plots above I am going to make a cut at 600000. It seems the price drops down a bit from here. I find it interesting that more land would cost less. Owning a lot of land I would ideally think would be more costly."
   ]
  },
  {
   "cell_type": "code",
   "execution_count": 19,
   "metadata": {},
   "outputs": [],
   "source": [
    "df['sqft_lot']=np.where(df['sqft_lot'] > 600000, 600000, df['sqft_lot'])"
   ]
  },
  {
   "cell_type": "markdown",
   "metadata": {},
   "source": [
    "While I am on this, I will also take a look at the sqft_living15 and sqft_lot15 columns"
   ]
  },
  {
   "cell_type": "markdown",
   "metadata": {},
   "source": [
    "-**Sqft_Living15**"
   ]
  },
  {
   "cell_type": "code",
   "execution_count": 20,
   "metadata": {},
   "outputs": [
    {
     "name": "stderr",
     "output_type": "stream",
     "text": [
      "/opt/anaconda3/envs/learn-env/lib/python3.8/site-packages/seaborn/_decorators.py:36: FutureWarning: Pass the following variable as a keyword arg: x. From version 0.12, the only valid positional argument will be `data`, and passing other arguments without an explicit keyword will result in an error or misinterpretation.\n",
      "  warnings.warn(\n"
     ]
    },
    {
     "data": {
      "text/plain": [
       "<AxesSubplot:xlabel='sqft_living15'>"
      ]
     },
     "execution_count": 20,
     "metadata": {},
     "output_type": "execute_result"
    },
    {
     "data": {
      "image/png": "[encoded data removed]",
      "text/plain": [
       "<Figure size 432x288 with 1 Axes>"
      ]
     },
     "metadata": {
      "needs_background": "light"
     },
     "output_type": "display_data"
    }
   ],
   "source": [
    "sns.boxplot(df['sqft_living15'])"
   ]
  },
  {
   "cell_type": "code",
   "execution_count": 21,
   "metadata": {},
   "outputs": [
    {
     "data": {
      "text/plain": [
       "<seaborn.axisgrid.FacetGrid at 0x7ff3810adeb0>"
      ]
     },
     "execution_count": 21,
     "metadata": {},
     "output_type": "execute_result"
    },
    {
     "data": {
      "image/png": "[encoded data removed]",
      "text/plain": [
       "<Figure size 360x360 with 1 Axes>"
      ]
     },
     "metadata": {
      "needs_background": "light"
     },
     "output_type": "display_data"
    }
   ],
   "source": [
    "sns.lmplot(x='sqft_living15', y='price', data = df)"
   ]
  },
  {
   "cell_type": "markdown",
   "metadata": {},
   "source": [
    "Based on this plot I am going to make a cut at 5000. The positive trend, which I believe is to be expected sort of breaks around here. "
   ]
  },
  {
   "cell_type": "code",
   "execution_count": 22,
   "metadata": {},
   "outputs": [],
   "source": [
    "df['sqft_living15']=np.where(df['sqft_living15'] > 5000, 5000, df['sqft_living15'])"
   ]
  },
  {
   "cell_type": "markdown",
   "metadata": {},
   "source": [
    "-**Sqft_Lot15**"
   ]
  },
  {
   "cell_type": "code",
   "execution_count": 23,
   "metadata": {},
   "outputs": [
    {
     "name": "stderr",
     "output_type": "stream",
     "text": [
      "/opt/anaconda3/envs/learn-env/lib/python3.8/site-packages/seaborn/_decorators.py:36: FutureWarning: Pass the following variable as a keyword arg: x. From version 0.12, the only valid positional argument will be `data`, and passing other arguments without an explicit keyword will result in an error or misinterpretation.\n",
      "  warnings.warn(\n"
     ]
    },
    {
     "data": {
      "text/plain": [
       "<seaborn.axisgrid.FacetGrid at 0x7ff380f149d0>"
      ]
     },
     "execution_count": 23,
     "metadata": {},
     "output_type": "execute_result"
    },
    {
     "data": {
      "image/png": "[encoded data removed]",
      "text/plain": [
       "<Figure size 432x288 with 1 Axes>"
      ]
     },
     "metadata": {
      "needs_background": "light"
     },
     "output_type": "display_data"
    },
    {
     "data": {
      "image/png": "[encoded data removed]",
      "text/plain": [
       "<Figure size 360x360 with 1 Axes>"
      ]
     },
     "metadata": {
      "needs_background": "light"
     },
     "output_type": "display_data"
    }
   ],
   "source": [
    "sns.boxplot(df['sqft_lot15']);\n",
    "sns.lmplot(x='sqft_lot15', y = 'price', data=df )"
   ]
  },
  {
   "cell_type": "markdown",
   "metadata": {},
   "source": [
    "From the graphs above I am going to impute at 300000. There seems to be a slow decrease in price as land goes up with the exception of the one point around 400000. I would think it would increase at lot increases."
   ]
  },
  {
   "cell_type": "code",
   "execution_count": 24,
   "metadata": {},
   "outputs": [],
   "source": [
    "df['sqft_lot15']=np.where(df['sqft_lot15'] > 300000, 300000, df['sqft_lot15'])"
   ]
  },
  {
   "cell_type": "markdown",
   "metadata": {},
   "source": [
    "That takes care of the major numerical values for now. Onto the other features."
   ]
  },
  {
   "cell_type": "markdown",
   "metadata": {},
   "source": [
    "-**Floors**"
   ]
  },
  {
   "cell_type": "code",
   "execution_count": 25,
   "metadata": {
    "scrolled": true
   },
   "outputs": [
    {
     "data": {
      "text/html": [
       "<div>\n",
       "<style scoped>\n",
       "    .dataframe tbody tr th:only-of-type {\n",
       "        vertical-align: middle;\n",
       "    }\n",
       "\n",
       "    .dataframe tbody tr th {\n",
       "        vertical-align: top;\n",
       "    }\n",
       "\n",
       "    .dataframe thead th {\n",
       "        text-align: right;\n",
       "    }\n",
       "</style>\n",
       "<table border=\"1\" class=\"dataframe\">\n",
       "  <thead>\n",
       "    <tr style=\"text-align: right;\">\n",
       "      <th></th>\n",
       "      <th>id</th>\n",
       "      <th>date</th>\n",
       "      <th>price</th>\n",
       "      <th>bedrooms</th>\n",
       "      <th>bathrooms</th>\n",
       "      <th>sqft_living</th>\n",
       "      <th>sqft_lot</th>\n",
       "      <th>floors</th>\n",
       "      <th>waterfront</th>\n",
       "      <th>view</th>\n",
       "      <th>...</th>\n",
       "      <th>grade</th>\n",
       "      <th>sqft_above</th>\n",
       "      <th>sqft_basement</th>\n",
       "      <th>yr_built</th>\n",
       "      <th>yr_renovated</th>\n",
       "      <th>zipcode</th>\n",
       "      <th>lat</th>\n",
       "      <th>long</th>\n",
       "      <th>sqft_living15</th>\n",
       "      <th>sqft_lot15</th>\n",
       "    </tr>\n",
       "  </thead>\n",
       "  <tbody>\n",
       "    <tr>\n",
       "      <th>1</th>\n",
       "      <td>7974200820</td>\n",
       "      <td>2014-08-21</td>\n",
       "      <td>865000.0</td>\n",
       "      <td>5</td>\n",
       "      <td>3.0</td>\n",
       "      <td>2900</td>\n",
       "      <td>6730</td>\n",
       "      <td>1.0</td>\n",
       "      <td>0</td>\n",
       "      <td>0</td>\n",
       "      <td>...</td>\n",
       "      <td>8</td>\n",
       "      <td>1830</td>\n",
       "      <td>1070</td>\n",
       "      <td>1977</td>\n",
       "      <td>0</td>\n",
       "      <td>98115</td>\n",
       "      <td>47.6784</td>\n",
       "      <td>-122.285</td>\n",
       "      <td>2370</td>\n",
       "      <td>6283</td>\n",
       "    </tr>\n",
       "    <tr>\n",
       "      <th>7</th>\n",
       "      <td>7010701383</td>\n",
       "      <td>2014-10-17</td>\n",
       "      <td>680000.0</td>\n",
       "      <td>3</td>\n",
       "      <td>2.5</td>\n",
       "      <td>1800</td>\n",
       "      <td>4400</td>\n",
       "      <td>1.0</td>\n",
       "      <td>0</td>\n",
       "      <td>0</td>\n",
       "      <td>...</td>\n",
       "      <td>7</td>\n",
       "      <td>1350</td>\n",
       "      <td>450</td>\n",
       "      <td>1970</td>\n",
       "      <td>0</td>\n",
       "      <td>98199</td>\n",
       "      <td>47.6599</td>\n",
       "      <td>-122.396</td>\n",
       "      <td>1920</td>\n",
       "      <td>4400</td>\n",
       "    </tr>\n",
       "  </tbody>\n",
       "</table>\n",
       "<p>2 rows × 21 columns</p>\n",
       "</div>"
      ],
      "text/plain": [
       "           id       date     price  bedrooms  bathrooms  sqft_living  \\\n",
       "1  7974200820 2014-08-21  865000.0         5        3.0         2900   \n",
       "7  7010701383 2014-10-17  680000.0         3        2.5         1800   \n",
       "\n",
       "   sqft_lot  floors  waterfront  view  ...  grade  sqft_above  sqft_basement  \\\n",
       "1      6730     1.0           0     0  ...      8        1830           1070   \n",
       "7      4400     1.0           0     0  ...      7        1350            450   \n",
       "\n",
       "   yr_built  yr_renovated  zipcode      lat     long  sqft_living15  \\\n",
       "1      1977             0    98115  47.6784 -122.285           2370   \n",
       "7      1970             0    98199  47.6599 -122.396           1920   \n",
       "\n",
       "   sqft_lot15  \n",
       "1        6283  \n",
       "7        4400  \n",
       "\n",
       "[2 rows x 21 columns]"
      ]
     },
     "execution_count": 25,
     "metadata": {},
     "output_type": "execute_result"
    }
   ],
   "source": [
    "#Looking at the floors column\n",
    "df[df['floors'] == 1].head(2)"
   ]
  },
  {
   "cell_type": "markdown",
   "metadata": {},
   "source": [
    "Just as I suspected, the floors column does NOT include the basement. If you add the sqft_basement and sqft_above, you get the sqft_living amount. I am going to add a new floor column for easy clarification. But first I will create a has basement column."
   ]
  },
  {
   "cell_type": "code",
   "execution_count": 26,
   "metadata": {},
   "outputs": [],
   "source": [
    "#creating a has basement column\n",
    "df['has_basement'] = np.where(df['sqft_basement'] != 0, 1, 0)\n",
    "\n",
    "#creating a floor including basement column\n",
    "df['floor_base'] = df['floors'] + df['has_basement']"
   ]
  },
  {
   "cell_type": "markdown",
   "metadata": {},
   "source": [
    "-**Condition and Grade**"
   ]
  },
  {
   "cell_type": "code",
   "execution_count": 27,
   "metadata": {},
   "outputs": [
    {
     "data": {
      "text/html": [
       "<div>\n",
       "<style scoped>\n",
       "    .dataframe tbody tr th:only-of-type {\n",
       "        vertical-align: middle;\n",
       "    }\n",
       "\n",
       "    .dataframe tbody tr th {\n",
       "        vertical-align: top;\n",
       "    }\n",
       "\n",
       "    .dataframe thead th {\n",
       "        text-align: right;\n",
       "    }\n",
       "</style>\n",
       "<table border=\"1\" class=\"dataframe\">\n",
       "  <thead>\n",
       "    <tr style=\"text-align: right;\">\n",
       "      <th></th>\n",
       "      <th>price</th>\n",
       "      <th>condition</th>\n",
       "      <th>grade</th>\n",
       "    </tr>\n",
       "  </thead>\n",
       "  <tbody>\n",
       "    <tr>\n",
       "      <th>10366</th>\n",
       "      <td>7700000.0</td>\n",
       "      <td>4</td>\n",
       "      <td>13</td>\n",
       "    </tr>\n",
       "    <tr>\n",
       "      <th>6903</th>\n",
       "      <td>7062500.0</td>\n",
       "      <td>3</td>\n",
       "      <td>11</td>\n",
       "    </tr>\n",
       "    <tr>\n",
       "      <th>7519</th>\n",
       "      <td>6885000.0</td>\n",
       "      <td>3</td>\n",
       "      <td>13</td>\n",
       "    </tr>\n",
       "    <tr>\n",
       "      <th>2232</th>\n",
       "      <td>5570000.0</td>\n",
       "      <td>3</td>\n",
       "      <td>13</td>\n",
       "    </tr>\n",
       "    <tr>\n",
       "      <th>1979</th>\n",
       "      <td>5350000.0</td>\n",
       "      <td>3</td>\n",
       "      <td>12</td>\n",
       "    </tr>\n",
       "  </tbody>\n",
       "</table>\n",
       "</div>"
      ],
      "text/plain": [
       "           price  condition  grade\n",
       "10366  7700000.0          4     13\n",
       "6903   7062500.0          3     11\n",
       "7519   6885000.0          3     13\n",
       "2232   5570000.0          3     13\n",
       "1979   5350000.0          3     12"
      ]
     },
     "execution_count": 27,
     "metadata": {},
     "output_type": "execute_result"
    }
   ],
   "source": [
    "#Trying to gage which condition and grade represents the higher values \n",
    "#condition is on a scale of 1-5 and grade is 1-13.\n",
    "df[['price', 'condition', 'grade']].sort_values(by='price', ascending = False).head()"
   ]
  },
  {
   "cell_type": "markdown",
   "metadata": {},
   "source": [
    "It appears that both condition and grade are ranked with the largest number being the largest value. That can be indicated by the high prices. Given that there are 13 categories for grade, I am going to try to group them to make them smaller and easier to understand. Based on the Kings County Building Grade, the threshold for AVERAGE starts at 7 and the threshold for ABOVE AVERAGE begins at 10. I am going to create 3 groups from this."
   ]
  },
  {
   "cell_type": "code",
   "execution_count": 28,
   "metadata": {},
   "outputs": [],
   "source": [
    "#creating a new_grades column\n",
    "conditions = [df['grade'] <=6, df['grade'] <=9, df['grade'] >= 10]\n",
    "choices = [1, 2, 3] #1 is Below Average, 2 is Average, 3 is Above\n",
    "df['new_grades'] = np.select(conditions, choices)"
   ]
  },
  {
   "cell_type": "markdown",
   "metadata": {},
   "source": [
    "-**Renovations**"
   ]
  },
  {
   "cell_type": "markdown",
   "metadata": {},
   "source": [
    "I am also going to make a new column called most_recent_decade. This will combine the yr_built and yr_renovated column. This will tell you the most recent renovation of the home -- assuming yr_built is the most recent renovation, given a 0 in the yr_renovated column-- and I will group it by decade."
   ]
  },
  {
   "cell_type": "code",
   "execution_count": 29,
   "metadata": {},
   "outputs": [],
   "source": [
    "df['most_recent_decade'] = np.where(df['yr_renovated'] != 0, df['yr_renovated'], df['yr_built'])\n",
    "df['most_recent_decade'].astype('int')\n",
    "df['most_recent_decade'] = df['most_recent_decade']//10*10"
   ]
  },
  {
   "cell_type": "code",
   "execution_count": 30,
   "metadata": {},
   "outputs": [
    {
     "data": {
      "text/plain": [
       "zipcode\n",
       "98001    9.880581e+09\n",
       "98002    2.843955e+09\n",
       "Name: price, dtype: float64"
      ]
     },
     "execution_count": 30,
     "metadata": {},
     "output_type": "execute_result"
    }
   ],
   "source": [
    "#taking a look at the price and zipcodes\n",
    "df.groupby('zipcode')['price'].var().head(2)"
   ]
  },
  {
   "cell_type": "code",
   "execution_count": 31,
   "metadata": {},
   "outputs": [
    {
     "data": {
      "text/plain": [
       "[2202790.0, 1396882.8902953586, 1183018.0]"
      ]
     },
     "execution_count": 31,
     "metadata": {},
     "output_type": "execute_result"
    }
   ],
   "source": [
    "sorted(df.groupby('zipcode')['price'].mean(), reverse = True)[:3]"
   ]
  },
  {
   "cell_type": "markdown",
   "metadata": {},
   "source": [
    "The price and zipcode variance is quite different between zipcodes. This leads me to believe that location seems of utmost importance when determining price. \n",
    "\n",
    "**I will most likely use this in my model, but to make sure, I will look at this variable visually**"
   ]
  },
  {
   "cell_type": "markdown",
   "metadata": {},
   "source": [
    "# ***FEATURE ENGINEERING***"
   ]
  },
  {
   "cell_type": "markdown",
   "metadata": {},
   "source": [
    ">In the cells below I will construct an interaction feature between renovation (converted into a dummy variable) and squarefoot_living."
   ]
  },
  {
   "cell_type": "markdown",
   "metadata": {},
   "source": [
    "I believe there is an interaction between renovation and sqft_living. Often renovations include expansions which can increase the value of your home. I am curious to see if an interaction between renovation year and home size is applicable."
   ]
  },
  {
   "cell_type": "code",
   "execution_count": 32,
   "metadata": {},
   "outputs": [],
   "source": [
    "#creating a been_renovated column for a dummy variable for an interaction feature. \n",
    "df['been_renovated'] = np.where(df['yr_renovated'] != 0, 1, df['yr_renovated'])"
   ]
  },
  {
   "cell_type": "code",
   "execution_count": 33,
   "metadata": {},
   "outputs": [],
   "source": [
    "df = pd.get_dummies(df, columns=['been_renovated'], drop_first = True)"
   ]
  },
  {
   "cell_type": "code",
   "execution_count": 34,
   "metadata": {},
   "outputs": [],
   "source": [
    "df['reno_size'] = df['been_renovated_1']*df['sqft_living']"
   ]
  },
  {
   "cell_type": "markdown",
   "metadata": {},
   "source": [
    ">In the cells below I will construct a distance to work feature:"
   ]
  },
  {
   "cell_type": "markdown",
   "metadata": {},
   "source": [
    "In 2015, The Boeing Co., Microsoft, and Amazon are among the top employers in Washington State not the mention the King County area. Their employee numbers keep increasing annually. \n",
    "\n",
    "I'm sure that proximity to work adds value to the home. I am going to add distance to work columns for each of them, given that latitude and longitude has been provided using the haversine fomula."
   ]
  },
  {
   "cell_type": "code",
   "execution_count": 35,
   "metadata": {},
   "outputs": [],
   "source": [
    "#merging latitude and longitude into a column of tuples.\n",
    "df['lat_long'] = list(zip(df['lat'], df['long']))"
   ]
  },
  {
   "cell_type": "code",
   "execution_count": 36,
   "metadata": {},
   "outputs": [],
   "source": [
    "#creating a function to convert the latitude and longitude distances to miles\n",
    "from math import radians, sin, cos, atan2, sqrt\n",
    "\n",
    "#These are the coordinates for Amazon, Boeing, and Microsoft Headquarters\n",
    "businesses=[(47.622288, -122.336494),(47.532531, -122.311605), (47.639323, -122.128383)]\n",
    "\n",
    "#This is a list of lat long coordinates of homes\n",
    "lat_long = list(df['lat_long'])\n",
    "\n",
    "def distance_from(home, business):\n",
    "    \"\"\"\n",
    "    Uses the haversine formula to calculate the average distance between the homes and \n",
    "    popular work headquarters then converts the distance into miles.\n",
    "    \"\"\"\n",
    "    #radius of earth in km\n",
    "    R = 6373\n",
    "    \n",
    "    lat1 = radians(business[0])\n",
    "    long1 = radians(business[1])\n",
    "    lat2 = radians(home[0])\n",
    "    long2 = radians(home[1])\n",
    "\n",
    "    dlon = long2 - long1\n",
    "    dlat = lat2 - lat1\n",
    "\n",
    "    a = sin(dlat / 2)**2 + cos(lat1) * cos(lat2) * sin(dlon / 2)**2\n",
    "    c = 2 * atan2(sqrt(a), sqrt(1 - a))\n",
    "    \n",
    "    #divide by 1.609 to convert into miles\n",
    "    distance = R*c / 1.609\n",
    "    return distance"
   ]
  },
  {
   "cell_type": "code",
   "execution_count": 37,
   "metadata": {},
   "outputs": [],
   "source": [
    "distances = []\n",
    "\n",
    "#getting the distance(in miles) between the three workplaces and the residences\n",
    "for business in businesses:\n",
    "    for home in lat_long:\n",
    "        distances.append(distance_from(home, business))\n",
    "        \n",
    "#making the three separate columns for them\n",
    "df['amazon'] = np.array(distances[:df.shape[0]])\n",
    "df['boeing'] = np.array(distances[df.shape[0]:df.shape[0]*2])\n",
    "df['microsoft'] = np.array(distances[df.shape[0]*2:])\n",
    "\n"
   ]
  },
  {
   "cell_type": "markdown",
   "metadata": {},
   "source": [
    "> I am finally going to create a polynomial feature for the size of the yard. I feel this could be very good to include. A large yard size often leaves room for potential expansions, additions, and more amenities like pools."
   ]
  },
  {
   "cell_type": "code",
   "execution_count": 38,
   "metadata": {},
   "outputs": [],
   "source": [
    "#Subtracting the lot size by the approximate living space of a single floor\n",
    "#The floor_base column has the basement in consideration as a floor. \n",
    "#This needed to be done to account for total living space.\n",
    "df['yard_size'] = df['sqft_lot'] - (df['sqft_living'] / df['floor_base'])"
   ]
  },
  {
   "cell_type": "code",
   "execution_count": 39,
   "metadata": {},
   "outputs": [],
   "source": [
    "#transforming it into a polynomial feature\n",
    "df['yard_size2']=df['yard_size']*df['yard_size']"
   ]
  },
  {
   "cell_type": "markdown",
   "metadata": {},
   "source": [
    "# ***STATISTICAL TESTING***"
   ]
  },
  {
   "cell_type": "markdown",
   "metadata": {},
   "source": [
    "I would be interested in investigating whether or not the bedrooms or bathrooms are more influential on price. You would think that because of the plumbing, the cost of a bathroom would drive the price up. I will keep the bathroom and bedroom factors equal and hypothesize that the mean price of a home with 3 bathrooms is greater than the mean price of a home with 3 bathrooms. I am also going to make sure that the home was renovated since 2000 to account for the fact that work has been put into the home."
   ]
  },
  {
   "cell_type": "markdown",
   "metadata": {},
   "source": [
    ">NULL HYPOTHESIS: Mean Price Bathrooms <= Mean Price Bedrooms  \n",
    "ALT HYPOTHESIS: Mean Price Bathrooms > Mean Price Bedrooms"
   ]
  },
  {
   "cell_type": "code",
   "execution_count": 40,
   "metadata": {},
   "outputs": [
    {
     "name": "stdout",
     "output_type": "stream",
     "text": [
      "Ttest_indResult(statistic=3.4485013144185426, pvalue=0.00035488477205659164)\n"
     ]
    }
   ],
   "source": [
    "#For this test, I am going to use an alpha level of .05\n",
    "\n",
    "#Putting the two samples together\n",
    "bathroom_population = df[(df['bathrooms'] == 3) & (df['yr_renovated'] > 2000)]\n",
    "bedroom_population = df[(df['bedrooms'] == 3) & (df['yr_renovated'] > 2000)]\n",
    "\n",
    "bathrooms = bathroom_population['price']\n",
    "bedrooms = bedroom_population['price']\n",
    "\n",
    "t = stats.ttest_ind(bathrooms, bedrooms, alternative = 'greater')\n",
    "print(t)"
   ]
  },
  {
   "cell_type": "markdown",
   "metadata": {},
   "source": [
    "> I reject the null hypothesis. There is statistical significance to reject the claim that the mean price of a house per number of bathrooms is less than or equal to the mean price of a house per number of bedrooms. I will potentially use this in my model."
   ]
  },
  {
   "cell_type": "markdown",
   "metadata": {},
   "source": [
    "From my new groupings of the King County Building Grade column, I will perform an ANOVA and I would hypothesize that the means of the prices are not equal to showing that the costs for quality between the groups do vary."
   ]
  },
  {
   "cell_type": "markdown",
   "metadata": {},
   "source": [
    "> NULL HYPOTHESIS: Mean_Below = Mean_Average = Mean_Above  \n",
    "ALT HYPOTHESIS: They are not all equal"
   ]
  },
  {
   "cell_type": "code",
   "execution_count": 41,
   "metadata": {},
   "outputs": [
    {
     "name": "stdout",
     "output_type": "stream",
     "text": [
      "F_onewayResult(statistic=4506.246344586308, pvalue=0.0)\n"
     ]
    }
   ],
   "source": [
    "#Because of how much confidence I have in this I will choose an alpha of .01.\n",
    "\n",
    "Below = df[df['new_grades'] == 1]['price']\n",
    "Average= df[df['new_grades'] == 2]['price']\n",
    "Above = df[df['new_grades'] == 3]['price']\n",
    "\n",
    "print(stats.f_oneway(Below, Average, Above))"
   ]
  },
  {
   "cell_type": "markdown",
   "metadata": {},
   "source": [
    ">I reject the null hypothesis. There is statistical significant to reject the claim that the mean price between quality groups is equal. This can mean that the groups bear a specific weight in the model."
   ]
  },
  {
   "cell_type": "markdown",
   "metadata": {},
   "source": [
    "For the distance features I created I am going to perform an ANOVA to see if the means between them are significantly different."
   ]
  },
  {
   "cell_type": "markdown",
   "metadata": {},
   "source": [
    "> NULL HYPOTHESIS: Mean_Microsoft = Mean_Boeing = Mean_Amazon  \n",
    "> ALT HYPOTHESIS: The means are not equal."
   ]
  },
  {
   "cell_type": "code",
   "execution_count": 42,
   "metadata": {},
   "outputs": [
    {
     "name": "stdout",
     "output_type": "stream",
     "text": [
      "F_onewayResult(statistic=42.88810479773696, pvalue=2.450853911177376e-19)\n"
     ]
    }
   ],
   "source": [
    "#For this test, I am going to use an alpha level of .01\n",
    "\n",
    "\n",
    "Amazon = df['amazon']\n",
    "Boeing = df['boeing']\n",
    "Microsoft = df['microsoft']\n",
    "\n",
    "print(stats.f_oneway(Amazon, Boeing, Microsoft))"
   ]
  },
  {
   "cell_type": "markdown",
   "metadata": {},
   "source": [
    "I reject the null hypothesis. There is statistical significance to reject the claim that the means between the groups are not equal. This can mean that distance from a specific location may matter more. I am intrigued to put these columns in my model."
   ]
  },
  {
   "cell_type": "markdown",
   "metadata": {},
   "source": [
    "# ***FURTHER VISUALIZATIONS***"
   ]
  },
  {
   "cell_type": "markdown",
   "metadata": {},
   "source": [
    "Now that I have cleaned the data, performed hypothesis tests, and engineered some features, I am going to create better visualizations to help me understand what is important to put in the model."
   ]
  },
  {
   "cell_type": "code",
   "execution_count": 43,
   "metadata": {},
   "outputs": [],
   "source": [
    "sns.set_style(\"darkgrid\")"
   ]
  },
  {
   "cell_type": "markdown",
   "metadata": {},
   "source": [
    "### *Bed v Bath*"
   ]
  },
  {
   "cell_type": "code",
   "execution_count": 44,
   "metadata": {},
   "outputs": [],
   "source": [
    "bath = df.groupby('bathrooms')['price'].mean().index\n",
    "avbath_price = df.groupby('bathrooms')['price'].mean().values\n",
    "\n",
    "bed = df.groupby('bedrooms')['price'].mean().index\n",
    "avbed_price = df.groupby('bedrooms')['price'].mean().values\n",
    "y_tick = ['0', '500K', '1M', '1.5M', '2M', '2.5M', '3M']\n",
    "\n",
    "bath_mean = round(df.groupby('bathrooms')['price'].mean()[3],0)\n",
    "bed_mean = round(df.groupby('bedrooms')['price'].mean()[3],0)"
   ]
  },
  {
   "cell_type": "code",
   "execution_count": 45,
   "metadata": {},
   "outputs": [
    {
     "name": "stderr",
     "output_type": "stream",
     "text": [
      "<ipython-input-45-bd79e7a9bbf4>:5: UserWarning: FixedFormatter should only be used together with FixedLocator\n",
      "  axes[0].set_yticklabels(y_tick)\n"
     ]
    },
    {
     "data": {
      "image/png": "[encoded data removed]",
      "text/plain": [
       "<Figure size 864x288 with 2 Axes>"
      ]
     },
     "metadata": {},
     "output_type": "display_data"
    }
   ],
   "source": [
    "fig, axes = plt.subplots(1, 2, sharey=True, figsize = (12, 4))\n",
    "sns.barplot(x = bath, y=avbath_price, data = df, ax = axes[0])\n",
    "axes[0].set_title('Avg Price per Bathrooms')\n",
    "axes[0].set_ylabel('Average Price')\n",
    "axes[0].set_yticklabels(y_tick)\n",
    "axes[0].set_xticklabels(bath, rotation = 90)\n",
    "axes[0].axhline(y = bath_mean, color = 'black', linewidth=2)\n",
    "axes[0].legend([f'3 Bathrooms {bath_mean}K'])\n",
    "sns.barplot(x = bed, y=avbed_price, data=df, ax = axes[1], ci = False)\n",
    "axes[1].set_title('Avg Price per Bedrooms')\n",
    "axes[1].axhline(y = bed_mean, color = 'black', linewidth=2)\n",
    "axes[1].legend([f'3 Bedrooms {bed_mean}K'])\n",
    "plt.suptitle('Bathrooms and Bedrooms on Price')\n",
    "plt.savefig('Visualizations/Bed_Bath.png')\n",
    "plt.show();\n"
   ]
  },
  {
   "cell_type": "markdown",
   "metadata": {},
   "source": [
    ">From these findings, bathrooms tend to up the value of a home more than bedrooms. I am now more tempted to utilize bathrooms in the model than bedrooms. "
   ]
  },
  {
   "cell_type": "markdown",
   "metadata": {},
   "source": [
    "### *Sqft Living and Sqft Lot*"
   ]
  },
  {
   "cell_type": "code",
   "execution_count": 46,
   "metadata": {},
   "outputs": [],
   "source": [
    "ylabels = ['0', '0', '1M', '2M', '3M', '4M', '5M', '6M', '7M']"
   ]
  },
  {
   "cell_type": "code",
   "execution_count": 47,
   "metadata": {},
   "outputs": [
    {
     "name": "stderr",
     "output_type": "stream",
     "text": [
      "<ipython-input-47-855ad35b5aac>:4: UserWarning: FixedFormatter should only be used together with FixedLocator\n",
      "  ax.set_yticklabels(ylabels)\n"
     ]
    },
    {
     "data": {
      "image/png": "[encoded data removed]",
      "text/plain": [
       "<Figure size 648x288 with 1 Axes>"
      ]
     },
     "metadata": {},
     "output_type": "display_data"
    }
   ],
   "source": [
    "fig, ax = plt.subplots(figsize = (9, 4))\n",
    "sns.scatterplot(x = 'sqft_living', y='price', data=df, hue = 'waterfront')\n",
    "ax.set_title('Price per Squarefoot Living')\n",
    "ax.set_yticklabels(ylabels)\n",
    "ax.set_xlabel('Sqft Living')\n",
    "plt.savefig('Visualizations/SLot.png')\n",
    "plt.show();"
   ]
  },
  {
   "cell_type": "markdown",
   "metadata": {},
   "source": [
    "The squarefoot living looks linear as expected. The waterfront column seems to have a great affect as well, being that it is mostly as the top of the linear trend."
   ]
  },
  {
   "cell_type": "markdown",
   "metadata": {},
   "source": [
    "### *Conditions and Grade*"
   ]
  },
  {
   "cell_type": "code",
   "execution_count": 48,
   "metadata": {},
   "outputs": [],
   "source": [
    "condition = df.groupby('condition')['price'].mean().index\n",
    "condition_price = df.groupby('condition')['price'].mean().values\n",
    "\n",
    "grade = df.groupby('new_grades')['price'].mean().index\n",
    "grade_price = df.groupby('new_grades')['price'].mean().values\n",
    "y_labels = ['0', '100K', '200K', '300K', '400K', '500K', '600K']"
   ]
  },
  {
   "cell_type": "code",
   "execution_count": 49,
   "metadata": {},
   "outputs": [
    {
     "name": "stderr",
     "output_type": "stream",
     "text": [
      "<ipython-input-49-a4845bfcca9a>:6: UserWarning: FixedFormatter should only be used together with FixedLocator\n",
      "  axes[0].set_yticklabels(y_labels)\n"
     ]
    },
    {
     "data": {
      "image/png": "[encoded data removed]",
      "text/plain": [
       "<Figure size 864x288 with 2 Axes>"
      ]
     },
     "metadata": {},
     "output_type": "display_data"
    }
   ],
   "source": [
    "fig, axes = plt.subplots(1, 2, figsize = (12, 4), sharey= True)\n",
    "sns.barplot(x = grade, y=grade_price, data = df, ax = axes[0])\n",
    "axes[0].set_title('Price of Homes by Grade')\n",
    "axes[0].set_ylabel('Price of Homes')\n",
    "axes[0].set_xlabel('Homes by Grade (Post Regrouping)')\n",
    "axes[0].set_yticklabels(y_labels)\n",
    "sns.barplot(x = condition, y=condition_price, data=df, ax = axes[1])\n",
    "axes[1].set_title('Price of Homes by Condition')\n",
    "axes[1].set_xlabel('Homes by Condition')\n",
    "plt.suptitle('Average Grade and Condition')\n",
    "plt.savefig('Visualizations/Condition_Renovation.png')\n",
    "plt.show();"
   ]
  },
  {
   "cell_type": "markdown",
   "metadata": {},
   "source": [
    ">In both grade and condition there is a general positive trend that as price increases the quality (via condition and grade) go up as well. This goes to show that people will pay more for quality."
   ]
  },
  {
   "cell_type": "markdown",
   "metadata": {},
   "source": [
    "### *Zipcode and Price*"
   ]
  },
  {
   "cell_type": "code",
   "execution_count": 50,
   "metadata": {},
   "outputs": [],
   "source": [
    "zipc = df.groupby('zipcode')['price'].mean().index\n",
    "av_price = df.groupby('zipcode')['price'].mean().values\n",
    "y_ticks = ['0', '250K', '500K', '750K', '1M', '1.25M', '1.5M', '1.75M', '2M']"
   ]
  },
  {
   "cell_type": "code",
   "execution_count": 51,
   "metadata": {
    "scrolled": false
   },
   "outputs": [
    {
     "name": "stderr",
     "output_type": "stream",
     "text": [
      "<ipython-input-51-48a698ef55c3>:5: UserWarning: FixedFormatter should only be used together with FixedLocator\n",
      "  ax.set_yticklabels(y_ticks)\n"
     ]
    },
    {
     "data": {
      "image/png": "[encoded data removed]",
      "text/plain": [
       "<Figure size 864x288 with 1 Axes>"
      ]
     },
     "metadata": {},
     "output_type": "display_data"
    }
   ],
   "source": [
    "fig, ax = plt.subplots(figsize=(12, 4)) \n",
    "sns.barplot(x=zipc, y=av_price, data = df)\n",
    "ax.set_xlabel('Zipcodes in King County')\n",
    "ax.set_ylabel('Average Price of Homes')\n",
    "ax.set_yticklabels(y_ticks)\n",
    "ax.set_xticklabels(zipc, rotation = 90)\n",
    "ax.set_title('Average Price of Homes by Zipcode in King County')\n",
    "plt.savefig('Visualizations/Price_By_Zip.png')\n",
    "plt.tight_layout();\n"
   ]
  },
  {
   "cell_type": "markdown",
   "metadata": {},
   "source": [
    ">The graph above gives a clear indication of the zipcodes with higher or lower averaged home prices. This can give you a starting point for someone looking for a home in King County when taking into consideration their budget. Zipcode is definitely going into my model."
   ]
  },
  {
   "cell_type": "markdown",
   "metadata": {},
   "source": [
    "### *Price v Distance*"
   ]
  },
  {
   "cell_type": "code",
   "execution_count": 52,
   "metadata": {},
   "outputs": [],
   "source": [
    "ylabels = ['0', '100K', '200K', '300K', '400K', '500K', '600K', '700K', '800K', '900K']"
   ]
  },
  {
   "cell_type": "code",
   "execution_count": 53,
   "metadata": {},
   "outputs": [
    {
     "name": "stderr",
     "output_type": "stream",
     "text": [
      "<ipython-input-53-b066753c725f>:8: UserWarning: FixedFormatter should only be used together with FixedLocator\n",
      "  ax.set_yticklabels(ylabels)\n"
     ]
    },
    {
     "data": {
      "image/png": "[encoded data removed]",
      "text/plain": [
       "<Figure size 504x288 with 1 Axes>"
      ]
     },
     "metadata": {},
     "output_type": "display_data"
    }
   ],
   "source": [
    "fig, ax = plt.subplots(figsize=(7, 4))\n",
    "sns.scatterplot(x='amazon', y='price', data = df)\n",
    "sns.scatterplot(x='boeing', y='price', data = df)\n",
    "sns.scatterplot(x='microsoft', y='price', data = df)\n",
    "ax.set_xlabel('Distance to Work(in miles)')\n",
    "ax.set_ylabel('Price')\n",
    "ax.set_title('Price v Distance to Work \\n (**Amazon, Boeing Co., & Microsoft**)')\n",
    "ax.set_yticklabels(ylabels)\n",
    "plt.legend(['Amazon', 'Boeing', 'Microsoft'])\n",
    "plt.savefig('Visualizations/Distance.png')\n",
    "plt.show();"
   ]
  },
  {
   "cell_type": "markdown",
   "metadata": {},
   "source": [
    ">There is a general negative correlation between the price of a home and proximity to work. As the price goes up, the distance to work is often closer. Of these homes there is a cluster of them that are farthest away from Boeing that are considerably low in price."
   ]
  },
  {
   "cell_type": "markdown",
   "metadata": {},
   "source": [
    "### *Renovation/Sqft on Price*"
   ]
  },
  {
   "cell_type": "code",
   "execution_count": 54,
   "metadata": {},
   "outputs": [
    {
     "name": "stderr",
     "output_type": "stream",
     "text": [
      "<ipython-input-54-d0c7e79edaac>:6: UserWarning: FixedFormatter should only be used together with FixedLocator\n",
      "  ax.set_yticklabels(ylabels)\n"
     ]
    },
    {
     "data": {
      "image/png": "[encoded data removed]",
      "text/plain": [
       "<Figure size 504x288 with 1 Axes>"
      ]
     },
     "metadata": {},
     "output_type": "display_data"
    }
   ],
   "source": [
    "fig, ax = plt.subplots(figsize=(7, 4))\n",
    "sns.scatterplot(x='reno_size', y='price', data = df, hue = df['yr_built'] > 2000)\n",
    "ax.set_xlabel('Renovation and Size Together')\n",
    "ax.set_ylabel('Price (in Millions)')\n",
    "ax.set_title('Price v Renovation/Size')\n",
    "ax.set_yticklabels(ylabels)\n",
    "plt.legend(['Renovated Before 2000'])\n",
    "plt.savefig('Visualizations/PricevReno.png')\n",
    "plt.show();"
   ]
  },
  {
   "cell_type": "markdown",
   "metadata": {},
   "source": [
    ">Through the interaction variable we can see that the points on y=0 have NOT been renovated. It is interesting to note that higher priced homes on this list were built AFTER 2000. Additionally, for the homes that were renovated, the year was not as relevant, and the size of the home had an affect on the price of the home post renovation. \n",
    "\n",
    ">This is an interesting interaction and I would love to incorporate this into the model."
   ]
  },
  {
   "cell_type": "markdown",
   "metadata": {},
   "source": [
    "**Now that the visualizations have influenced my choices on my model's variables, I will proceed making more dummy variables for some of my variables of interest.**"
   ]
  },
  {
   "cell_type": "code",
   "execution_count": 55,
   "metadata": {},
   "outputs": [],
   "source": [
    "#getting dummies for zipcode\n",
    "df = pd.get_dummies(df, columns=['zipcode'], drop_first = True)"
   ]
  },
  {
   "cell_type": "code",
   "execution_count": 56,
   "metadata": {},
   "outputs": [],
   "source": [
    "#getting a dummy for waterfront. It seemed to impact price. \n",
    "df = pd.get_dummies(df, columns=['waterfront'], drop_first = True)"
   ]
  },
  {
   "cell_type": "code",
   "execution_count": 57,
   "metadata": {},
   "outputs": [],
   "source": [
    "df = pd.get_dummies(df, columns=['condition'], drop_first = True)"
   ]
  },
  {
   "cell_type": "code",
   "execution_count": 58,
   "metadata": {},
   "outputs": [],
   "source": [
    "#getting dummies for new_grades\n",
    "df = pd.get_dummies(df, columns = ['new_grades'], drop_first = True)"
   ]
  },
  {
   "cell_type": "code",
   "execution_count": 59,
   "metadata": {},
   "outputs": [],
   "source": [
    "columns_to_use = ['amazon', 'boeing', 'microsoft','reno_size', 'yard_size2', 'bathrooms', 'waterfront_1', 'new_grades_2',\n",
    "       'sqft_living', 'sqft_lot', 'sqft_living15', 'sqft_lot15', 'sqft_basement', 'sqft_above','new_grades_3', 'condition_2','condition_3','condition_4','condition_5','zipcode_98002', 'zipcode_98003',\n",
    "       'zipcode_98004', 'zipcode_98005', 'zipcode_98006', 'zipcode_98007',\n",
    "       'zipcode_98008', 'zipcode_98010', 'zipcode_98011', 'zipcode_98014',\n",
    "       'zipcode_98019', 'zipcode_98022', 'zipcode_98023', 'zipcode_98024',\n",
    "       'zipcode_98027', 'zipcode_98028', 'zipcode_98029', 'zipcode_98030',\n",
    "       'zipcode_98031', 'zipcode_98032', 'zipcode_98033', 'zipcode_98034',\n",
    "       'zipcode_98038', 'zipcode_98039', 'zipcode_98040', 'zipcode_98042',\n",
    "       'zipcode_98045', 'zipcode_98052', 'zipcode_98053', 'zipcode_98055',\n",
    "       'zipcode_98056', 'zipcode_98058', 'zipcode_98059', 'zipcode_98065',\n",
    "       'zipcode_98070', 'zipcode_98072', 'zipcode_98074', 'zipcode_98075',\n",
    "       'zipcode_98077', 'zipcode_98092', 'zipcode_98102', 'zipcode_98103',\n",
    "       'zipcode_98105', 'zipcode_98106', 'zipcode_98107', 'zipcode_98108',\n",
    "       'zipcode_98109', 'zipcode_98112', 'zipcode_98115', 'zipcode_98116',\n",
    "       'zipcode_98117', 'zipcode_98118', 'zipcode_98119', 'zipcode_98122',\n",
    "       'zipcode_98125', 'zipcode_98126', 'zipcode_98133', 'zipcode_98136',\n",
    "       'zipcode_98144', 'zipcode_98146', 'zipcode_98148', 'zipcode_98155',\n",
    "       'zipcode_98166', 'zipcode_98168', 'zipcode_98177', 'zipcode_98178',\n",
    "       'zipcode_98188', 'zipcode_98198', 'zipcode_98199']"
   ]
  },
  {
   "cell_type": "markdown",
   "metadata": {},
   "source": [
    "# ***RUNNING INITIAL MODEL AND ASSUMPTION CHECK***"
   ]
  },
  {
   "cell_type": "code",
   "execution_count": 60,
   "metadata": {},
   "outputs": [
    {
     "data": {
      "text/html": [
       "<table class=\"simpletable\">\n",
       "<caption>OLS Regression Results</caption>\n",
       "<tr>\n",
       "  <th>Dep. Variable:</th>          <td>price</td>      <th>  R-squared:         </th>  <td>   0.807</td>  \n",
       "</tr>\n",
       "<tr>\n",
       "  <th>Model:</th>                   <td>OLS</td>       <th>  Adj. R-squared:    </th>  <td>   0.806</td>  \n",
       "</tr>\n",
       "<tr>\n",
       "  <th>Method:</th>             <td>Least Squares</td>  <th>  F-statistic:       </th>  <td>   817.6</td>  \n",
       "</tr>\n",
       "<tr>\n",
       "  <th>Date:</th>             <td>Fri, 12 Mar 2021</td> <th>  Prob (F-statistic):</th>   <td>  0.00</td>   \n",
       "</tr>\n",
       "<tr>\n",
       "  <th>Time:</th>                 <td>12:47:46</td>     <th>  Log-Likelihood:    </th> <td>-2.3214e+05</td>\n",
       "</tr>\n",
       "<tr>\n",
       "  <th>No. Observations:</th>      <td> 17290</td>      <th>  AIC:               </th>  <td>4.645e+05</td> \n",
       "</tr>\n",
       "<tr>\n",
       "  <th>Df Residuals:</th>          <td> 17201</td>      <th>  BIC:               </th>  <td>4.652e+05</td> \n",
       "</tr>\n",
       "<tr>\n",
       "  <th>Df Model:</th>              <td>    88</td>      <th>                     </th>      <td> </td>     \n",
       "</tr>\n",
       "<tr>\n",
       "  <th>Covariance Type:</th>      <td>nonrobust</td>    <th>                     </th>      <td> </td>     \n",
       "</tr>\n",
       "</table>\n",
       "<table class=\"simpletable\">\n",
       "<tr>\n",
       "        <td></td>           <th>coef</th>     <th>std err</th>      <th>t</th>      <th>P>|t|</th>  <th>[0.025</th>    <th>0.975]</th>  \n",
       "</tr>\n",
       "<tr>\n",
       "  <th>Intercept</th>     <td>-2.694e+04</td> <td> 4.33e+04</td> <td>   -0.622</td> <td> 0.534</td> <td>-1.12e+05</td> <td>  5.8e+04</td>\n",
       "</tr>\n",
       "<tr>\n",
       "  <th>amazon</th>        <td>-3.243e+04</td> <td> 2536.204</td> <td>  -12.788</td> <td> 0.000</td> <td>-3.74e+04</td> <td>-2.75e+04</td>\n",
       "</tr>\n",
       "<tr>\n",
       "  <th>boeing</th>        <td> 1.943e+04</td> <td> 2234.902</td> <td>    8.693</td> <td> 0.000</td> <td>  1.5e+04</td> <td> 2.38e+04</td>\n",
       "</tr>\n",
       "<tr>\n",
       "  <th>microsoft</th>     <td> 5807.1874</td> <td> 1895.419</td> <td>    3.064</td> <td> 0.002</td> <td> 2091.972</td> <td> 9522.402</td>\n",
       "</tr>\n",
       "<tr>\n",
       "  <th>reno_size</th>     <td>   38.9082</td> <td>    2.583</td> <td>   15.061</td> <td> 0.000</td> <td>   33.844</td> <td>   43.972</td>\n",
       "</tr>\n",
       "<tr>\n",
       "  <th>yard_size2</th>    <td>-3.022e-07</td> <td> 2.23e-07</td> <td>   -1.357</td> <td> 0.175</td> <td>-7.39e-07</td> <td> 1.34e-07</td>\n",
       "</tr>\n",
       "<tr>\n",
       "  <th>bathrooms</th>     <td> 8324.5026</td> <td> 2658.535</td> <td>    3.131</td> <td> 0.002</td> <td> 3113.503</td> <td> 1.35e+04</td>\n",
       "</tr>\n",
       "<tr>\n",
       "  <th>waterfront_1</th>  <td> 8.185e+05</td> <td> 1.46e+04</td> <td>   56.117</td> <td> 0.000</td> <td>  7.9e+05</td> <td> 8.47e+05</td>\n",
       "</tr>\n",
       "<tr>\n",
       "  <th>new_grades_2</th>  <td>-2.307e+04</td> <td> 4652.978</td> <td>   -4.957</td> <td> 0.000</td> <td>-3.22e+04</td> <td>-1.39e+04</td>\n",
       "</tr>\n",
       "<tr>\n",
       "  <th>sqft_living</th>   <td> -549.6049</td> <td>   22.131</td> <td>  -24.834</td> <td> 0.000</td> <td> -592.983</td> <td> -506.226</td>\n",
       "</tr>\n",
       "<tr>\n",
       "  <th>sqft_lot</th>      <td>    0.5081</td> <td>    0.111</td> <td>    4.563</td> <td> 0.000</td> <td>    0.290</td> <td>    0.726</td>\n",
       "</tr>\n",
       "<tr>\n",
       "  <th>sqft_living15</th> <td>   52.2003</td> <td>    3.196</td> <td>   16.333</td> <td> 0.000</td> <td>   45.936</td> <td>   58.465</td>\n",
       "</tr>\n",
       "<tr>\n",
       "  <th>sqft_lot15</th>    <td>   -0.1688</td> <td>    0.087</td> <td>   -1.944</td> <td> 0.052</td> <td>   -0.339</td> <td>    0.001</td>\n",
       "</tr>\n",
       "<tr>\n",
       "  <th>sqft_basement</th> <td>  691.4424</td> <td>   21.826</td> <td>   31.680</td> <td> 0.000</td> <td>  648.661</td> <td>  734.223</td>\n",
       "</tr>\n",
       "<tr>\n",
       "  <th>sqft_above</th>    <td>  734.5952</td> <td>   21.789</td> <td>   33.715</td> <td> 0.000</td> <td>  691.887</td> <td>  777.303</td>\n",
       "</tr>\n",
       "<tr>\n",
       "  <th>new_grades_3</th>  <td> 2.055e+05</td> <td> 8125.325</td> <td>   25.286</td> <td> 0.000</td> <td>  1.9e+05</td> <td> 2.21e+05</td>\n",
       "</tr>\n",
       "<tr>\n",
       "  <th>condition_2</th>   <td> 1.145e+05</td> <td> 3.65e+04</td> <td>    3.140</td> <td> 0.002</td> <td>  4.3e+04</td> <td> 1.86e+05</td>\n",
       "</tr>\n",
       "<tr>\n",
       "  <th>condition_3</th>   <td> 1.207e+05</td> <td> 3.38e+04</td> <td>    3.566</td> <td> 0.000</td> <td> 5.44e+04</td> <td> 1.87e+05</td>\n",
       "</tr>\n",
       "<tr>\n",
       "  <th>condition_4</th>   <td> 1.524e+05</td> <td> 3.39e+04</td> <td>    4.497</td> <td> 0.000</td> <td>  8.6e+04</td> <td> 2.19e+05</td>\n",
       "</tr>\n",
       "<tr>\n",
       "  <th>condition_5</th>   <td> 1.994e+05</td> <td> 3.41e+04</td> <td>    5.849</td> <td> 0.000</td> <td> 1.33e+05</td> <td> 2.66e+05</td>\n",
       "</tr>\n",
       "<tr>\n",
       "  <th>zipcode_98002</th> <td>  1.72e+04</td> <td> 1.66e+04</td> <td>    1.038</td> <td> 0.299</td> <td>-1.53e+04</td> <td> 4.97e+04</td>\n",
       "</tr>\n",
       "<tr>\n",
       "  <th>zipcode_98003</th> <td>-8418.8531</td> <td> 1.48e+04</td> <td>   -0.570</td> <td> 0.569</td> <td>-3.74e+04</td> <td> 2.05e+04</td>\n",
       "</tr>\n",
       "<tr>\n",
       "  <th>zipcode_98004</th> <td> 5.494e+05</td> <td> 2.82e+04</td> <td>   19.509</td> <td> 0.000</td> <td> 4.94e+05</td> <td> 6.05e+05</td>\n",
       "</tr>\n",
       "<tr>\n",
       "  <th>zipcode_98005</th> <td> 1.129e+05</td> <td>  3.1e+04</td> <td>    3.637</td> <td> 0.000</td> <td>  5.2e+04</td> <td> 1.74e+05</td>\n",
       "</tr>\n",
       "<tr>\n",
       "  <th>zipcode_98006</th> <td> 1.488e+05</td> <td> 2.44e+04</td> <td>    6.094</td> <td> 0.000</td> <td> 1.01e+05</td> <td> 1.97e+05</td>\n",
       "</tr>\n",
       "<tr>\n",
       "  <th>zipcode_98007</th> <td> 7.385e+04</td> <td>  3.3e+04</td> <td>    2.240</td> <td> 0.025</td> <td> 9215.524</td> <td> 1.38e+05</td>\n",
       "</tr>\n",
       "<tr>\n",
       "  <th>zipcode_98008</th> <td> 1.235e+05</td> <td> 3.28e+04</td> <td>    3.765</td> <td> 0.000</td> <td> 5.92e+04</td> <td> 1.88e+05</td>\n",
       "</tr>\n",
       "<tr>\n",
       "  <th>zipcode_98010</th> <td> 7.875e+04</td> <td> 2.37e+04</td> <td>    3.319</td> <td> 0.001</td> <td> 3.22e+04</td> <td> 1.25e+05</td>\n",
       "</tr>\n",
       "<tr>\n",
       "  <th>zipcode_98011</th> <td>-1.449e+05</td> <td> 3.25e+04</td> <td>   -4.451</td> <td> 0.000</td> <td>-2.09e+05</td> <td>-8.11e+04</td>\n",
       "</tr>\n",
       "<tr>\n",
       "  <th>zipcode_98014</th> <td> 4.148e+04</td> <td> 3.39e+04</td> <td>    1.225</td> <td> 0.221</td> <td>-2.49e+04</td> <td> 1.08e+05</td>\n",
       "</tr>\n",
       "<tr>\n",
       "  <th>zipcode_98019</th> <td>-5.421e+04</td> <td> 3.42e+04</td> <td>   -1.587</td> <td> 0.113</td> <td>-1.21e+05</td> <td> 1.28e+04</td>\n",
       "</tr>\n",
       "<tr>\n",
       "  <th>zipcode_98022</th> <td> 1.063e+05</td> <td> 1.94e+04</td> <td>    5.479</td> <td> 0.000</td> <td> 6.83e+04</td> <td> 1.44e+05</td>\n",
       "</tr>\n",
       "<tr>\n",
       "  <th>zipcode_98023</th> <td>-4.589e+04</td> <td> 1.31e+04</td> <td>   -3.498</td> <td> 0.000</td> <td>-7.16e+04</td> <td>-2.02e+04</td>\n",
       "</tr>\n",
       "<tr>\n",
       "  <th>zipcode_98024</th> <td>  1.13e+05</td> <td>  3.3e+04</td> <td>    3.428</td> <td> 0.001</td> <td> 4.84e+04</td> <td> 1.78e+05</td>\n",
       "</tr>\n",
       "<tr>\n",
       "  <th>zipcode_98027</th> <td> 9.061e+04</td> <td> 2.43e+04</td> <td>    3.725</td> <td> 0.000</td> <td> 4.29e+04</td> <td> 1.38e+05</td>\n",
       "</tr>\n",
       "<tr>\n",
       "  <th>zipcode_98028</th> <td> -1.69e+05</td> <td> 3.15e+04</td> <td>   -5.372</td> <td> 0.000</td> <td>-2.31e+05</td> <td>-1.07e+05</td>\n",
       "</tr>\n",
       "<tr>\n",
       "  <th>zipcode_98029</th> <td> 1.463e+05</td> <td> 2.81e+04</td> <td>    5.211</td> <td> 0.000</td> <td> 9.13e+04</td> <td> 2.01e+05</td>\n",
       "</tr>\n",
       "<tr>\n",
       "  <th>zipcode_98030</th> <td>-1.779e+04</td> <td> 1.61e+04</td> <td>   -1.108</td> <td> 0.268</td> <td>-4.93e+04</td> <td> 1.37e+04</td>\n",
       "</tr>\n",
       "<tr>\n",
       "  <th>zipcode_98031</th> <td> -2.63e+04</td> <td> 1.67e+04</td> <td>   -1.579</td> <td> 0.114</td> <td>-5.89e+04</td> <td> 6339.429</td>\n",
       "</tr>\n",
       "<tr>\n",
       "  <th>zipcode_98032</th> <td>-1.548e+04</td> <td> 1.94e+04</td> <td>   -0.797</td> <td> 0.426</td> <td>-5.35e+04</td> <td> 2.26e+04</td>\n",
       "</tr>\n",
       "<tr>\n",
       "  <th>zipcode_98033</th> <td> 1.036e+05</td> <td> 3.16e+04</td> <td>    3.282</td> <td> 0.001</td> <td> 4.17e+04</td> <td> 1.65e+05</td>\n",
       "</tr>\n",
       "<tr>\n",
       "  <th>zipcode_98034</th> <td>-7.106e+04</td> <td>  3.1e+04</td> <td>   -2.295</td> <td> 0.022</td> <td>-1.32e+05</td> <td>-1.04e+04</td>\n",
       "</tr>\n",
       "<tr>\n",
       "  <th>zipcode_98038</th> <td>  3.03e+04</td> <td> 1.62e+04</td> <td>    1.871</td> <td> 0.061</td> <td>-1445.651</td> <td>  6.2e+04</td>\n",
       "</tr>\n",
       "<tr>\n",
       "  <th>zipcode_98039</th> <td> 1.022e+06</td> <td> 3.66e+04</td> <td>   27.921</td> <td> 0.000</td> <td>  9.5e+05</td> <td> 1.09e+06</td>\n",
       "</tr>\n",
       "<tr>\n",
       "  <th>zipcode_98040</th> <td> 3.156e+05</td> <td> 2.27e+04</td> <td>   13.890</td> <td> 0.000</td> <td> 2.71e+05</td> <td>  3.6e+05</td>\n",
       "</tr>\n",
       "<tr>\n",
       "  <th>zipcode_98042</th> <td>-1388.7146</td> <td> 1.46e+04</td> <td>   -0.095</td> <td> 0.924</td> <td>   -3e+04</td> <td> 2.72e+04</td>\n",
       "</tr>\n",
       "<tr>\n",
       "  <th>zipcode_98045</th> <td> 1.448e+05</td> <td> 2.63e+04</td> <td>    5.513</td> <td> 0.000</td> <td> 9.33e+04</td> <td> 1.96e+05</td>\n",
       "</tr>\n",
       "<tr>\n",
       "  <th>zipcode_98052</th> <td> 3.739e+04</td> <td> 3.34e+04</td> <td>    1.120</td> <td> 0.263</td> <td> -2.8e+04</td> <td> 1.03e+05</td>\n",
       "</tr>\n",
       "<tr>\n",
       "  <th>zipcode_98053</th> <td> 4.375e+04</td> <td> 3.32e+04</td> <td>    1.317</td> <td> 0.188</td> <td>-2.14e+04</td> <td> 1.09e+05</td>\n",
       "</tr>\n",
       "<tr>\n",
       "  <th>zipcode_98055</th> <td>-1.775e+04</td> <td> 1.84e+04</td> <td>   -0.965</td> <td> 0.335</td> <td>-5.38e+04</td> <td> 1.83e+04</td>\n",
       "</tr>\n",
       "<tr>\n",
       "  <th>zipcode_98056</th> <td>-1.184e+04</td> <td> 1.98e+04</td> <td>   -0.597</td> <td> 0.550</td> <td>-5.07e+04</td> <td>  2.7e+04</td>\n",
       "</tr>\n",
       "<tr>\n",
       "  <th>zipcode_98058</th> <td>-1.838e+04</td> <td>  1.7e+04</td> <td>   -1.078</td> <td> 0.281</td> <td>-5.18e+04</td> <td>  1.5e+04</td>\n",
       "</tr>\n",
       "<tr>\n",
       "  <th>zipcode_98059</th> <td>-1.298e+04</td> <td> 1.97e+04</td> <td>   -0.658</td> <td> 0.510</td> <td>-5.16e+04</td> <td> 2.57e+04</td>\n",
       "</tr>\n",
       "<tr>\n",
       "  <th>zipcode_98065</th> <td> 6.435e+04</td> <td> 2.67e+04</td> <td>    2.409</td> <td> 0.016</td> <td>  1.2e+04</td> <td> 1.17e+05</td>\n",
       "</tr>\n",
       "<tr>\n",
       "  <th>zipcode_98070</th> <td>-8.809e+04</td> <td> 2.19e+04</td> <td>   -4.031</td> <td> 0.000</td> <td>-1.31e+05</td> <td>-4.53e+04</td>\n",
       "</tr>\n",
       "<tr>\n",
       "  <th>zipcode_98072</th> <td>-7.701e+04</td> <td> 3.28e+04</td> <td>   -2.348</td> <td> 0.019</td> <td>-1.41e+05</td> <td>-1.27e+04</td>\n",
       "</tr>\n",
       "<tr>\n",
       "  <th>zipcode_98074</th> <td> 5.274e+04</td> <td> 3.24e+04</td> <td>    1.629</td> <td> 0.103</td> <td>-1.07e+04</td> <td> 1.16e+05</td>\n",
       "</tr>\n",
       "<tr>\n",
       "  <th>zipcode_98075</th> <td> 3.771e+04</td> <td> 2.98e+04</td> <td>    1.266</td> <td> 0.206</td> <td>-2.07e+04</td> <td> 9.61e+04</td>\n",
       "</tr>\n",
       "<tr>\n",
       "  <th>zipcode_98077</th> <td> -9.28e+04</td> <td>  3.4e+04</td> <td>   -2.726</td> <td> 0.006</td> <td> -1.6e+05</td> <td>-2.61e+04</td>\n",
       "</tr>\n",
       "<tr>\n",
       "  <th>zipcode_98092</th> <td>-8559.8902</td> <td> 1.43e+04</td> <td>   -0.598</td> <td> 0.550</td> <td>-3.66e+04</td> <td> 1.95e+04</td>\n",
       "</tr>\n",
       "<tr>\n",
       "  <th>zipcode_98102</th> <td> 1.139e+05</td> <td> 3.52e+04</td> <td>    3.236</td> <td> 0.001</td> <td> 4.49e+04</td> <td> 1.83e+05</td>\n",
       "</tr>\n",
       "<tr>\n",
       "  <th>zipcode_98103</th> <td>-3.447e+04</td> <td>  3.1e+04</td> <td>   -1.113</td> <td> 0.266</td> <td>-9.52e+04</td> <td> 2.62e+04</td>\n",
       "</tr>\n",
       "<tr>\n",
       "  <th>zipcode_98105</th> <td>  1.22e+05</td> <td> 3.18e+04</td> <td>    3.837</td> <td> 0.000</td> <td> 5.97e+04</td> <td> 1.84e+05</td>\n",
       "</tr>\n",
       "<tr>\n",
       "  <th>zipcode_98106</th> <td>-4.841e+04</td> <td> 2.07e+04</td> <td>   -2.338</td> <td> 0.019</td> <td> -8.9e+04</td> <td>-7831.224</td>\n",
       "</tr>\n",
       "<tr>\n",
       "  <th>zipcode_98107</th> <td>-2.856e+04</td> <td>  3.2e+04</td> <td>   -0.893</td> <td> 0.372</td> <td>-9.12e+04</td> <td> 3.41e+04</td>\n",
       "</tr>\n",
       "<tr>\n",
       "  <th>zipcode_98108</th> <td> -5.14e+04</td> <td> 2.27e+04</td> <td>   -2.267</td> <td> 0.023</td> <td>-9.58e+04</td> <td>-6967.370</td>\n",
       "</tr>\n",
       "<tr>\n",
       "  <th>zipcode_98109</th> <td> 1.133e+05</td> <td> 3.54e+04</td> <td>    3.204</td> <td> 0.001</td> <td>  4.4e+04</td> <td> 1.83e+05</td>\n",
       "</tr>\n",
       "<tr>\n",
       "  <th>zipcode_98112</th> <td> 2.701e+05</td> <td> 3.05e+04</td> <td>    8.867</td> <td> 0.000</td> <td>  2.1e+05</td> <td>  3.3e+05</td>\n",
       "</tr>\n",
       "<tr>\n",
       "  <th>zipcode_98115</th> <td>-1.674e+04</td> <td> 3.04e+04</td> <td>   -0.551</td> <td> 0.582</td> <td>-7.63e+04</td> <td> 4.28e+04</td>\n",
       "</tr>\n",
       "<tr>\n",
       "  <th>zipcode_98116</th> <td> 4.194e+04</td> <td> 2.45e+04</td> <td>    1.714</td> <td> 0.087</td> <td>-6029.663</td> <td> 8.99e+04</td>\n",
       "</tr>\n",
       "<tr>\n",
       "  <th>zipcode_98117</th> <td>-4.642e+04</td> <td> 3.06e+04</td> <td>   -1.515</td> <td> 0.130</td> <td>-1.06e+05</td> <td> 1.37e+04</td>\n",
       "</tr>\n",
       "<tr>\n",
       "  <th>zipcode_98118</th> <td> 1.578e+04</td> <td> 1.96e+04</td> <td>    0.804</td> <td> 0.422</td> <td>-2.27e+04</td> <td> 5.43e+04</td>\n",
       "</tr>\n",
       "<tr>\n",
       "  <th>zipcode_98119</th> <td>  1.29e+05</td> <td> 3.32e+04</td> <td>    3.883</td> <td> 0.000</td> <td> 6.39e+04</td> <td> 1.94e+05</td>\n",
       "</tr>\n",
       "<tr>\n",
       "  <th>zipcode_98122</th> <td> 8843.9708</td> <td> 2.85e+04</td> <td>    0.310</td> <td> 0.756</td> <td> -4.7e+04</td> <td> 6.47e+04</td>\n",
       "</tr>\n",
       "<tr>\n",
       "  <th>zipcode_98125</th> <td>-1.396e+05</td> <td> 3.07e+04</td> <td>   -4.545</td> <td> 0.000</td> <td>   -2e+05</td> <td>-7.94e+04</td>\n",
       "</tr>\n",
       "<tr>\n",
       "  <th>zipcode_98126</th> <td> 5570.7122</td> <td> 2.14e+04</td> <td>    0.261</td> <td> 0.794</td> <td>-3.63e+04</td> <td> 4.75e+04</td>\n",
       "</tr>\n",
       "<tr>\n",
       "  <th>zipcode_98133</th> <td>-1.856e+05</td> <td> 3.03e+04</td> <td>   -6.125</td> <td> 0.000</td> <td>-2.45e+05</td> <td>-1.26e+05</td>\n",
       "</tr>\n",
       "<tr>\n",
       "  <th>zipcode_98136</th> <td> 8.657e+04</td> <td> 2.16e+04</td> <td>    3.999</td> <td> 0.000</td> <td> 4.41e+04</td> <td> 1.29e+05</td>\n",
       "</tr>\n",
       "<tr>\n",
       "  <th>zipcode_98144</th> <td> 1.855e+04</td> <td> 2.45e+04</td> <td>    0.756</td> <td> 0.450</td> <td>-2.96e+04</td> <td> 6.67e+04</td>\n",
       "</tr>\n",
       "<tr>\n",
       "  <th>zipcode_98146</th> <td>-1.974e+04</td> <td> 1.93e+04</td> <td>   -1.022</td> <td> 0.307</td> <td>-5.76e+04</td> <td> 1.81e+04</td>\n",
       "</tr>\n",
       "<tr>\n",
       "  <th>zipcode_98148</th> <td>-4998.9098</td> <td> 2.83e+04</td> <td>   -0.177</td> <td> 0.860</td> <td>-6.05e+04</td> <td> 5.05e+04</td>\n",
       "</tr>\n",
       "<tr>\n",
       "  <th>zipcode_98155</th> <td>-1.725e+05</td> <td> 3.04e+04</td> <td>   -5.666</td> <td> 0.000</td> <td>-2.32e+05</td> <td>-1.13e+05</td>\n",
       "</tr>\n",
       "<tr>\n",
       "  <th>zipcode_98166</th> <td>-1.847e+04</td> <td>  1.8e+04</td> <td>   -1.025</td> <td> 0.305</td> <td>-5.38e+04</td> <td> 1.69e+04</td>\n",
       "</tr>\n",
       "<tr>\n",
       "  <th>zipcode_98168</th> <td>-4.469e+04</td> <td> 1.93e+04</td> <td>   -2.320</td> <td> 0.020</td> <td>-8.25e+04</td> <td>-6927.209</td>\n",
       "</tr>\n",
       "<tr>\n",
       "  <th>zipcode_98177</th> <td>-7.865e+04</td> <td> 3.11e+04</td> <td>   -2.531</td> <td> 0.011</td> <td> -1.4e+05</td> <td>-1.77e+04</td>\n",
       "</tr>\n",
       "<tr>\n",
       "  <th>zipcode_98178</th> <td>-4.784e+04</td> <td> 1.95e+04</td> <td>   -2.447</td> <td> 0.014</td> <td>-8.62e+04</td> <td>-9522.805</td>\n",
       "</tr>\n",
       "<tr>\n",
       "  <th>zipcode_98188</th> <td>-2.633e+04</td> <td> 2.08e+04</td> <td>   -1.269</td> <td> 0.205</td> <td> -6.7e+04</td> <td> 1.43e+04</td>\n",
       "</tr>\n",
       "<tr>\n",
       "  <th>zipcode_98198</th> <td>-2.232e+04</td> <td> 1.58e+04</td> <td>   -1.412</td> <td> 0.158</td> <td>-5.33e+04</td> <td> 8660.053</td>\n",
       "</tr>\n",
       "<tr>\n",
       "  <th>zipcode_98199</th> <td> 1.878e+04</td> <td>  3.1e+04</td> <td>    0.606</td> <td> 0.544</td> <td> -4.2e+04</td> <td> 7.95e+04</td>\n",
       "</tr>\n",
       "</table>\n",
       "<table class=\"simpletable\">\n",
       "<tr>\n",
       "  <th>Omnibus:</th>       <td>12073.977</td> <th>  Durbin-Watson:     </th>  <td>   2.016</td>  \n",
       "</tr>\n",
       "<tr>\n",
       "  <th>Prob(Omnibus):</th>  <td> 0.000</td>   <th>  Jarque-Bera (JB):  </th> <td>1817837.849</td>\n",
       "</tr>\n",
       "<tr>\n",
       "  <th>Skew:</th>           <td> 2.441</td>   <th>  Prob(JB):          </th>  <td>    0.00</td>  \n",
       "</tr>\n",
       "<tr>\n",
       "  <th>Kurtosis:</th>       <td>52.995</td>   <th>  Cond. No.          </th>  <td>1.93e+12</td>  \n",
       "</tr>\n",
       "</table><br/><br/>Notes:<br/>[1] Standard Errors assume that the covariance matrix of the errors is correctly specified.<br/>[2] The condition number is large, 1.93e+12. This might indicate that there are<br/>strong multicollinearity or other numerical problems."
      ],
      "text/plain": [
       "<class 'statsmodels.iolib.summary.Summary'>\n",
       "\"\"\"\n",
       "                            OLS Regression Results                            \n",
       "==============================================================================\n",
       "Dep. Variable:                  price   R-squared:                       0.807\n",
       "Model:                            OLS   Adj. R-squared:                  0.806\n",
       "Method:                 Least Squares   F-statistic:                     817.6\n",
       "Date:                Fri, 12 Mar 2021   Prob (F-statistic):               0.00\n",
       "Time:                        12:47:46   Log-Likelihood:            -2.3214e+05\n",
       "No. Observations:               17290   AIC:                         4.645e+05\n",
       "Df Residuals:                   17201   BIC:                         4.652e+05\n",
       "Df Model:                          88                                         \n",
       "Covariance Type:            nonrobust                                         \n",
       "=================================================================================\n",
       "                    coef    std err          t      P>|t|      [0.025      0.975]\n",
       "---------------------------------------------------------------------------------\n",
       "Intercept     -2.694e+04   4.33e+04     -0.622      0.534   -1.12e+05     5.8e+04\n",
       "amazon        -3.243e+04   2536.204    -12.788      0.000   -3.74e+04   -2.75e+04\n",
       "boeing         1.943e+04   2234.902      8.693      0.000     1.5e+04    2.38e+04\n",
       "microsoft      5807.1874   1895.419      3.064      0.002    2091.972    9522.402\n",
       "reno_size        38.9082      2.583     15.061      0.000      33.844      43.972\n",
       "yard_size2    -3.022e-07   2.23e-07     -1.357      0.175   -7.39e-07    1.34e-07\n",
       "bathrooms      8324.5026   2658.535      3.131      0.002    3113.503    1.35e+04\n",
       "waterfront_1   8.185e+05   1.46e+04     56.117      0.000     7.9e+05    8.47e+05\n",
       "new_grades_2  -2.307e+04   4652.978     -4.957      0.000   -3.22e+04   -1.39e+04\n",
       "sqft_living    -549.6049     22.131    -24.834      0.000    -592.983    -506.226\n",
       "sqft_lot          0.5081      0.111      4.563      0.000       0.290       0.726\n",
       "sqft_living15    52.2003      3.196     16.333      0.000      45.936      58.465\n",
       "sqft_lot15       -0.1688      0.087     -1.944      0.052      -0.339       0.001\n",
       "sqft_basement   691.4424     21.826     31.680      0.000     648.661     734.223\n",
       "sqft_above      734.5952     21.789     33.715      0.000     691.887     777.303\n",
       "new_grades_3   2.055e+05   8125.325     25.286      0.000     1.9e+05    2.21e+05\n",
       "condition_2    1.145e+05   3.65e+04      3.140      0.002     4.3e+04    1.86e+05\n",
       "condition_3    1.207e+05   3.38e+04      3.566      0.000    5.44e+04    1.87e+05\n",
       "condition_4    1.524e+05   3.39e+04      4.497      0.000     8.6e+04    2.19e+05\n",
       "condition_5    1.994e+05   3.41e+04      5.849      0.000    1.33e+05    2.66e+05\n",
       "zipcode_98002   1.72e+04   1.66e+04      1.038      0.299   -1.53e+04    4.97e+04\n",
       "zipcode_98003 -8418.8531   1.48e+04     -0.570      0.569   -3.74e+04    2.05e+04\n",
       "zipcode_98004  5.494e+05   2.82e+04     19.509      0.000    4.94e+05    6.05e+05\n",
       "zipcode_98005  1.129e+05    3.1e+04      3.637      0.000     5.2e+04    1.74e+05\n",
       "zipcode_98006  1.488e+05   2.44e+04      6.094      0.000    1.01e+05    1.97e+05\n",
       "zipcode_98007  7.385e+04    3.3e+04      2.240      0.025    9215.524    1.38e+05\n",
       "zipcode_98008  1.235e+05   3.28e+04      3.765      0.000    5.92e+04    1.88e+05\n",
       "zipcode_98010  7.875e+04   2.37e+04      3.319      0.001    3.22e+04    1.25e+05\n",
       "zipcode_98011 -1.449e+05   3.25e+04     -4.451      0.000   -2.09e+05   -8.11e+04\n",
       "zipcode_98014  4.148e+04   3.39e+04      1.225      0.221   -2.49e+04    1.08e+05\n",
       "zipcode_98019 -5.421e+04   3.42e+04     -1.587      0.113   -1.21e+05    1.28e+04\n",
       "zipcode_98022  1.063e+05   1.94e+04      5.479      0.000    6.83e+04    1.44e+05\n",
       "zipcode_98023 -4.589e+04   1.31e+04     -3.498      0.000   -7.16e+04   -2.02e+04\n",
       "zipcode_98024   1.13e+05    3.3e+04      3.428      0.001    4.84e+04    1.78e+05\n",
       "zipcode_98027  9.061e+04   2.43e+04      3.725      0.000    4.29e+04    1.38e+05\n",
       "zipcode_98028  -1.69e+05   3.15e+04     -5.372      0.000   -2.31e+05   -1.07e+05\n",
       "zipcode_98029  1.463e+05   2.81e+04      5.211      0.000    9.13e+04    2.01e+05\n",
       "zipcode_98030 -1.779e+04   1.61e+04     -1.108      0.268   -4.93e+04    1.37e+04\n",
       "zipcode_98031  -2.63e+04   1.67e+04     -1.579      0.114   -5.89e+04    6339.429\n",
       "zipcode_98032 -1.548e+04   1.94e+04     -0.797      0.426   -5.35e+04    2.26e+04\n",
       "zipcode_98033  1.036e+05   3.16e+04      3.282      0.001    4.17e+04    1.65e+05\n",
       "zipcode_98034 -7.106e+04    3.1e+04     -2.295      0.022   -1.32e+05   -1.04e+04\n",
       "zipcode_98038   3.03e+04   1.62e+04      1.871      0.061   -1445.651     6.2e+04\n",
       "zipcode_98039  1.022e+06   3.66e+04     27.921      0.000     9.5e+05    1.09e+06\n",
       "zipcode_98040  3.156e+05   2.27e+04     13.890      0.000    2.71e+05     3.6e+05\n",
       "zipcode_98042 -1388.7146   1.46e+04     -0.095      0.924      -3e+04    2.72e+04\n",
       "zipcode_98045  1.448e+05   2.63e+04      5.513      0.000    9.33e+04    1.96e+05\n",
       "zipcode_98052  3.739e+04   3.34e+04      1.120      0.263    -2.8e+04    1.03e+05\n",
       "zipcode_98053  4.375e+04   3.32e+04      1.317      0.188   -2.14e+04    1.09e+05\n",
       "zipcode_98055 -1.775e+04   1.84e+04     -0.965      0.335   -5.38e+04    1.83e+04\n",
       "zipcode_98056 -1.184e+04   1.98e+04     -0.597      0.550   -5.07e+04     2.7e+04\n",
       "zipcode_98058 -1.838e+04    1.7e+04     -1.078      0.281   -5.18e+04     1.5e+04\n",
       "zipcode_98059 -1.298e+04   1.97e+04     -0.658      0.510   -5.16e+04    2.57e+04\n",
       "zipcode_98065  6.435e+04   2.67e+04      2.409      0.016     1.2e+04    1.17e+05\n",
       "zipcode_98070 -8.809e+04   2.19e+04     -4.031      0.000   -1.31e+05   -4.53e+04\n",
       "zipcode_98072 -7.701e+04   3.28e+04     -2.348      0.019   -1.41e+05   -1.27e+04\n",
       "zipcode_98074  5.274e+04   3.24e+04      1.629      0.103   -1.07e+04    1.16e+05\n",
       "zipcode_98075  3.771e+04   2.98e+04      1.266      0.206   -2.07e+04    9.61e+04\n",
       "zipcode_98077  -9.28e+04    3.4e+04     -2.726      0.006    -1.6e+05   -2.61e+04\n",
       "zipcode_98092 -8559.8902   1.43e+04     -0.598      0.550   -3.66e+04    1.95e+04\n",
       "zipcode_98102  1.139e+05   3.52e+04      3.236      0.001    4.49e+04    1.83e+05\n",
       "zipcode_98103 -3.447e+04    3.1e+04     -1.113      0.266   -9.52e+04    2.62e+04\n",
       "zipcode_98105   1.22e+05   3.18e+04      3.837      0.000    5.97e+04    1.84e+05\n",
       "zipcode_98106 -4.841e+04   2.07e+04     -2.338      0.019    -8.9e+04   -7831.224\n",
       "zipcode_98107 -2.856e+04    3.2e+04     -0.893      0.372   -9.12e+04    3.41e+04\n",
       "zipcode_98108  -5.14e+04   2.27e+04     -2.267      0.023   -9.58e+04   -6967.370\n",
       "zipcode_98109  1.133e+05   3.54e+04      3.204      0.001     4.4e+04    1.83e+05\n",
       "zipcode_98112  2.701e+05   3.05e+04      8.867      0.000     2.1e+05     3.3e+05\n",
       "zipcode_98115 -1.674e+04   3.04e+04     -0.551      0.582   -7.63e+04    4.28e+04\n",
       "zipcode_98116  4.194e+04   2.45e+04      1.714      0.087   -6029.663    8.99e+04\n",
       "zipcode_98117 -4.642e+04   3.06e+04     -1.515      0.130   -1.06e+05    1.37e+04\n",
       "zipcode_98118  1.578e+04   1.96e+04      0.804      0.422   -2.27e+04    5.43e+04\n",
       "zipcode_98119   1.29e+05   3.32e+04      3.883      0.000    6.39e+04    1.94e+05\n",
       "zipcode_98122  8843.9708   2.85e+04      0.310      0.756    -4.7e+04    6.47e+04\n",
       "zipcode_98125 -1.396e+05   3.07e+04     -4.545      0.000      -2e+05   -7.94e+04\n",
       "zipcode_98126  5570.7122   2.14e+04      0.261      0.794   -3.63e+04    4.75e+04\n",
       "zipcode_98133 -1.856e+05   3.03e+04     -6.125      0.000   -2.45e+05   -1.26e+05\n",
       "zipcode_98136  8.657e+04   2.16e+04      3.999      0.000    4.41e+04    1.29e+05\n",
       "zipcode_98144  1.855e+04   2.45e+04      0.756      0.450   -2.96e+04    6.67e+04\n",
       "zipcode_98146 -1.974e+04   1.93e+04     -1.022      0.307   -5.76e+04    1.81e+04\n",
       "zipcode_98148 -4998.9098   2.83e+04     -0.177      0.860   -6.05e+04    5.05e+04\n",
       "zipcode_98155 -1.725e+05   3.04e+04     -5.666      0.000   -2.32e+05   -1.13e+05\n",
       "zipcode_98166 -1.847e+04    1.8e+04     -1.025      0.305   -5.38e+04    1.69e+04\n",
       "zipcode_98168 -4.469e+04   1.93e+04     -2.320      0.020   -8.25e+04   -6927.209\n",
       "zipcode_98177 -7.865e+04   3.11e+04     -2.531      0.011    -1.4e+05   -1.77e+04\n",
       "zipcode_98178 -4.784e+04   1.95e+04     -2.447      0.014   -8.62e+04   -9522.805\n",
       "zipcode_98188 -2.633e+04   2.08e+04     -1.269      0.205    -6.7e+04    1.43e+04\n",
       "zipcode_98198 -2.232e+04   1.58e+04     -1.412      0.158   -5.33e+04    8660.053\n",
       "zipcode_98199  1.878e+04    3.1e+04      0.606      0.544    -4.2e+04    7.95e+04\n",
       "==============================================================================\n",
       "Omnibus:                    12073.977   Durbin-Watson:                   2.016\n",
       "Prob(Omnibus):                  0.000   Jarque-Bera (JB):          1817837.849\n",
       "Skew:                           2.441   Prob(JB):                         0.00\n",
       "Kurtosis:                      52.995   Cond. No.                     1.93e+12\n",
       "==============================================================================\n",
       "\n",
       "Notes:\n",
       "[1] Standard Errors assume that the covariance matrix of the errors is correctly specified.\n",
       "[2] The condition number is large, 1.93e+12. This might indicate that there are\n",
       "strong multicollinearity or other numerical problems.\n",
       "\"\"\""
      ]
     },
     "execution_count": 60,
     "metadata": {},
     "output_type": "execute_result"
    }
   ],
   "source": [
    "outcome = 'price'\n",
    "x_cols = columns_to_use\n",
    "predictors = '+'.join(x_cols)\n",
    "formula = outcome + '~' + predictors\n",
    "model = ols(formula=formula, data=df).fit()\n",
    "model.summary()"
   ]
  },
  {
   "cell_type": "code",
   "execution_count": 61,
   "metadata": {},
   "outputs": [
    {
     "data": {
      "text/plain": [
       "LinearRegression()"
      ]
     },
     "execution_count": 61,
     "metadata": {},
     "output_type": "execute_result"
    }
   ],
   "source": [
    "lm = LinearRegression()\n",
    "lm.fit(df[columns_to_use], df['price'])"
   ]
  },
  {
   "cell_type": "code",
   "execution_count": 62,
   "metadata": {},
   "outputs": [
    {
     "data": {
      "text/plain": [
       "array([ 390867.76027945,  868588.30454437, 1225435.34625078,\n",
       "       1351737.50779999,  614216.7575071 ])"
      ]
     },
     "execution_count": 62,
     "metadata": {},
     "output_type": "execute_result"
    }
   ],
   "source": [
    "y_pred = lm.predict(df[columns_to_use])\n",
    "y_pred[:5]"
   ]
  },
  {
   "cell_type": "code",
   "execution_count": 63,
   "metadata": {},
   "outputs": [
    {
     "name": "stdout",
     "output_type": "stream",
     "text": [
      "96556.36346882058\n",
      "163978.90112766635\n"
     ]
    }
   ],
   "source": [
    "#checking the errors\n",
    "mae = metrics.mean_absolute_error(df['price'], y_pred)\n",
    "mse = metrics.mean_squared_error(df['price'], y_pred)\n",
    "rmse = np.sqrt(mse)\n",
    "\n",
    "print(mae)\n",
    "print(rmse)"
   ]
  },
  {
   "cell_type": "markdown",
   "metadata": {},
   "source": [
    ">The RMSE here tells us that the square root of the average of squared differences between the predictions and actual observation is around 163978. The fit could be better, so I will try to adjust for this after checking the assumptions."
   ]
  },
  {
   "cell_type": "markdown",
   "metadata": {},
   "source": [
    "#### Linearity"
   ]
  },
  {
   "cell_type": "code",
   "execution_count": 64,
   "metadata": {},
   "outputs": [
    {
     "data": {
      "image/png": "[encoded data removed]",
      "text/plain": [
       "<Figure size 432x288 with 1 Axes>"
      ]
     },
     "metadata": {},
     "output_type": "display_data"
    }
   ],
   "source": [
    "#The trend between price and predicted price is generally linear\n",
    "plt.scatter( df['price'], y_pred)\n",
    "plt.xlabel(\"True Values\")\n",
    "plt.ylabel(\"Predictions\");"
   ]
  },
  {
   "cell_type": "markdown",
   "metadata": {},
   "source": [
    "> For the most part, the model is linear."
   ]
  },
  {
   "cell_type": "markdown",
   "metadata": {},
   "source": [
    "#### Independence of Errors / Equal Variances"
   ]
  },
  {
   "cell_type": "code",
   "execution_count": 65,
   "metadata": {},
   "outputs": [
    {
     "name": "stderr",
     "output_type": "stream",
     "text": [
      "/opt/anaconda3/envs/learn-env/lib/python3.8/site-packages/seaborn/_decorators.py:36: FutureWarning: Pass the following variables as keyword args: x, y. From version 0.12, the only valid positional argument will be `data`, and passing other arguments without an explicit keyword will result in an error or misinterpretation.\n",
      "  warnings.warn(\n"
     ]
    },
    {
     "data": {
      "text/plain": [
       "<AxesSubplot:ylabel='price'>"
      ]
     },
     "execution_count": 65,
     "metadata": {},
     "output_type": "execute_result"
    },
    {
     "data": {
      "image/png": "[encoded data removed]",
      "text/plain": [
       "<Figure size 432x288 with 1 Axes>"
      ]
     },
     "metadata": {},
     "output_type": "display_data"
    }
   ],
   "source": [
    "sns.residplot(y_pred, df['price'], lowess=True, color=\"b\")"
   ]
  },
  {
   "cell_type": "markdown",
   "metadata": {},
   "source": [
    "> The independence of errors / variances are increasing as price increases. This is not a pattern I want to see. I will have to do something to improve this. "
   ]
  },
  {
   "cell_type": "markdown",
   "metadata": {},
   "source": [
    "#### Normality of Errors"
   ]
  },
  {
   "cell_type": "code",
   "execution_count": 66,
   "metadata": {},
   "outputs": [
    {
     "name": "stderr",
     "output_type": "stream",
     "text": [
      "/opt/anaconda3/envs/learn-env/lib/python3.8/site-packages/seaborn/distributions.py:2551: FutureWarning: `distplot` is a deprecated function and will be removed in a future version. Please adapt your code to use either `displot` (a figure-level function with similar flexibility) or `histplot` (an axes-level function for histograms).\n",
      "  warnings.warn(msg, FutureWarning)\n",
      "/opt/anaconda3/envs/learn-env/lib/python3.8/site-packages/seaborn/distributions.py:2055: FutureWarning: The `axis` variable is no longer used and will be removed. Instead, assign variables directly to `x` or `y`.\n",
      "  warnings.warn(msg, FutureWarning)\n"
     ]
    },
    {
     "data": {
      "image/png": "[encoded data removed]",
      "text/plain": [
       "<Figure size 432x288 with 1 Axes>"
      ]
     },
     "metadata": {},
     "output_type": "display_data"
    }
   ],
   "source": [
    "residuals =  df['price']- y_pred\n",
    "sns.distplot(residuals, kde=True, rug=True);"
   ]
  },
  {
   "cell_type": "markdown",
   "metadata": {},
   "source": [
    ">There is a thick visible prominent right tail. I will see if I can correct for this with the log of price."
   ]
  },
  {
   "cell_type": "markdown",
   "metadata": {},
   "source": [
    "# ***Making a First Adjustment***"
   ]
  },
  {
   "cell_type": "markdown",
   "metadata": {},
   "source": [
    "I think the variables I chose do logically make sense in determining the price of a home. In my first 'model' the r2 value is not too high, but also not too low either.  \n",
    "\n",
    "There is a large right tail with the residuals, as seen above, so I will try something else. I think a log transformation will help.\n",
    "\n",
    ">In the hopes of making a better adjustment to the model, I am going to log the price variable because of the large right tail of the errors."
   ]
  },
  {
   "cell_type": "code",
   "execution_count": 67,
   "metadata": {},
   "outputs": [],
   "source": [
    "#creating the log of price variable\n",
    "df['log_price'] = np.log(df['price'])"
   ]
  },
  {
   "cell_type": "code",
   "execution_count": 68,
   "metadata": {},
   "outputs": [
    {
     "data": {
      "text/html": [
       "<table class=\"simpletable\">\n",
       "<caption>OLS Regression Results</caption>\n",
       "<tr>\n",
       "  <th>Dep. Variable:</th>        <td>log_price</td>    <th>  R-squared:         </th> <td>   0.872</td>\n",
       "</tr>\n",
       "<tr>\n",
       "  <th>Model:</th>                   <td>OLS</td>       <th>  Adj. R-squared:    </th> <td>   0.871</td>\n",
       "</tr>\n",
       "<tr>\n",
       "  <th>Method:</th>             <td>Least Squares</td>  <th>  F-statistic:       </th> <td>   1328.</td>\n",
       "</tr>\n",
       "<tr>\n",
       "  <th>Date:</th>             <td>Fri, 12 Mar 2021</td> <th>  Prob (F-statistic):</th>  <td>  0.00</td> \n",
       "</tr>\n",
       "<tr>\n",
       "  <th>Time:</th>                 <td>12:48:02</td>     <th>  Log-Likelihood:    </th> <td>  4297.2</td>\n",
       "</tr>\n",
       "<tr>\n",
       "  <th>No. Observations:</th>      <td> 17290</td>      <th>  AIC:               </th> <td>  -8416.</td>\n",
       "</tr>\n",
       "<tr>\n",
       "  <th>Df Residuals:</th>          <td> 17201</td>      <th>  BIC:               </th> <td>  -7726.</td>\n",
       "</tr>\n",
       "<tr>\n",
       "  <th>Df Model:</th>              <td>    88</td>      <th>                     </th>     <td> </td>   \n",
       "</tr>\n",
       "<tr>\n",
       "  <th>Covariance Type:</th>      <td>nonrobust</td>    <th>                     </th>     <td> </td>   \n",
       "</tr>\n",
       "</table>\n",
       "<table class=\"simpletable\">\n",
       "<tr>\n",
       "        <td></td>           <th>coef</th>     <th>std err</th>      <th>t</th>      <th>P>|t|</th>  <th>[0.025</th>    <th>0.975]</th>  \n",
       "</tr>\n",
       "<tr>\n",
       "  <th>Intercept</th>     <td>   11.8537</td> <td>    0.050</td> <td>  237.658</td> <td> 0.000</td> <td>   11.756</td> <td>   11.952</td>\n",
       "</tr>\n",
       "<tr>\n",
       "  <th>amazon</th>        <td>   -0.0575</td> <td>    0.003</td> <td>  -19.711</td> <td> 0.000</td> <td>   -0.063</td> <td>   -0.052</td>\n",
       "</tr>\n",
       "<tr>\n",
       "  <th>boeing</th>        <td>    0.0429</td> <td>    0.003</td> <td>   16.667</td> <td> 0.000</td> <td>    0.038</td> <td>    0.048</td>\n",
       "</tr>\n",
       "<tr>\n",
       "  <th>microsoft</th>     <td>   -0.0011</td> <td>    0.002</td> <td>   -0.500</td> <td> 0.617</td> <td>   -0.005</td> <td>    0.003</td>\n",
       "</tr>\n",
       "<tr>\n",
       "  <th>reno_size</th>     <td> 3.827e-05</td> <td> 2.97e-06</td> <td>   12.873</td> <td> 0.000</td> <td> 3.24e-05</td> <td> 4.41e-05</td>\n",
       "</tr>\n",
       "<tr>\n",
       "  <th>yard_size2</th>    <td>-1.787e-12</td> <td> 2.56e-13</td> <td>   -6.975</td> <td> 0.000</td> <td>-2.29e-12</td> <td>-1.28e-12</td>\n",
       "</tr>\n",
       "<tr>\n",
       "  <th>bathrooms</th>     <td>    0.0370</td> <td>    0.003</td> <td>   12.089</td> <td> 0.000</td> <td>    0.031</td> <td>    0.043</td>\n",
       "</tr>\n",
       "<tr>\n",
       "  <th>waterfront_1</th>  <td>    0.6588</td> <td>    0.017</td> <td>   39.242</td> <td> 0.000</td> <td>    0.626</td> <td>    0.692</td>\n",
       "</tr>\n",
       "<tr>\n",
       "  <th>new_grades_2</th>  <td>    0.1167</td> <td>    0.005</td> <td>   21.798</td> <td> 0.000</td> <td>    0.106</td> <td>    0.127</td>\n",
       "</tr>\n",
       "<tr>\n",
       "  <th>sqft_living</th>   <td>    0.0003</td> <td> 2.55e-05</td> <td>   11.559</td> <td> 0.000</td> <td>    0.000</td> <td>    0.000</td>\n",
       "</tr>\n",
       "<tr>\n",
       "  <th>sqft_lot</th>      <td> 1.765e-06</td> <td> 1.28e-07</td> <td>   13.775</td> <td> 0.000</td> <td> 1.51e-06</td> <td> 2.02e-06</td>\n",
       "</tr>\n",
       "<tr>\n",
       "  <th>sqft_living15</th> <td>    0.0001</td> <td> 3.68e-06</td> <td>   36.248</td> <td> 0.000</td> <td>    0.000</td> <td>    0.000</td>\n",
       "</tr>\n",
       "<tr>\n",
       "  <th>sqft_lot15</th>    <td>-3.155e-07</td> <td> 9.99e-08</td> <td>   -3.158</td> <td> 0.002</td> <td>-5.11e-07</td> <td> -1.2e-07</td>\n",
       "</tr>\n",
       "<tr>\n",
       "  <th>sqft_basement</th> <td>   -0.0001</td> <td> 2.51e-05</td> <td>   -5.087</td> <td> 0.000</td> <td>   -0.000</td> <td>-7.86e-05</td>\n",
       "</tr>\n",
       "<tr>\n",
       "  <th>sqft_above</th>    <td>-5.641e-05</td> <td> 2.51e-05</td> <td>   -2.250</td> <td> 0.024</td> <td>   -0.000</td> <td>-7.26e-06</td>\n",
       "</tr>\n",
       "<tr>\n",
       "  <th>new_grades_3</th>  <td>    0.1969</td> <td>    0.009</td> <td>   21.053</td> <td> 0.000</td> <td>    0.179</td> <td>    0.215</td>\n",
       "</tr>\n",
       "<tr>\n",
       "  <th>condition_2</th>   <td>    0.2246</td> <td>    0.042</td> <td>    5.351</td> <td> 0.000</td> <td>    0.142</td> <td>    0.307</td>\n",
       "</tr>\n",
       "<tr>\n",
       "  <th>condition_3</th>   <td>    0.3595</td> <td>    0.039</td> <td>    9.230</td> <td> 0.000</td> <td>    0.283</td> <td>    0.436</td>\n",
       "</tr>\n",
       "<tr>\n",
       "  <th>condition_4</th>   <td>    0.4126</td> <td>    0.039</td> <td>   10.583</td> <td> 0.000</td> <td>    0.336</td> <td>    0.489</td>\n",
       "</tr>\n",
       "<tr>\n",
       "  <th>condition_5</th>   <td>    0.4791</td> <td>    0.039</td> <td>   12.213</td> <td> 0.000</td> <td>    0.402</td> <td>    0.556</td>\n",
       "</tr>\n",
       "<tr>\n",
       "  <th>zipcode_98002</th> <td>   -0.0341</td> <td>    0.019</td> <td>   -1.790</td> <td> 0.073</td> <td>   -0.072</td> <td>    0.003</td>\n",
       "</tr>\n",
       "<tr>\n",
       "  <th>zipcode_98003</th> <td>    0.0016</td> <td>    0.017</td> <td>    0.093</td> <td> 0.926</td> <td>   -0.032</td> <td>    0.035</td>\n",
       "</tr>\n",
       "<tr>\n",
       "  <th>zipcode_98004</th> <td>    0.5271</td> <td>    0.032</td> <td>   16.263</td> <td> 0.000</td> <td>    0.464</td> <td>    0.591</td>\n",
       "</tr>\n",
       "<tr>\n",
       "  <th>zipcode_98005</th> <td>    0.2094</td> <td>    0.036</td> <td>    5.862</td> <td> 0.000</td> <td>    0.139</td> <td>    0.279</td>\n",
       "</tr>\n",
       "<tr>\n",
       "  <th>zipcode_98006</th> <td>    0.2753</td> <td>    0.028</td> <td>    9.797</td> <td> 0.000</td> <td>    0.220</td> <td>    0.330</td>\n",
       "</tr>\n",
       "<tr>\n",
       "  <th>zipcode_98007</th> <td>    0.1549</td> <td>    0.038</td> <td>    4.081</td> <td> 0.000</td> <td>    0.080</td> <td>    0.229</td>\n",
       "</tr>\n",
       "<tr>\n",
       "  <th>zipcode_98008</th> <td>    0.1941</td> <td>    0.038</td> <td>    5.145</td> <td> 0.000</td> <td>    0.120</td> <td>    0.268</td>\n",
       "</tr>\n",
       "<tr>\n",
       "  <th>zipcode_98010</th> <td>    0.2202</td> <td>    0.027</td> <td>    8.065</td> <td> 0.000</td> <td>    0.167</td> <td>    0.274</td>\n",
       "</tr>\n",
       "<tr>\n",
       "  <th>zipcode_98011</th> <td>   -0.2261</td> <td>    0.037</td> <td>   -6.035</td> <td> 0.000</td> <td>   -0.300</td> <td>   -0.153</td>\n",
       "</tr>\n",
       "<tr>\n",
       "  <th>zipcode_98014</th> <td>   -0.0207</td> <td>    0.039</td> <td>   -0.530</td> <td> 0.596</td> <td>   -0.097</td> <td>    0.056</td>\n",
       "</tr>\n",
       "<tr>\n",
       "  <th>zipcode_98019</th> <td>   -0.1364</td> <td>    0.039</td> <td>   -3.470</td> <td> 0.001</td> <td>   -0.214</td> <td>   -0.059</td>\n",
       "</tr>\n",
       "<tr>\n",
       "  <th>zipcode_98022</th> <td>    0.1971</td> <td>    0.022</td> <td>    8.824</td> <td> 0.000</td> <td>    0.153</td> <td>    0.241</td>\n",
       "</tr>\n",
       "<tr>\n",
       "  <th>zipcode_98023</th> <td>   -0.0331</td> <td>    0.015</td> <td>   -2.190</td> <td> 0.029</td> <td>   -0.063</td> <td>   -0.003</td>\n",
       "</tr>\n",
       "<tr>\n",
       "  <th>zipcode_98024</th> <td>    0.1561</td> <td>    0.038</td> <td>    4.114</td> <td> 0.000</td> <td>    0.082</td> <td>    0.230</td>\n",
       "</tr>\n",
       "<tr>\n",
       "  <th>zipcode_98027</th> <td>    0.2240</td> <td>    0.028</td> <td>    8.003</td> <td> 0.000</td> <td>    0.169</td> <td>    0.279</td>\n",
       "</tr>\n",
       "<tr>\n",
       "  <th>zipcode_98028</th> <td>   -0.2808</td> <td>    0.036</td> <td>   -7.756</td> <td> 0.000</td> <td>   -0.352</td> <td>   -0.210</td>\n",
       "</tr>\n",
       "<tr>\n",
       "  <th>zipcode_98029</th> <td>    0.3091</td> <td>    0.032</td> <td>    9.566</td> <td> 0.000</td> <td>    0.246</td> <td>    0.372</td>\n",
       "</tr>\n",
       "<tr>\n",
       "  <th>zipcode_98030</th> <td>   -0.0229</td> <td>    0.018</td> <td>   -1.238</td> <td> 0.216</td> <td>   -0.059</td> <td>    0.013</td>\n",
       "</tr>\n",
       "<tr>\n",
       "  <th>zipcode_98031</th> <td>   -0.0486</td> <td>    0.019</td> <td>   -2.536</td> <td> 0.011</td> <td>   -0.086</td> <td>   -0.011</td>\n",
       "</tr>\n",
       "<tr>\n",
       "  <th>zipcode_98032</th> <td>   -0.0861</td> <td>    0.022</td> <td>   -3.851</td> <td> 0.000</td> <td>   -0.130</td> <td>   -0.042</td>\n",
       "</tr>\n",
       "<tr>\n",
       "  <th>zipcode_98033</th> <td>    0.1305</td> <td>    0.036</td> <td>    3.593</td> <td> 0.000</td> <td>    0.059</td> <td>    0.202</td>\n",
       "</tr>\n",
       "<tr>\n",
       "  <th>zipcode_98034</th> <td>   -0.1470</td> <td>    0.036</td> <td>   -4.124</td> <td> 0.000</td> <td>   -0.217</td> <td>   -0.077</td>\n",
       "</tr>\n",
       "<tr>\n",
       "  <th>zipcode_98038</th> <td>    0.0907</td> <td>    0.019</td> <td>    4.866</td> <td> 0.000</td> <td>    0.054</td> <td>    0.127</td>\n",
       "</tr>\n",
       "<tr>\n",
       "  <th>zipcode_98039</th> <td>    0.5969</td> <td>    0.042</td> <td>   14.169</td> <td> 0.000</td> <td>    0.514</td> <td>    0.679</td>\n",
       "</tr>\n",
       "<tr>\n",
       "  <th>zipcode_98040</th> <td>    0.4576</td> <td>    0.026</td> <td>   17.502</td> <td> 0.000</td> <td>    0.406</td> <td>    0.509</td>\n",
       "</tr>\n",
       "<tr>\n",
       "  <th>zipcode_98042</th> <td>   -0.0060</td> <td>    0.017</td> <td>   -0.357</td> <td> 0.721</td> <td>   -0.039</td> <td>    0.027</td>\n",
       "</tr>\n",
       "<tr>\n",
       "  <th>zipcode_98045</th> <td>    0.2698</td> <td>    0.030</td> <td>    8.925</td> <td> 0.000</td> <td>    0.211</td> <td>    0.329</td>\n",
       "</tr>\n",
       "<tr>\n",
       "  <th>zipcode_98052</th> <td>    0.0711</td> <td>    0.038</td> <td>    1.851</td> <td> 0.064</td> <td>   -0.004</td> <td>    0.146</td>\n",
       "</tr>\n",
       "<tr>\n",
       "  <th>zipcode_98053</th> <td>    0.0932</td> <td>    0.038</td> <td>    2.438</td> <td> 0.015</td> <td>    0.018</td> <td>    0.168</td>\n",
       "</tr>\n",
       "<tr>\n",
       "  <th>zipcode_98055</th> <td>   -0.0288</td> <td>    0.021</td> <td>   -1.359</td> <td> 0.174</td> <td>   -0.070</td> <td>    0.013</td>\n",
       "</tr>\n",
       "<tr>\n",
       "  <th>zipcode_98056</th> <td>    0.0416</td> <td>    0.023</td> <td>    1.823</td> <td> 0.068</td> <td>   -0.003</td> <td>    0.086</td>\n",
       "</tr>\n",
       "<tr>\n",
       "  <th>zipcode_98058</th> <td>    0.0079</td> <td>    0.020</td> <td>    0.404</td> <td> 0.686</td> <td>   -0.031</td> <td>    0.046</td>\n",
       "</tr>\n",
       "<tr>\n",
       "  <th>zipcode_98059</th> <td>    0.0705</td> <td>    0.023</td> <td>    3.104</td> <td> 0.002</td> <td>    0.026</td> <td>    0.115</td>\n",
       "</tr>\n",
       "<tr>\n",
       "  <th>zipcode_98065</th> <td>    0.1847</td> <td>    0.031</td> <td>    6.006</td> <td> 0.000</td> <td>    0.124</td> <td>    0.245</td>\n",
       "</tr>\n",
       "<tr>\n",
       "  <th>zipcode_98070</th> <td>    0.1731</td> <td>    0.025</td> <td>    6.881</td> <td> 0.000</td> <td>    0.124</td> <td>    0.222</td>\n",
       "</tr>\n",
       "<tr>\n",
       "  <th>zipcode_98072</th> <td>   -0.1287</td> <td>    0.038</td> <td>   -3.409</td> <td> 0.001</td> <td>   -0.203</td> <td>   -0.055</td>\n",
       "</tr>\n",
       "<tr>\n",
       "  <th>zipcode_98074</th> <td>    0.1371</td> <td>    0.037</td> <td>    3.678</td> <td> 0.000</td> <td>    0.064</td> <td>    0.210</td>\n",
       "</tr>\n",
       "<tr>\n",
       "  <th>zipcode_98075</th> <td>    0.1770</td> <td>    0.034</td> <td>    5.163</td> <td> 0.000</td> <td>    0.110</td> <td>    0.244</td>\n",
       "</tr>\n",
       "<tr>\n",
       "  <th>zipcode_98077</th> <td>   -0.1284</td> <td>    0.039</td> <td>   -3.278</td> <td> 0.001</td> <td>   -0.205</td> <td>   -0.052</td>\n",
       "</tr>\n",
       "<tr>\n",
       "  <th>zipcode_98092</th> <td>    0.0429</td> <td>    0.016</td> <td>    2.605</td> <td> 0.009</td> <td>    0.011</td> <td>    0.075</td>\n",
       "</tr>\n",
       "<tr>\n",
       "  <th>zipcode_98102</th> <td>    0.1508</td> <td>    0.041</td> <td>    3.722</td> <td> 0.000</td> <td>    0.071</td> <td>    0.230</td>\n",
       "</tr>\n",
       "<tr>\n",
       "  <th>zipcode_98103</th> <td>    0.0173</td> <td>    0.036</td> <td>    0.486</td> <td> 0.627</td> <td>   -0.053</td> <td>    0.087</td>\n",
       "</tr>\n",
       "<tr>\n",
       "  <th>zipcode_98105</th> <td>    0.1645</td> <td>    0.037</td> <td>    4.496</td> <td> 0.000</td> <td>    0.093</td> <td>    0.236</td>\n",
       "</tr>\n",
       "<tr>\n",
       "  <th>zipcode_98106</th> <td>   -0.0133</td> <td>    0.024</td> <td>   -0.559</td> <td> 0.576</td> <td>   -0.060</td> <td>    0.033</td>\n",
       "</tr>\n",
       "<tr>\n",
       "  <th>zipcode_98107</th> <td>    0.0463</td> <td>    0.037</td> <td>    1.259</td> <td> 0.208</td> <td>   -0.026</td> <td>    0.118</td>\n",
       "</tr>\n",
       "<tr>\n",
       "  <th>zipcode_98108</th> <td>   -0.0033</td> <td>    0.026</td> <td>   -0.127</td> <td> 0.899</td> <td>   -0.054</td> <td>    0.048</td>\n",
       "</tr>\n",
       "<tr>\n",
       "  <th>zipcode_98109</th> <td>    0.1667</td> <td>    0.041</td> <td>    4.098</td> <td> 0.000</td> <td>    0.087</td> <td>    0.246</td>\n",
       "</tr>\n",
       "<tr>\n",
       "  <th>zipcode_98112</th> <td>    0.2724</td> <td>    0.035</td> <td>    7.771</td> <td> 0.000</td> <td>    0.204</td> <td>    0.341</td>\n",
       "</tr>\n",
       "<tr>\n",
       "  <th>zipcode_98115</th> <td>    0.0290</td> <td>    0.035</td> <td>    0.829</td> <td> 0.407</td> <td>   -0.040</td> <td>    0.097</td>\n",
       "</tr>\n",
       "<tr>\n",
       "  <th>zipcode_98116</th> <td>    0.2470</td> <td>    0.028</td> <td>    8.768</td> <td> 0.000</td> <td>    0.192</td> <td>    0.302</td>\n",
       "</tr>\n",
       "<tr>\n",
       "  <th>zipcode_98117</th> <td>    0.0310</td> <td>    0.035</td> <td>    0.877</td> <td> 0.380</td> <td>   -0.038</td> <td>    0.100</td>\n",
       "</tr>\n",
       "<tr>\n",
       "  <th>zipcode_98118</th> <td>    0.1315</td> <td>    0.023</td> <td>    5.819</td> <td> 0.000</td> <td>    0.087</td> <td>    0.176</td>\n",
       "</tr>\n",
       "<tr>\n",
       "  <th>zipcode_98119</th> <td>    0.2056</td> <td>    0.038</td> <td>    5.374</td> <td> 0.000</td> <td>    0.131</td> <td>    0.281</td>\n",
       "</tr>\n",
       "<tr>\n",
       "  <th>zipcode_98122</th> <td>    0.1001</td> <td>    0.033</td> <td>    3.055</td> <td> 0.002</td> <td>    0.036</td> <td>    0.164</td>\n",
       "</tr>\n",
       "<tr>\n",
       "  <th>zipcode_98125</th> <td>   -0.1984</td> <td>    0.035</td> <td>   -5.611</td> <td> 0.000</td> <td>   -0.268</td> <td>   -0.129</td>\n",
       "</tr>\n",
       "<tr>\n",
       "  <th>zipcode_98126</th> <td>    0.1662</td> <td>    0.025</td> <td>    6.758</td> <td> 0.000</td> <td>    0.118</td> <td>    0.214</td>\n",
       "</tr>\n",
       "<tr>\n",
       "  <th>zipcode_98133</th> <td>   -0.3040</td> <td>    0.035</td> <td>   -8.717</td> <td> 0.000</td> <td>   -0.372</td> <td>   -0.236</td>\n",
       "</tr>\n",
       "<tr>\n",
       "  <th>zipcode_98136</th> <td>    0.3345</td> <td>    0.025</td> <td>   13.426</td> <td> 0.000</td> <td>    0.286</td> <td>    0.383</td>\n",
       "</tr>\n",
       "<tr>\n",
       "  <th>zipcode_98144</th> <td>    0.0972</td> <td>    0.028</td> <td>    3.440</td> <td> 0.001</td> <td>    0.042</td> <td>    0.153</td>\n",
       "</tr>\n",
       "<tr>\n",
       "  <th>zipcode_98146</th> <td>    0.0536</td> <td>    0.022</td> <td>    2.412</td> <td> 0.016</td> <td>    0.010</td> <td>    0.097</td>\n",
       "</tr>\n",
       "<tr>\n",
       "  <th>zipcode_98148</th> <td>   -0.0177</td> <td>    0.033</td> <td>   -0.542</td> <td> 0.588</td> <td>   -0.082</td> <td>    0.046</td>\n",
       "</tr>\n",
       "<tr>\n",
       "  <th>zipcode_98155</th> <td>   -0.2974</td> <td>    0.035</td> <td>   -8.488</td> <td> 0.000</td> <td>   -0.366</td> <td>   -0.229</td>\n",
       "</tr>\n",
       "<tr>\n",
       "  <th>zipcode_98166</th> <td>    0.1634</td> <td>    0.021</td> <td>    7.878</td> <td> 0.000</td> <td>    0.123</td> <td>    0.204</td>\n",
       "</tr>\n",
       "<tr>\n",
       "  <th>zipcode_98168</th> <td>   -0.1248</td> <td>    0.022</td> <td>   -5.630</td> <td> 0.000</td> <td>   -0.168</td> <td>   -0.081</td>\n",
       "</tr>\n",
       "<tr>\n",
       "  <th>zipcode_98177</th> <td>   -0.0994</td> <td>    0.036</td> <td>   -2.780</td> <td> 0.005</td> <td>   -0.169</td> <td>   -0.029</td>\n",
       "</tr>\n",
       "<tr>\n",
       "  <th>zipcode_98178</th> <td>   -0.0575</td> <td>    0.022</td> <td>   -2.558</td> <td> 0.011</td> <td>   -0.102</td> <td>   -0.013</td>\n",
       "</tr>\n",
       "<tr>\n",
       "  <th>zipcode_98188</th> <td>   -0.0526</td> <td>    0.024</td> <td>   -2.200</td> <td> 0.028</td> <td>   -0.099</td> <td>   -0.006</td>\n",
       "</tr>\n",
       "<tr>\n",
       "  <th>zipcode_98198</th> <td>   -0.0045</td> <td>    0.018</td> <td>   -0.249</td> <td> 0.804</td> <td>   -0.040</td> <td>    0.031</td>\n",
       "</tr>\n",
       "<tr>\n",
       "  <th>zipcode_98199</th> <td>    0.1089</td> <td>    0.036</td> <td>    3.053</td> <td> 0.002</td> <td>    0.039</td> <td>    0.179</td>\n",
       "</tr>\n",
       "</table>\n",
       "<table class=\"simpletable\">\n",
       "<tr>\n",
       "  <th>Omnibus:</th>       <td>1037.471</td> <th>  Durbin-Watson:     </th> <td>   2.013</td>\n",
       "</tr>\n",
       "<tr>\n",
       "  <th>Prob(Omnibus):</th>  <td> 0.000</td>  <th>  Jarque-Bera (JB):  </th> <td>4036.559</td>\n",
       "</tr>\n",
       "<tr>\n",
       "  <th>Skew:</th>           <td>-0.173</td>  <th>  Prob(JB):          </th> <td>    0.00</td>\n",
       "</tr>\n",
       "<tr>\n",
       "  <th>Kurtosis:</th>       <td> 5.342</td>  <th>  Cond. No.          </th> <td>1.93e+12</td>\n",
       "</tr>\n",
       "</table><br/><br/>Notes:<br/>[1] Standard Errors assume that the covariance matrix of the errors is correctly specified.<br/>[2] The condition number is large, 1.93e+12. This might indicate that there are<br/>strong multicollinearity or other numerical problems."
      ],
      "text/plain": [
       "<class 'statsmodels.iolib.summary.Summary'>\n",
       "\"\"\"\n",
       "                            OLS Regression Results                            \n",
       "==============================================================================\n",
       "Dep. Variable:              log_price   R-squared:                       0.872\n",
       "Model:                            OLS   Adj. R-squared:                  0.871\n",
       "Method:                 Least Squares   F-statistic:                     1328.\n",
       "Date:                Fri, 12 Mar 2021   Prob (F-statistic):               0.00\n",
       "Time:                        12:48:02   Log-Likelihood:                 4297.2\n",
       "No. Observations:               17290   AIC:                            -8416.\n",
       "Df Residuals:                   17201   BIC:                            -7726.\n",
       "Df Model:                          88                                         \n",
       "Covariance Type:            nonrobust                                         \n",
       "=================================================================================\n",
       "                    coef    std err          t      P>|t|      [0.025      0.975]\n",
       "---------------------------------------------------------------------------------\n",
       "Intercept        11.8537      0.050    237.658      0.000      11.756      11.952\n",
       "amazon           -0.0575      0.003    -19.711      0.000      -0.063      -0.052\n",
       "boeing            0.0429      0.003     16.667      0.000       0.038       0.048\n",
       "microsoft        -0.0011      0.002     -0.500      0.617      -0.005       0.003\n",
       "reno_size      3.827e-05   2.97e-06     12.873      0.000    3.24e-05    4.41e-05\n",
       "yard_size2    -1.787e-12   2.56e-13     -6.975      0.000   -2.29e-12   -1.28e-12\n",
       "bathrooms         0.0370      0.003     12.089      0.000       0.031       0.043\n",
       "waterfront_1      0.6588      0.017     39.242      0.000       0.626       0.692\n",
       "new_grades_2      0.1167      0.005     21.798      0.000       0.106       0.127\n",
       "sqft_living       0.0003   2.55e-05     11.559      0.000       0.000       0.000\n",
       "sqft_lot       1.765e-06   1.28e-07     13.775      0.000    1.51e-06    2.02e-06\n",
       "sqft_living15     0.0001   3.68e-06     36.248      0.000       0.000       0.000\n",
       "sqft_lot15    -3.155e-07   9.99e-08     -3.158      0.002   -5.11e-07    -1.2e-07\n",
       "sqft_basement    -0.0001   2.51e-05     -5.087      0.000      -0.000   -7.86e-05\n",
       "sqft_above    -5.641e-05   2.51e-05     -2.250      0.024      -0.000   -7.26e-06\n",
       "new_grades_3      0.1969      0.009     21.053      0.000       0.179       0.215\n",
       "condition_2       0.2246      0.042      5.351      0.000       0.142       0.307\n",
       "condition_3       0.3595      0.039      9.230      0.000       0.283       0.436\n",
       "condition_4       0.4126      0.039     10.583      0.000       0.336       0.489\n",
       "condition_5       0.4791      0.039     12.213      0.000       0.402       0.556\n",
       "zipcode_98002    -0.0341      0.019     -1.790      0.073      -0.072       0.003\n",
       "zipcode_98003     0.0016      0.017      0.093      0.926      -0.032       0.035\n",
       "zipcode_98004     0.5271      0.032     16.263      0.000       0.464       0.591\n",
       "zipcode_98005     0.2094      0.036      5.862      0.000       0.139       0.279\n",
       "zipcode_98006     0.2753      0.028      9.797      0.000       0.220       0.330\n",
       "zipcode_98007     0.1549      0.038      4.081      0.000       0.080       0.229\n",
       "zipcode_98008     0.1941      0.038      5.145      0.000       0.120       0.268\n",
       "zipcode_98010     0.2202      0.027      8.065      0.000       0.167       0.274\n",
       "zipcode_98011    -0.2261      0.037     -6.035      0.000      -0.300      -0.153\n",
       "zipcode_98014    -0.0207      0.039     -0.530      0.596      -0.097       0.056\n",
       "zipcode_98019    -0.1364      0.039     -3.470      0.001      -0.214      -0.059\n",
       "zipcode_98022     0.1971      0.022      8.824      0.000       0.153       0.241\n",
       "zipcode_98023    -0.0331      0.015     -2.190      0.029      -0.063      -0.003\n",
       "zipcode_98024     0.1561      0.038      4.114      0.000       0.082       0.230\n",
       "zipcode_98027     0.2240      0.028      8.003      0.000       0.169       0.279\n",
       "zipcode_98028    -0.2808      0.036     -7.756      0.000      -0.352      -0.210\n",
       "zipcode_98029     0.3091      0.032      9.566      0.000       0.246       0.372\n",
       "zipcode_98030    -0.0229      0.018     -1.238      0.216      -0.059       0.013\n",
       "zipcode_98031    -0.0486      0.019     -2.536      0.011      -0.086      -0.011\n",
       "zipcode_98032    -0.0861      0.022     -3.851      0.000      -0.130      -0.042\n",
       "zipcode_98033     0.1305      0.036      3.593      0.000       0.059       0.202\n",
       "zipcode_98034    -0.1470      0.036     -4.124      0.000      -0.217      -0.077\n",
       "zipcode_98038     0.0907      0.019      4.866      0.000       0.054       0.127\n",
       "zipcode_98039     0.5969      0.042     14.169      0.000       0.514       0.679\n",
       "zipcode_98040     0.4576      0.026     17.502      0.000       0.406       0.509\n",
       "zipcode_98042    -0.0060      0.017     -0.357      0.721      -0.039       0.027\n",
       "zipcode_98045     0.2698      0.030      8.925      0.000       0.211       0.329\n",
       "zipcode_98052     0.0711      0.038      1.851      0.064      -0.004       0.146\n",
       "zipcode_98053     0.0932      0.038      2.438      0.015       0.018       0.168\n",
       "zipcode_98055    -0.0288      0.021     -1.359      0.174      -0.070       0.013\n",
       "zipcode_98056     0.0416      0.023      1.823      0.068      -0.003       0.086\n",
       "zipcode_98058     0.0079      0.020      0.404      0.686      -0.031       0.046\n",
       "zipcode_98059     0.0705      0.023      3.104      0.002       0.026       0.115\n",
       "zipcode_98065     0.1847      0.031      6.006      0.000       0.124       0.245\n",
       "zipcode_98070     0.1731      0.025      6.881      0.000       0.124       0.222\n",
       "zipcode_98072    -0.1287      0.038     -3.409      0.001      -0.203      -0.055\n",
       "zipcode_98074     0.1371      0.037      3.678      0.000       0.064       0.210\n",
       "zipcode_98075     0.1770      0.034      5.163      0.000       0.110       0.244\n",
       "zipcode_98077    -0.1284      0.039     -3.278      0.001      -0.205      -0.052\n",
       "zipcode_98092     0.0429      0.016      2.605      0.009       0.011       0.075\n",
       "zipcode_98102     0.1508      0.041      3.722      0.000       0.071       0.230\n",
       "zipcode_98103     0.0173      0.036      0.486      0.627      -0.053       0.087\n",
       "zipcode_98105     0.1645      0.037      4.496      0.000       0.093       0.236\n",
       "zipcode_98106    -0.0133      0.024     -0.559      0.576      -0.060       0.033\n",
       "zipcode_98107     0.0463      0.037      1.259      0.208      -0.026       0.118\n",
       "zipcode_98108    -0.0033      0.026     -0.127      0.899      -0.054       0.048\n",
       "zipcode_98109     0.1667      0.041      4.098      0.000       0.087       0.246\n",
       "zipcode_98112     0.2724      0.035      7.771      0.000       0.204       0.341\n",
       "zipcode_98115     0.0290      0.035      0.829      0.407      -0.040       0.097\n",
       "zipcode_98116     0.2470      0.028      8.768      0.000       0.192       0.302\n",
       "zipcode_98117     0.0310      0.035      0.877      0.380      -0.038       0.100\n",
       "zipcode_98118     0.1315      0.023      5.819      0.000       0.087       0.176\n",
       "zipcode_98119     0.2056      0.038      5.374      0.000       0.131       0.281\n",
       "zipcode_98122     0.1001      0.033      3.055      0.002       0.036       0.164\n",
       "zipcode_98125    -0.1984      0.035     -5.611      0.000      -0.268      -0.129\n",
       "zipcode_98126     0.1662      0.025      6.758      0.000       0.118       0.214\n",
       "zipcode_98133    -0.3040      0.035     -8.717      0.000      -0.372      -0.236\n",
       "zipcode_98136     0.3345      0.025     13.426      0.000       0.286       0.383\n",
       "zipcode_98144     0.0972      0.028      3.440      0.001       0.042       0.153\n",
       "zipcode_98146     0.0536      0.022      2.412      0.016       0.010       0.097\n",
       "zipcode_98148    -0.0177      0.033     -0.542      0.588      -0.082       0.046\n",
       "zipcode_98155    -0.2974      0.035     -8.488      0.000      -0.366      -0.229\n",
       "zipcode_98166     0.1634      0.021      7.878      0.000       0.123       0.204\n",
       "zipcode_98168    -0.1248      0.022     -5.630      0.000      -0.168      -0.081\n",
       "zipcode_98177    -0.0994      0.036     -2.780      0.005      -0.169      -0.029\n",
       "zipcode_98178    -0.0575      0.022     -2.558      0.011      -0.102      -0.013\n",
       "zipcode_98188    -0.0526      0.024     -2.200      0.028      -0.099      -0.006\n",
       "zipcode_98198    -0.0045      0.018     -0.249      0.804      -0.040       0.031\n",
       "zipcode_98199     0.1089      0.036      3.053      0.002       0.039       0.179\n",
       "==============================================================================\n",
       "Omnibus:                     1037.471   Durbin-Watson:                   2.013\n",
       "Prob(Omnibus):                  0.000   Jarque-Bera (JB):             4036.559\n",
       "Skew:                          -0.173   Prob(JB):                         0.00\n",
       "Kurtosis:                       5.342   Cond. No.                     1.93e+12\n",
       "==============================================================================\n",
       "\n",
       "Notes:\n",
       "[1] Standard Errors assume that the covariance matrix of the errors is correctly specified.\n",
       "[2] The condition number is large, 1.93e+12. This might indicate that there are\n",
       "strong multicollinearity or other numerical problems.\n",
       "\"\"\""
      ]
     },
     "execution_count": 68,
     "metadata": {},
     "output_type": "execute_result"
    }
   ],
   "source": [
    "outcome = 'log_price'\n",
    "x_cols = columns_to_use\n",
    "predictors = '+'.join(x_cols)\n",
    "formula = outcome + '~' + predictors\n",
    "model = ols(formula=formula, data=df).fit()\n",
    "model.summary()"
   ]
  },
  {
   "cell_type": "markdown",
   "metadata": {},
   "source": [
    "The coefficient of determination has improved! Now I will check the errors and predictions."
   ]
  },
  {
   "cell_type": "code",
   "execution_count": 69,
   "metadata": {},
   "outputs": [
    {
     "data": {
      "text/plain": [
       "LinearRegression()"
      ]
     },
     "execution_count": 69,
     "metadata": {},
     "output_type": "execute_result"
    }
   ],
   "source": [
    "lm_log = LinearRegression()\n",
    "\n",
    "#fitting it to the data\n",
    "lm_log.fit(df[columns_to_use], df['log_price'])"
   ]
  },
  {
   "cell_type": "code",
   "execution_count": 70,
   "metadata": {},
   "outputs": [
    {
     "data": {
      "text/plain": [
       "array([ 371325.40648883,  885483.72130387, 1150434.16389321,\n",
       "       1371744.85132061,  601686.73200846])"
      ]
     },
     "execution_count": 70,
     "metadata": {},
     "output_type": "execute_result"
    }
   ],
   "source": [
    "#generating predictions\n",
    "y_log_pred = lm_log.predict(df[columns_to_use])\n",
    "\n",
    "#exponentiating them to make them readable\n",
    "y_log_exp = np.exp(y_log_pred)\n",
    "y_log_exp[:5]"
   ]
  },
  {
   "cell_type": "code",
   "execution_count": 71,
   "metadata": {},
   "outputs": [
    {
     "name": "stdout",
     "output_type": "stream",
     "text": [
      "79371.57979148459\n",
      "149349.32359257643\n"
     ]
    }
   ],
   "source": [
    "mae = metrics.mean_absolute_error(df['price'], y_log_exp)\n",
    "mse = metrics.mean_squared_error(df['price'], y_log_exp)\n",
    "rmse = np.sqrt(mse)\n",
    "\n",
    "print(mae)\n",
    "print(rmse)"
   ]
  },
  {
   "cell_type": "markdown",
   "metadata": {},
   "source": [
    ">The RMSE here tells us that the square root of the average of squared differences between the predictions and actual observation is around 149349. This is an improvement from the previous model. I will also check the assumptions for this."
   ]
  },
  {
   "cell_type": "markdown",
   "metadata": {},
   "source": [
    "#### Linearity"
   ]
  },
  {
   "cell_type": "code",
   "execution_count": 72,
   "metadata": {},
   "outputs": [
    {
     "data": {
      "image/png": "[encoded data removed]",
      "text/plain": [
       "<Figure size 432x288 with 1 Axes>"
      ]
     },
     "metadata": {},
     "output_type": "display_data"
    }
   ],
   "source": [
    "#The trend between log_price and log_predicted price is generally linear\n",
    "plt.scatter( df['log_price'], y_log_pred)\n",
    "plt.xlabel(\"True Values\")\n",
    "plt.ylabel(\"Predictions\");"
   ]
  },
  {
   "cell_type": "markdown",
   "metadata": {},
   "source": [
    "#### Independence of Errors / Equal Variances"
   ]
  },
  {
   "cell_type": "code",
   "execution_count": 73,
   "metadata": {},
   "outputs": [
    {
     "name": "stderr",
     "output_type": "stream",
     "text": [
      "/opt/anaconda3/envs/learn-env/lib/python3.8/site-packages/seaborn/_decorators.py:36: FutureWarning: Pass the following variables as keyword args: x, y. From version 0.12, the only valid positional argument will be `data`, and passing other arguments without an explicit keyword will result in an error or misinterpretation.\n",
      "  warnings.warn(\n"
     ]
    },
    {
     "data": {
      "text/plain": [
       "<AxesSubplot:ylabel='log_price'>"
      ]
     },
     "execution_count": 73,
     "metadata": {},
     "output_type": "execute_result"
    },
    {
     "data": {
      "image/png": "[encoded data removed]",
      "text/plain": [
       "<Figure size 432x288 with 1 Axes>"
      ]
     },
     "metadata": {},
     "output_type": "display_data"
    }
   ],
   "source": [
    "sns.residplot(y_log_pred, df['log_price'], lowess=True, color=\"b\")"
   ]
  },
  {
   "cell_type": "markdown",
   "metadata": {},
   "source": [
    "> The independence of errors looks more homoscedastic."
   ]
  },
  {
   "cell_type": "markdown",
   "metadata": {},
   "source": [
    "#### Normality of Errors"
   ]
  },
  {
   "cell_type": "code",
   "execution_count": 74,
   "metadata": {},
   "outputs": [
    {
     "name": "stderr",
     "output_type": "stream",
     "text": [
      "/opt/anaconda3/envs/learn-env/lib/python3.8/site-packages/seaborn/distributions.py:2551: FutureWarning: `distplot` is a deprecated function and will be removed in a future version. Please adapt your code to use either `displot` (a figure-level function with similar flexibility) or `histplot` (an axes-level function for histograms).\n",
      "  warnings.warn(msg, FutureWarning)\n",
      "/opt/anaconda3/envs/learn-env/lib/python3.8/site-packages/seaborn/distributions.py:2055: FutureWarning: The `axis` variable is no longer used and will be removed. Instead, assign variables directly to `x` or `y`.\n",
      "  warnings.warn(msg, FutureWarning)\n"
     ]
    },
    {
     "data": {
      "image/png": "[encoded data removed]",
      "text/plain": [
       "<Figure size 432x288 with 1 Axes>"
      ]
     },
     "metadata": {},
     "output_type": "display_data"
    }
   ],
   "source": [
    "residuals =  df['log_price']- y_log_pred\n",
    "sns.distplot(residuals, kde=True, rug=True);"
   ]
  },
  {
   "cell_type": "markdown",
   "metadata": {},
   "source": [
    "> The residuals are now much more normally distributed."
   ]
  },
  {
   "cell_type": "markdown",
   "metadata": {},
   "source": [
    "# ***Train/Test Split***"
   ]
  },
  {
   "cell_type": "markdown",
   "metadata": {},
   "source": [
    "Now that I have a more favorable model with the log of price, I am going to perform a train test split of the data."
   ]
  },
  {
   "cell_type": "code",
   "execution_count": 75,
   "metadata": {},
   "outputs": [],
   "source": [
    "#renaming the independent and dependent variables\n",
    "df_features = df[columns_to_use]\n",
    "#the target is the LOG of price\n",
    "target = df['price']\n",
    "\n",
    "from sklearn.model_selection import train_test_split\n",
    "X_train, X_test, y_train, y_test = train_test_split(df_features, target, random_state=8, test_size=.2)"
   ]
  },
  {
   "cell_type": "code",
   "execution_count": 76,
   "metadata": {},
   "outputs": [
    {
     "name": "stdout",
     "output_type": "stream",
     "text": [
      "Training RMSE: 150072.0316756194\n"
     ]
    }
   ],
   "source": [
    "#logging price variable\n",
    "y_log = np.log(y_train)\n",
    "\n",
    "lm = LinearRegression()\n",
    "\n",
    "#fitting the training model\n",
    "lm = lm.fit(X_train, y_log)\n",
    "\n",
    "#getting predictions\n",
    "log_train_pred = lm.predict(X_train)\n",
    "#Exponentiating because the y_train is already logged\n",
    "y_train_pred = np.exp(log_train_pred)\n",
    "\n",
    "train_rmse = np.sqrt(metrics.mean_squared_error(y_train, y_train_pred))\n",
    "\n",
    "\n",
    "print('Training RMSE:' , train_rmse)"
   ]
  },
  {
   "cell_type": "code",
   "execution_count": 77,
   "metadata": {},
   "outputs": [
    {
     "name": "stdout",
     "output_type": "stream",
     "text": [
      "Testing RMSE: 138692.42785678388\n",
      "Training RMSE:  150072 , Testing RMSE:  138692\n"
     ]
    }
   ],
   "source": [
    "#use fitted model to predict on the test examples\n",
    "log_test_pred = lm.predict(X_test)\n",
    "y_test_pred = np.exp(log_test_pred)\n",
    "\n",
    "#evaluate the predictions on the test examples\n",
    "test_rmse = np.sqrt(metrics.mean_squared_error(y_test, y_test_pred))\n",
    "\n",
    "print('Testing RMSE:' , test_rmse)\n",
    "\n",
    "\n",
    "print('Training RMSE: ', int(train_rmse), \", Testing RMSE: \", int(test_rmse))"
   ]
  },
  {
   "cell_type": "markdown",
   "metadata": {},
   "source": [
    "According to these RMSE results, doesn't look overfit. I would like to try a quick feature selection to see if I can make another improvement."
   ]
  },
  {
   "cell_type": "markdown",
   "metadata": {},
   "source": [
    "# ***Implementing SelectKBest***"
   ]
  },
  {
   "cell_type": "markdown",
   "metadata": {},
   "source": [
    "I am making another attempt at improving the model."
   ]
  },
  {
   "cell_type": "code",
   "execution_count": 78,
   "metadata": {},
   "outputs": [
    {
     "data": {
      "text/plain": [
       "SelectKBest(k=60, score_func=<function f_regression at 0x7ff368219e50>)"
      ]
     },
     "execution_count": 78,
     "metadata": {},
     "output_type": "execute_result"
    }
   ],
   "source": [
    "from sklearn.feature_selection import SelectKBest, f_regression, mutual_info_regression\n",
    "\n",
    "selector = SelectKBest(f_regression, k=60)\n",
    "\n",
    "selector.fit(X_train, y_train)"
   ]
  },
  {
   "cell_type": "code",
   "execution_count": 79,
   "metadata": {},
   "outputs": [
    {
     "data": {
      "text/plain": [
       "Index(['amazon', 'boeing', 'microsoft', 'reno_size', 'yard_size2'], dtype='object')"
      ]
     },
     "execution_count": 79,
     "metadata": {},
     "output_type": "execute_result"
    }
   ],
   "source": [
    "selected_columns = X_train.columns[selector.get_support()]\n",
    "removed_columns = X_train.columns[~selector.get_support()]\n",
    "#showing the first 5 of the selected columns\n",
    "selected_columns[:5]"
   ]
  },
  {
   "cell_type": "code",
   "execution_count": 80,
   "metadata": {},
   "outputs": [
    {
     "name": "stdout",
     "output_type": "stream",
     "text": [
      "Training Root Mean Squared Error: 169520.05989292738\n",
      "Testing Root Mean Squared Error: 168248.45962143815\n"
     ]
    }
   ],
   "source": [
    "#instantiate a linear regression object\n",
    "lm_kbest = LinearRegression()\n",
    "\n",
    "#fit the linear regression to the data\n",
    "lm_kbest.fit(X_train[selected_columns], y_train)\n",
    "\n",
    "y_train_kbest = lm_kbest.predict(X_train[selected_columns])\n",
    "\n",
    "\n",
    "trainK_rmse = np.sqrt(metrics.mean_squared_error(y_train, y_train_kbest))\n",
    "\n",
    "\n",
    "print('Training Root Mean Squared Error:' , trainK_rmse)\n",
    "\n",
    "y_kbest = lm_kbest.predict(X_test[selected_columns])\n",
    "\n",
    "testK_rmse = np.sqrt(metrics.mean_squared_error(y_test, y_kbest))\n",
    "\n",
    "print('Testing Root Mean Squared Error:' , testK_rmse)\n",
    "\n"
   ]
  },
  {
   "cell_type": "markdown",
   "metadata": {},
   "source": [
    "# ***Model Decision***"
   ]
  },
  {
   "cell_type": "code",
   "execution_count": 81,
   "metadata": {},
   "outputs": [
    {
     "name": "stdout",
     "output_type": "stream",
     "text": [
      "Log \n",
      "Train: 150072.0316756194 Test: 138692.42785678388 \n",
      "SKB \n",
      "Train: 169520.05989292738, Test: 168248.45962143815\n"
     ]
    }
   ],
   "source": [
    "print(f'Log \\nTrain: {train_rmse} Test: {test_rmse} \\nSKB \\nTrain: {trainK_rmse}, Test: {testK_rmse}')"
   ]
  },
  {
   "cell_type": "markdown",
   "metadata": {},
   "source": [
    "First I made the decision to log target in the model because it created a more linear fit and better predictions on the target. From the two models I ran above I decided to go with the original Log model because the predictions were closer to the target."
   ]
  },
  {
   "cell_type": "markdown",
   "metadata": {},
   "source": [
    "# ***Fitting the Final Model / Pickling***"
   ]
  },
  {
   "cell_type": "code",
   "execution_count": 82,
   "metadata": {},
   "outputs": [],
   "source": [
    "lm_final = LinearRegression()\n",
    "\n",
    "#fit the linear regression to the data\n",
    "lm_final = lm.fit(df[columns_to_use], np.log(df['price']))"
   ]
  },
  {
   "cell_type": "code",
   "execution_count": 83,
   "metadata": {},
   "outputs": [
    {
     "data": {
      "text/plain": [
       "88"
      ]
     },
     "execution_count": 83,
     "metadata": {},
     "output_type": "execute_result"
    }
   ],
   "source": [
    "len(columns_to_use)"
   ]
  },
  {
   "cell_type": "code",
   "execution_count": 84,
   "metadata": {},
   "outputs": [
    {
     "data": {
      "text/plain": [
       "88"
      ]
     },
     "execution_count": 84,
     "metadata": {},
     "output_type": "execute_result"
    }
   ],
   "source": [
    "len(lm.coef_)"
   ]
  },
  {
   "cell_type": "code",
   "execution_count": 85,
   "metadata": {},
   "outputs": [],
   "source": [
    "import pickle\n",
    "\n",
    "\n",
    "pickle_out = open(\"Data/model.pickle\",\"wb\")\n",
    "pickle.dump(lm_final, pickle_out)\n",
    "pickle_out.close()\n"
   ]
  }
 ],
 "metadata": {
  "kernelspec": {
   "display_name": "learn-env",
   "language": "python",
   "name": "learn-env"
  },
  "language_info": {
   "codemirror_mode": {
    "name": "ipython",
    "version": 3
   },
   "file_extension": ".py",
   "mimetype": "text/x-python",
   "name": "python",
   "nbconvert_exporter": "python",
   "pygments_lexer": "ipython3",
   "version": "3.8.5"
  }
 },
 "nbformat": 4,
 "nbformat_minor": 4
}
